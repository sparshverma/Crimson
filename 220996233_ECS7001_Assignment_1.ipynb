{
  "cells": [
    {
      "cell_type": "markdown",
      "metadata": {
        "id": "SQDE1Dsdwect"
      },
      "source": [
        "# **Part A: Word Embeddings with Word2Vec**"
      ]
    },
    {
      "cell_type": "code",
      "execution_count": 44,
      "metadata": {
        "colab": {
          "base_uri": "https://localhost:8080/"
        },
        "id": "AM7WGstyr3TK",
        "outputId": "b5424c7e-4c3d-400a-f685-e7513156b7e2"
      },
      "outputs": [
        {
          "output_type": "stream",
          "name": "stderr",
          "text": [
            "[nltk_data] Downloading package punkt to /root/nltk_data...\n",
            "[nltk_data]   Unzipping tokenizers/punkt.zip.\n",
            "[nltk_data] Downloading package gutenberg to /root/nltk_data...\n",
            "[nltk_data]   Unzipping corpora/gutenberg.zip.\n",
            "[nltk_data] Downloading package stopwords to /root/nltk_data...\n",
            "[nltk_data]   Unzipping corpora/stopwords.zip.\n"
          ]
        }
      ],
      "source": [
        "import nltk\n",
        "import numpy as np\n",
        "import string\n",
        "nltk.download('punkt')\n",
        "nltk.download('gutenberg')\n",
        "nltk.download('stopwords')\n",
        "from nltk.corpus import gutenberg\n",
        "austen = gutenberg.sents('austen-sense.txt')+gutenberg.sents('austen-emma.txt')+gutenberg.sents('austen-persuasion.txt')"
      ]
    },
    {
      "cell_type": "code",
      "execution_count": null,
      "metadata": {
        "colab": {
          "base_uri": "https://localhost:8080/"
        },
        "id": "z_ooH4PzsCEo",
        "outputId": "c7db102c-282a-467b-f579-daeb58a8fc25"
      },
      "outputs": [
        {
          "name": "stdout",
          "output_type": "stream",
          "text": [
            "16463\n"
          ]
        }
      ],
      "source": [
        "print(len(austen))"
      ]
    },
    {
      "cell_type": "code",
      "execution_count": null,
      "metadata": {
        "colab": {
          "base_uri": "https://localhost:8080/"
        },
        "id": "iyZh0ChasGmJ",
        "outputId": "c9361b9a-87aa-4aa0-a2b1-770186c8998d"
      },
      "outputs": [
        {
          "data": {
            "text/plain": [
              "[['[', 'Sense', 'and', 'Sensibility', 'by', 'Jane', 'Austen', '1811', ']'],\n",
              " ['CHAPTER', '1'],\n",
              " ['The',\n",
              "  'family',\n",
              "  'of',\n",
              "  'Dashwood',\n",
              "  'had',\n",
              "  'long',\n",
              "  'been',\n",
              "  'settled',\n",
              "  'in',\n",
              "  'Sussex',\n",
              "  '.']]"
            ]
          },
          "execution_count": 3,
          "metadata": {},
          "output_type": "execute_result"
        }
      ],
      "source": [
        "austen[:3]"
      ]
    },
    {
      "cell_type": "code",
      "execution_count": null,
      "metadata": {
        "colab": {
          "base_uri": "https://localhost:8080/"
        },
        "id": "5sFPo-PCsIl2",
        "outputId": "bb674dc9-e126-4212-c561-ea582b6419ef"
      },
      "outputs": [
        {
          "name": "stderr",
          "output_type": "stream",
          "text": [
            "[nltk_data] Downloading package stopwords to /root/nltk_data...\n",
            "[nltk_data]   Package stopwords is already up-to-date!\n"
          ]
        }
      ],
      "source": [
        "from tensorflow.keras import preprocessing \n",
        "from nltk.corpus import stopwords \n",
        "import re\n",
        "stop_words = set(stopwords.words('english')) \n",
        "nltk.download('stopwords')\n",
        "normalized_corpus_temp = []\n",
        "text = [token for alist in austen for token in alist ]\n",
        "for tokenList in austen:\n",
        "    normalisedTokenList = preprocessing.text.text_to_word_sequence(' '.join(tokenList), filters='!\"#$%&()*+,-./:;<=>?@[\\\\]^_`{|}~\\t\\n', lower=True, split=' ')\n",
        "    normalisedTokenList = [w for w in normalisedTokenList if not w in stop_words]\n",
        "    normalisedTokenList = [w for w in normalisedTokenList if not w in string.punctuation]\n",
        "    normalisedTokenList = [w for w in normalisedTokenList if not re.search(r'\\d',w) ]\n",
        "    \n",
        "    normalized_corpus_temp.append(normalisedTokenList)\n",
        "normalized_corpus = [' '.join(w) for w in normalized_corpus_temp if w and len(w) > 3]\n",
        "normalized_corpus_tokens = [w for w in normalized_corpus_temp if w and len(w) > 3]"
      ]
    },
    {
      "cell_type": "code",
      "execution_count": null,
      "metadata": {
        "colab": {
          "base_uri": "https://localhost:8080/"
        },
        "id": "IgbOU51FsLdC",
        "outputId": "3b999b08-d2f5-4992-a09a-3a44c834ca00"
      },
      "outputs": [
        {
          "data": {
            "text/plain": [
              "12498"
            ]
          },
          "execution_count": 5,
          "metadata": {},
          "output_type": "execute_result"
        }
      ],
      "source": [
        "len(normalized_corpus)"
      ]
    },
    {
      "cell_type": "code",
      "execution_count": null,
      "metadata": {
        "colab": {
          "base_uri": "https://localhost:8080/",
          "height": 53
        },
        "id": "OAc0YIx9sOtC",
        "outputId": "443741ee-550b-42de-dc52-15036735c8ca"
      },
      "outputs": [
        {
          "data": {
            "application/vnd.google.colaboratory.intrinsic+json": {
              "type": "string"
            },
            "text/plain": [
              "'therefore succession norland estate really important sisters fortune independent might arise father inheriting property could small'"
            ]
          },
          "execution_count": 6,
          "metadata": {},
          "output_type": "execute_result"
        }
      ],
      "source": [
        "normalized_corpus[10]"
      ]
    },
    {
      "cell_type": "code",
      "execution_count": null,
      "metadata": {
        "colab": {
          "base_uri": "https://localhost:8080/"
        },
        "id": "wwCeji5ysYDT",
        "outputId": "e0270691-815f-4906-f268-5b31982b6442"
      },
      "outputs": [
        {
          "data": {
            "text/plain": [
              "10038"
            ]
          },
          "execution_count": 7,
          "metadata": {},
          "output_type": "execute_result"
        }
      ],
      "source": [
        "import collections, itertools\n",
        "word_counter = collections.Counter(list(itertools.chain.from_iterable(normalized_corpus_tokens)))\n",
        "len(set(list(itertools.chain.from_iterable(normalized_corpus_tokens))))"
      ]
    },
    {
      "cell_type": "code",
      "execution_count": null,
      "metadata": {
        "id": "8CKNzrC_sa8O"
      },
      "outputs": [],
      "source": [
        "word_ids = list(set(list(itertools.chain.from_iterable(normalized_corpus_tokens))))"
      ]
    },
    {
      "cell_type": "code",
      "execution_count": null,
      "metadata": {
        "id": "7P8BfVoZsee_"
      },
      "outputs": [],
      "source": [
        "word2idx = {}\n",
        "word2idx = {token:id+1 for id,token in enumerate(word_ids)}\n",
        "idx2word = {v: k for k,v in word2idx.items()}"
      ]
    },
    {
      "cell_type": "code",
      "execution_count": null,
      "metadata": {
        "id": "bzNaIgA9shvk"
      },
      "outputs": [],
      "source": [
        "sents_as_ids = []\n",
        "for i in range(len(normalized_corpus_tokens)):\n",
        "    sents_as_ids.append([word2idx[j] for j in normalized_corpus_tokens[i]])\n",
        "vocab_size = len(word_ids) + 1\n",
        "embed_size = 100"
      ]
    },
    {
      "cell_type": "code",
      "execution_count": null,
      "metadata": {
        "colab": {
          "base_uri": "https://localhost:8080/"
        },
        "id": "nRJKDkyRs7SE",
        "outputId": "2c1cfb86-7255-469d-b455-267e5bcbcd98"
      },
      "outputs": [
        {
          "name": "stdout",
          "output_type": "stream",
          "text": [
            "Number of unique words: 10038\n"
          ]
        },
        {
          "data": {
            "text/plain": [
              "['agricultural',\n",
              " 'enumeration',\n",
              " 'share',\n",
              " 'habitation',\n",
              " 'impending',\n",
              " 'sample',\n",
              " 'unexhilarating',\n",
              " 'boils',\n",
              " 'clearest',\n",
              " 'note']"
            ]
          },
          "execution_count": 16,
          "metadata": {},
          "output_type": "execute_result"
        }
      ],
      "source": [
        "print('Number of unique words:', len(word_ids))\n",
        "word_ids[0:10]"
      ]
    },
    {
      "cell_type": "code",
      "execution_count": null,
      "metadata": {
        "colab": {
          "base_uri": "https://localhost:8080/"
        },
        "id": "iXKXFdmzs_4u",
        "outputId": "d4ac3a2b-dfdb-4573-da58-58a0499d11f9"
      },
      "outputs": [
        {
          "name": "stdout",
          "output_type": "stream",
          "text": [
            "\n",
            "Sample word2idx:  [('agricultural', 1), ('enumeration', 2), ('share', 3), ('habitation', 4), ('impending', 5), ('sample', 6), ('unexhilarating', 7), ('boils', 8), ('clearest', 9), ('note', 10)]\n"
          ]
        }
      ],
      "source": [
        "print('\\nSample word2idx: ', list(word2idx.items())[:10])"
      ]
    },
    {
      "cell_type": "code",
      "execution_count": null,
      "metadata": {
        "colab": {
          "base_uri": "https://localhost:8080/"
        },
        "id": "snLIJ75ttDgz",
        "outputId": "928cacb1-0961-4c85-c577-7c4da3b8ea04"
      },
      "outputs": [
        {
          "name": "stdout",
          "output_type": "stream",
          "text": [
            "\n",
            "Sample idx2word: [(1, 'agricultural'), (2, 'enumeration'), (3, 'share'), (4, 'habitation'), (5, 'impending'), (6, 'sample'), (7, 'unexhilarating'), (8, 'boils'), (9, 'clearest'), (10, 'note')]\n"
          ]
        }
      ],
      "source": [
        "print('\\nSample idx2word:', list(idx2word.items())[:10])"
      ]
    },
    {
      "cell_type": "code",
      "execution_count": null,
      "metadata": {
        "colab": {
          "base_uri": "https://localhost:8080/"
        },
        "id": "t-YGsxKwtIsc",
        "outputId": "991eda54-f819-4e0f-9749-b76853ae459a"
      },
      "outputs": [
        {
          "name": "stdout",
          "output_type": "stream",
          "text": [
            "\n",
            "Sample normalized corpus: ['sense sensibility jane austen', 'family dashwood long settled sussex', 'estate large residence norland park centre property many generations lived respectable manner engage general good opinion surrounding acquaintance']\n"
          ]
        }
      ],
      "source": [
        "print('\\nSample normalized corpus:', normalized_corpus[:3])"
      ]
    },
    {
      "cell_type": "code",
      "execution_count": null,
      "metadata": {
        "colab": {
          "base_uri": "https://localhost:8080/"
        },
        "id": "_YU24n6GtJXm",
        "outputId": "b56eef25-aea7-41f1-81bb-82999fe998f8"
      },
      "outputs": [
        {
          "name": "stdout",
          "output_type": "stream",
          "text": [
            "\n",
            "Above sentence as a list of ids: [[8252, 5848, 4618, 2226], [8480, 870, 2603, 2529, 4989], [9449, 4461, 84, 8766, 1738, 5557, 4215, 9790, 6997, 75, 2129, 3415, 9197, 8346, 9845, 4549, 3801, 3649], [3125, 6446, 9449, 8214, 4846, 75, 10034, 8062, 9790, 3019, 5669, 3793, 2123, 456, 815], [3996, 2114, 2557, 3019, 6138, 7570, 9469, 2707, 6447, 4427, 5412, 8291, 310, 8480, 118, 7967, 6753, 870, 154, 805, 8766, 9449, 829, 3816, 168], [3593, 118, 9099, 8227, 1879, 5992, 928, 5159, 2230], [3793, 6751, 7967, 6303, 6753, 870, 6064, 1337, 2567, 2070, 8425, 6789, 1520, 3488, 9467, 363, 14, 8062, 4214, 3764, 1367, 8227, 1763, 1401, 8551], [9314, 9771, 7967, 6753, 870, 2735, 1907, 5834, 5200, 799, 9417], [1907, 7889, 2129, 6739, 4846, 738, 1027, 9697, 941, 4461, 6019, 9737, 7921, 8062], [9771, 2282, 2114, 4580, 5526, 1763, 9450], [4253, 638, 8766, 9449, 8078, 2311, 1222, 9697, 2525, 1674, 9591, 7862, 6914, 4215, 4214, 7696], [941, 9287, 7862, 1726, 61, 561, 122, 5013, 8812, 8092, 7066, 9697, 7653, 1948, 5650, 5669, 2070], [1879, 5992, 2364, 2171, 1551, 2465, 3488, 1520, 5290, 1049, 2175], [9764, 8720, 8047, 7948, 9449, 118, 6262, 4689, 1736, 6019, 8982, 5638], [7967, 870, 5759, 3314, 7066, 9417, 1907, 1907, 1907, 1907, 5650, 8006, 3019, 1879, 1948, 271, 7948, 3943, 6587, 3378, 4523, 3502, 3105, 9449, 2956, 1667, 8498], [703, 1824, 33, 5650, 143, 4826, 7862, 941, 8766, 2071, 7438, 8943, 3786, 1744, 3534, 5971, 8227, 3574, 799, 3019, 1879, 3023, 5629, 5078, 956, 271, 9790, 5130, 2200, 7570, 7742, 647, 2405, 8982, 6751, 3019, 8291, 9099, 9417], [3897, 210, 387, 2291, 5154, 799, 7207, 6262, 61, 561, 2642], [7967, 870, 1049, 8092, 8746, 1167, 1665, 5284, 1674, 7275, 688, 7795, 9790, 3019, 614, 4776, 6585, 9080, 4023, 9937, 9449, 2025, 4461, 9040, 2465, 8253, 8361], [9697, 7842, 7921, 2735, 6584], [438, 3786, 3435, 2557, 61, 561, 6164, 3125, 9583, 3602, 8980, 9417], [1907, 8460, 4580, 7555, 341, 7967, 870, 4729, 3670, 1779, 7900, 4214, 4210, 2070, 941, 4002, 1222], [7967, 10004, 870, 2217, 5819, 3680, 8480, 4491, 6581, 3553, 562, 7011, 3488, 205, 3943, 4048, 7577], [7862, 4907, 9331, 8532, 7967, 10004, 870, 5558, 461, 5290, 1674, 2104, 3943], [6501, 3102, 6739, 4846, 4936, 2425, 3072, 3507, 2425, 8870, 6501, 3102, 8346, 1376, 1356, 9489, 216, 5250, 8456, 1414], [1418, 9720, 2604, 1674, 9318, 220, 2129, 1674, 6561, 9318, 9720, 6739, 1418, 1231, 7066], [6303, 10004, 870, 2217, 3169, 5424, 1775, 8870], [1520, 5755, 7862, 5994, 7823, 7615, 6324, 1222, 5834, 61, 561, 2642], [9434, 8006, 61, 7111, 1833, 5834, 7422, 6020, 5013, 6019, 941, 9697, 6813, 6789, 9318, 3532, 9040, 5153, 9148, 4281, 3352, 799, 61, 561, 4281, 3281, 7530], [4281, 9160, 4048, 2212, 9331], [4214, 5269, 9080, 4023, 351, 9933]]\n"
          ]
        }
      ],
      "source": [
        "print('\\nAbove sentence as a list of ids:' , sents_as_ids[:30])"
      ]
    },
    {
      "cell_type": "code",
      "execution_count": null,
      "metadata": {
        "id": "XipDrXCEtLwV"
      },
      "outputs": [],
      "source": [
        "from keras.preprocessing.sequence import skipgrams\n",
        "skip_grams=[skipgrams(sent, vocabulary_size=vocab_size, window_size=5, negative_samples=1.0) for sent in sents_as_ids]"
      ]
    },
    {
      "cell_type": "code",
      "execution_count": null,
      "metadata": {
        "colab": {
          "base_uri": "https://localhost:8080/"
        },
        "id": "pdNVd4PrtZAw",
        "outputId": "4af2d48b-d54b-41dd-9aa5-30407ba02fe7"
      },
      "outputs": [
        {
          "name": "stdout",
          "output_type": "stream",
          "text": [
            "(sense (8252), chooses (4755)) -> 0\n",
            "(sense (8252), austen (2226)) -> 1\n",
            "(sensibility (5848), quarters (3303)) -> 0\n",
            "(sensibility (5848), forgiven (2400)) -> 0\n",
            "(austen (2226), answer (3293)) -> 0\n",
            "(austen (2226), jane (4618)) -> 1\n",
            "(austen (2226), frightens (5022)) -> 0\n",
            "(jane (4618), unforeseen (7717)) -> 0\n",
            "(jane (4618), sensibility (5848)) -> 1\n",
            "(jane (4618), claiming (2514)) -> 0\n",
            "(austen (2226), sensibility (5848)) -> 1\n",
            "(sense (8252), sensibility (5848)) -> 1\n",
            "(jane (4618), sense (8252)) -> 1\n",
            "(jane (4618), accept (7387)) -> 0\n",
            "(sensibility (5848), keenly (2260)) -> 0\n",
            "(sense (8252), jane (4618)) -> 1\n",
            "(sensibility (5848), sense (8252)) -> 1\n",
            "(austen (2226), sense (8252)) -> 1\n",
            "(sensibility (5848), austen (2226)) -> 1\n",
            "(sensibility (5848), jane (4618)) -> 1\n",
            "(sense (8252), untried (5261)) -> 0\n",
            "(jane (4618), austen (2226)) -> 1\n",
            "(austen (2226), firmer (3645)) -> 0\n",
            "(sense (8252), freshened (2651)) -> 0\n"
          ]
        }
      ],
      "source": [
        "pairs, labels = skip_grams[0][0], skip_grams[0][1]\n",
        "for i in range(len(pairs)):\n",
        "    print('({:s} ({:d}), {:s} ({:d})) -> {:d}'.format(\n",
        "        # the first word and its index\n",
        "        idx2word[pairs[i][0]], pairs[i][0],\n",
        "        # the second word and its index\n",
        "        idx2word[pairs[i][1]], pairs[i][1],\n",
        "        # the label\n",
        "        labels[i]))"
      ]
    },
    {
      "cell_type": "code",
      "execution_count": null,
      "metadata": {
        "colab": {
          "base_uri": "https://localhost:8080/"
        },
        "id": "g0qq-8cctevc",
        "outputId": "a53d9ab5-d4e2-4cc5-d149-ed63f5659d0d"
      },
      "outputs": [
        {
          "name": "stdout",
          "output_type": "stream",
          "text": [
            "Looking in indexes: https://pypi.org/simple, https://us-python.pkg.dev/colab-wheels/public/simple/\n",
            "Requirement already satisfied: keras in /usr/local/lib/python3.8/dist-packages (2.11.0)\n"
          ]
        }
      ],
      "source": [
        "!pip install keras"
      ]
    },
    {
      "cell_type": "code",
      "execution_count": null,
      "metadata": {
        "id": "P64kLbxytbij"
      },
      "outputs": [],
      "source": [
        "from keras.layers import Dot, Input\n",
        "from keras.layers.core import Dense, Reshape\n",
        "from keras.layers import Embedding\n",
        "from keras.models import Model\n",
        "from keras.utils import plot_model"
      ]
    },
    {
      "cell_type": "code",
      "execution_count": null,
      "metadata": {
        "id": "0osczadsuE_d"
      },
      "outputs": [],
      "source": [
        "target_word = Input((1,), dtype='int32')\n",
        "target_embedding = Embedding(vocab_size,\n",
        "                             embed_size,\n",
        "                             name='target_embed_layer',\n",
        "                             embeddings_initializer='glorot_uniform',\n",
        "                             input_length=1)(target_word)\n",
        "target_input = Reshape((embed_size,))(target_embedding)"
      ]
    },
    {
      "cell_type": "code",
      "execution_count": null,
      "metadata": {
        "id": "KAvtdyUsuOxP"
      },
      "outputs": [],
      "source": [
        "context_word = Input((1,), dtype='int32')\n",
        "context_embedding = Embedding(vocab_size,\n",
        "                              embed_size,\n",
        "                              name='context_embed_layer',\n",
        "                              embeddings_initializer='glorot_uniform',\n",
        "                              input_length=1)(context_word)\n",
        "context_input = Reshape((embed_size,))(context_embedding)"
      ]
    },
    {
      "cell_type": "code",
      "execution_count": null,
      "metadata": {
        "id": "KjMVFvm_uRO4"
      },
      "outputs": [],
      "source": [
        "merged_inputs = Dot(axes=-1, normalize=False)([target_input, context_input])\n",
        "label = Dense(1, activation='sigmoid', kernel_initializer='glorot_uniform')(merged_inputs)\n",
        "model=Model(inputs=[target_word,context_word],outputs=[label])\n",
        "model.compile(loss = 'mean_squared_error',\n",
        "              optimizer = 'rmsprop')"
      ]
    },
    {
      "cell_type": "code",
      "execution_count": null,
      "metadata": {
        "colab": {
          "base_uri": "https://localhost:8080/"
        },
        "id": "BF_rn8DhuXyY",
        "outputId": "50e1577a-160e-4014-87ff-829d5f411060"
      },
      "outputs": [
        {
          "name": "stdout",
          "output_type": "stream",
          "text": [
            "Model: \"model\"\n",
            "__________________________________________________________________________________________________\n",
            " Layer (type)                   Output Shape         Param #     Connected to                     \n",
            "==================================================================================================\n",
            " input_2 (InputLayer)           [(None, 1)]          0           []                               \n",
            "                                                                                                  \n",
            " input_3 (InputLayer)           [(None, 1)]          0           []                               \n",
            "                                                                                                  \n",
            " target_embed_layer (Embedding)  (None, 1, 100)      1003900     ['input_2[0][0]']                \n",
            "                                                                                                  \n",
            " context_embed_layer (Embedding  (None, 1, 100)      1003900     ['input_3[0][0]']                \n",
            " )                                                                                                \n",
            "                                                                                                  \n",
            " reshape (Reshape)              (None, 100)          0           ['target_embed_layer[0][0]']     \n",
            "                                                                                                  \n",
            " reshape_1 (Reshape)            (None, 100)          0           ['context_embed_layer[0][0]']    \n",
            "                                                                                                  \n",
            " dot (Dot)                      (None, 1)            0           ['reshape[0][0]',                \n",
            "                                                                  'reshape_1[0][0]']              \n",
            "                                                                                                  \n",
            " dense (Dense)                  (None, 1)            2           ['dot[0][0]']                    \n",
            "                                                                                                  \n",
            "==================================================================================================\n",
            "Total params: 2,007,802\n",
            "Trainable params: 2,007,802\n",
            "Non-trainable params: 0\n",
            "__________________________________________________________________________________________________\n"
          ]
        }
      ],
      "source": [
        "model.summary()"
      ]
    },
    {
      "cell_type": "code",
      "execution_count": null,
      "metadata": {
        "colab": {
          "base_uri": "https://localhost:8080/",
          "height": 729
        },
        "id": "c8GeSvpTvGRb",
        "outputId": "8f09ba76-abd8-41a4-9d3c-617bede41af7"
      },
      "outputs": [
        {
          "data": {
            "image/svg+xml": "<svg xmlns=\"http://www.w3.org/2000/svg\" xmlns:xlink=\"http://www.w3.org/1999/xlink\" width=\"786pt\" height=\"516pt\" viewBox=\"0.00 0.00 589.50 387.00\">\n<g id=\"graph0\" class=\"graph\" transform=\"scale(0.75 0.75) rotate(0) translate(4 383)\">\n<title>G</title>\n<polygon fill=\"white\" stroke=\"transparent\" points=\"-4,4 -4,-383 585.5,-383 585.5,4 -4,4\"/>\n<!-- 140562672952464 -->\n<g id=\"node1\" class=\"node\">\n<title>140562672952464</title>\n<polygon fill=\"none\" stroke=\"black\" points=\"33.5,-332.5 33.5,-378.5 243.5,-378.5 243.5,-332.5 33.5,-332.5\"/>\n<text text-anchor=\"middle\" x=\"72\" y=\"-363.3\" font-family=\"Times,serif\" font-size=\"14.00\">input_2</text>\n<polyline fill=\"none\" stroke=\"black\" points=\"33.5,-355.5 110.5,-355.5 \"/>\n<text text-anchor=\"middle\" x=\"72\" y=\"-340.3\" font-family=\"Times,serif\" font-size=\"14.00\">InputLayer</text>\n<polyline fill=\"none\" stroke=\"black\" points=\"110.5,-332.5 110.5,-378.5 \"/>\n<text text-anchor=\"middle\" x=\"138\" y=\"-363.3\" font-family=\"Times,serif\" font-size=\"14.00\">input:</text>\n<polyline fill=\"none\" stroke=\"black\" points=\"110.5,-355.5 165.5,-355.5 \"/>\n<text text-anchor=\"middle\" x=\"138\" y=\"-340.3\" font-family=\"Times,serif\" font-size=\"14.00\">output:</text>\n<polyline fill=\"none\" stroke=\"black\" points=\"165.5,-332.5 165.5,-378.5 \"/>\n<text text-anchor=\"middle\" x=\"204.5\" y=\"-363.3\" font-family=\"Times,serif\" font-size=\"14.00\">[(None, 1)]</text>\n<polyline fill=\"none\" stroke=\"black\" points=\"165.5,-355.5 243.5,-355.5 \"/>\n<text text-anchor=\"middle\" x=\"204.5\" y=\"-340.3\" font-family=\"Times,serif\" font-size=\"14.00\">[(None, 1)]</text>\n</g>\n<!-- 140562672952704 -->\n<g id=\"node3\" class=\"node\">\n<title>140562672952704</title>\n<polygon fill=\"none\" stroke=\"black\" points=\"0,-249.5 0,-295.5 277,-295.5 277,-249.5 0,-249.5\"/>\n<text text-anchor=\"middle\" x=\"62.5\" y=\"-280.3\" font-family=\"Times,serif\" font-size=\"14.00\">target_embed_layer</text>\n<polyline fill=\"none\" stroke=\"black\" points=\"0,-272.5 125,-272.5 \"/>\n<text text-anchor=\"middle\" x=\"62.5\" y=\"-257.3\" font-family=\"Times,serif\" font-size=\"14.00\">Embedding</text>\n<polyline fill=\"none\" stroke=\"black\" points=\"125,-249.5 125,-295.5 \"/>\n<text text-anchor=\"middle\" x=\"152.5\" y=\"-280.3\" font-family=\"Times,serif\" font-size=\"14.00\">input:</text>\n<polyline fill=\"none\" stroke=\"black\" points=\"125,-272.5 180,-272.5 \"/>\n<text text-anchor=\"middle\" x=\"152.5\" y=\"-257.3\" font-family=\"Times,serif\" font-size=\"14.00\">output:</text>\n<polyline fill=\"none\" stroke=\"black\" points=\"180,-249.5 180,-295.5 \"/>\n<text text-anchor=\"middle\" x=\"228.5\" y=\"-280.3\" font-family=\"Times,serif\" font-size=\"14.00\">(None, 1)</text>\n<polyline fill=\"none\" stroke=\"black\" points=\"180,-272.5 277,-272.5 \"/>\n<text text-anchor=\"middle\" x=\"228.5\" y=\"-257.3\" font-family=\"Times,serif\" font-size=\"14.00\">(None, 1, 100)</text>\n</g>\n<!-- 140562672952464&#45;&gt;140562672952704 -->\n<g id=\"edge1\" class=\"edge\">\n<title>140562672952464-&gt;140562672952704</title>\n<path fill=\"none\" stroke=\"black\" d=\"M138.5,-332.37C138.5,-324.15 138.5,-314.66 138.5,-305.73\"/>\n<polygon fill=\"black\" stroke=\"black\" points=\"142,-305.61 138.5,-295.61 135,-305.61 142,-305.61\"/>\n</g>\n<!-- 140562607401184 -->\n<g id=\"node2\" class=\"node\">\n<title>140562607401184</title>\n<polygon fill=\"none\" stroke=\"black\" points=\"333.5,-332.5 333.5,-378.5 543.5,-378.5 543.5,-332.5 333.5,-332.5\"/>\n<text text-anchor=\"middle\" x=\"372\" y=\"-363.3\" font-family=\"Times,serif\" font-size=\"14.00\">input_3</text>\n<polyline fill=\"none\" stroke=\"black\" points=\"333.5,-355.5 410.5,-355.5 \"/>\n<text text-anchor=\"middle\" x=\"372\" y=\"-340.3\" font-family=\"Times,serif\" font-size=\"14.00\">InputLayer</text>\n<polyline fill=\"none\" stroke=\"black\" points=\"410.5,-332.5 410.5,-378.5 \"/>\n<text text-anchor=\"middle\" x=\"438\" y=\"-363.3\" font-family=\"Times,serif\" font-size=\"14.00\">input:</text>\n<polyline fill=\"none\" stroke=\"black\" points=\"410.5,-355.5 465.5,-355.5 \"/>\n<text text-anchor=\"middle\" x=\"438\" y=\"-340.3\" font-family=\"Times,serif\" font-size=\"14.00\">output:</text>\n<polyline fill=\"none\" stroke=\"black\" points=\"465.5,-332.5 465.5,-378.5 \"/>\n<text text-anchor=\"middle\" x=\"504.5\" y=\"-363.3\" font-family=\"Times,serif\" font-size=\"14.00\">[(None, 1)]</text>\n<polyline fill=\"none\" stroke=\"black\" points=\"465.5,-355.5 543.5,-355.5 \"/>\n<text text-anchor=\"middle\" x=\"504.5\" y=\"-340.3\" font-family=\"Times,serif\" font-size=\"14.00\">[(None, 1)]</text>\n</g>\n<!-- 140565808359360 -->\n<g id=\"node4\" class=\"node\">\n<title>140565808359360</title>\n<polygon fill=\"none\" stroke=\"black\" points=\"295.5,-249.5 295.5,-295.5 581.5,-295.5 581.5,-249.5 295.5,-249.5\"/>\n<text text-anchor=\"middle\" x=\"362.5\" y=\"-280.3\" font-family=\"Times,serif\" font-size=\"14.00\">context_embed_layer</text>\n<polyline fill=\"none\" stroke=\"black\" points=\"295.5,-272.5 429.5,-272.5 \"/>\n<text text-anchor=\"middle\" x=\"362.5\" y=\"-257.3\" font-family=\"Times,serif\" font-size=\"14.00\">Embedding</text>\n<polyline fill=\"none\" stroke=\"black\" points=\"429.5,-249.5 429.5,-295.5 \"/>\n<text text-anchor=\"middle\" x=\"457\" y=\"-280.3\" font-family=\"Times,serif\" font-size=\"14.00\">input:</text>\n<polyline fill=\"none\" stroke=\"black\" points=\"429.5,-272.5 484.5,-272.5 \"/>\n<text text-anchor=\"middle\" x=\"457\" y=\"-257.3\" font-family=\"Times,serif\" font-size=\"14.00\">output:</text>\n<polyline fill=\"none\" stroke=\"black\" points=\"484.5,-249.5 484.5,-295.5 \"/>\n<text text-anchor=\"middle\" x=\"533\" y=\"-280.3\" font-family=\"Times,serif\" font-size=\"14.00\">(None, 1)</text>\n<polyline fill=\"none\" stroke=\"black\" points=\"484.5,-272.5 581.5,-272.5 \"/>\n<text text-anchor=\"middle\" x=\"533\" y=\"-257.3\" font-family=\"Times,serif\" font-size=\"14.00\">(None, 1, 100)</text>\n</g>\n<!-- 140562607401184&#45;&gt;140565808359360 -->\n<g id=\"edge2\" class=\"edge\">\n<title>140562607401184-&gt;140565808359360</title>\n<path fill=\"none\" stroke=\"black\" d=\"M438.5,-332.37C438.5,-324.15 438.5,-314.66 438.5,-305.73\"/>\n<polygon fill=\"black\" stroke=\"black\" points=\"442,-305.61 438.5,-295.61 435,-305.61 442,-305.61\"/>\n</g>\n<!-- 140562672952560 -->\n<g id=\"node5\" class=\"node\">\n<title>140562672952560</title>\n<polygon fill=\"none\" stroke=\"black\" points=\"63.5,-166.5 63.5,-212.5 277.5,-212.5 277.5,-166.5 63.5,-166.5\"/>\n<text text-anchor=\"middle\" x=\"94.5\" y=\"-197.3\" font-family=\"Times,serif\" font-size=\"14.00\">reshape</text>\n<polyline fill=\"none\" stroke=\"black\" points=\"63.5,-189.5 125.5,-189.5 \"/>\n<text text-anchor=\"middle\" x=\"94.5\" y=\"-174.3\" font-family=\"Times,serif\" font-size=\"14.00\">Reshape</text>\n<polyline fill=\"none\" stroke=\"black\" points=\"125.5,-166.5 125.5,-212.5 \"/>\n<text text-anchor=\"middle\" x=\"153\" y=\"-197.3\" font-family=\"Times,serif\" font-size=\"14.00\">input:</text>\n<polyline fill=\"none\" stroke=\"black\" points=\"125.5,-189.5 180.5,-189.5 \"/>\n<text text-anchor=\"middle\" x=\"153\" y=\"-174.3\" font-family=\"Times,serif\" font-size=\"14.00\">output:</text>\n<polyline fill=\"none\" stroke=\"black\" points=\"180.5,-166.5 180.5,-212.5 \"/>\n<text text-anchor=\"middle\" x=\"229\" y=\"-197.3\" font-family=\"Times,serif\" font-size=\"14.00\">(None, 1, 100)</text>\n<polyline fill=\"none\" stroke=\"black\" points=\"180.5,-189.5 277.5,-189.5 \"/>\n<text text-anchor=\"middle\" x=\"229\" y=\"-174.3\" font-family=\"Times,serif\" font-size=\"14.00\">(None, 100)</text>\n</g>\n<!-- 140562672952704&#45;&gt;140562672952560 -->\n<g id=\"edge3\" class=\"edge\">\n<title>140562672952704-&gt;140562672952560</title>\n<path fill=\"none\" stroke=\"black\" d=\"M147.24,-249.37C150.56,-240.97 154.4,-231.24 158,-222.14\"/>\n<polygon fill=\"black\" stroke=\"black\" points=\"161.35,-223.19 161.77,-212.61 154.84,-220.62 161.35,-223.19\"/>\n</g>\n<!-- 140562911319472 -->\n<g id=\"node6\" class=\"node\">\n<title>140562911319472</title>\n<polygon fill=\"none\" stroke=\"black\" points=\"311,-166.5 311,-212.5 534,-212.5 534,-166.5 311,-166.5\"/>\n<text text-anchor=\"middle\" x=\"346.5\" y=\"-197.3\" font-family=\"Times,serif\" font-size=\"14.00\">reshape_1</text>\n<polyline fill=\"none\" stroke=\"black\" points=\"311,-189.5 382,-189.5 \"/>\n<text text-anchor=\"middle\" x=\"346.5\" y=\"-174.3\" font-family=\"Times,serif\" font-size=\"14.00\">Reshape</text>\n<polyline fill=\"none\" stroke=\"black\" points=\"382,-166.5 382,-212.5 \"/>\n<text text-anchor=\"middle\" x=\"409.5\" y=\"-197.3\" font-family=\"Times,serif\" font-size=\"14.00\">input:</text>\n<polyline fill=\"none\" stroke=\"black\" points=\"382,-189.5 437,-189.5 \"/>\n<text text-anchor=\"middle\" x=\"409.5\" y=\"-174.3\" font-family=\"Times,serif\" font-size=\"14.00\">output:</text>\n<polyline fill=\"none\" stroke=\"black\" points=\"437,-166.5 437,-212.5 \"/>\n<text text-anchor=\"middle\" x=\"485.5\" y=\"-197.3\" font-family=\"Times,serif\" font-size=\"14.00\">(None, 1, 100)</text>\n<polyline fill=\"none\" stroke=\"black\" points=\"437,-189.5 534,-189.5 \"/>\n<text text-anchor=\"middle\" x=\"485.5\" y=\"-174.3\" font-family=\"Times,serif\" font-size=\"14.00\">(None, 100)</text>\n</g>\n<!-- 140565808359360&#45;&gt;140562911319472 -->\n<g id=\"edge4\" class=\"edge\">\n<title>140565808359360-&gt;140562911319472</title>\n<path fill=\"none\" stroke=\"black\" d=\"M434.13,-249.37C432.49,-241.06 430.59,-231.45 428.81,-222.43\"/>\n<polygon fill=\"black\" stroke=\"black\" points=\"432.24,-221.74 426.87,-212.61 425.37,-223.1 432.24,-221.74\"/>\n</g>\n<!-- 140562607428608 -->\n<g id=\"node7\" class=\"node\">\n<title>140562607428608</title>\n<polygon fill=\"none\" stroke=\"black\" points=\"160,-83.5 160,-129.5 417,-129.5 417,-83.5 160,-83.5\"/>\n<text text-anchor=\"middle\" x=\"178.5\" y=\"-114.3\" font-family=\"Times,serif\" font-size=\"14.00\">dot</text>\n<polyline fill=\"none\" stroke=\"black\" points=\"160,-106.5 197,-106.5 \"/>\n<text text-anchor=\"middle\" x=\"178.5\" y=\"-91.3\" font-family=\"Times,serif\" font-size=\"14.00\">Dot</text>\n<polyline fill=\"none\" stroke=\"black\" points=\"197,-83.5 197,-129.5 \"/>\n<text text-anchor=\"middle\" x=\"224.5\" y=\"-114.3\" font-family=\"Times,serif\" font-size=\"14.00\">input:</text>\n<polyline fill=\"none\" stroke=\"black\" points=\"197,-106.5 252,-106.5 \"/>\n<text text-anchor=\"middle\" x=\"224.5\" y=\"-91.3\" font-family=\"Times,serif\" font-size=\"14.00\">output:</text>\n<polyline fill=\"none\" stroke=\"black\" points=\"252,-83.5 252,-129.5 \"/>\n<text text-anchor=\"middle\" x=\"334.5\" y=\"-114.3\" font-family=\"Times,serif\" font-size=\"14.00\">[(None, 100), (None, 100)]</text>\n<polyline fill=\"none\" stroke=\"black\" points=\"252,-106.5 417,-106.5 \"/>\n<text text-anchor=\"middle\" x=\"334.5\" y=\"-91.3\" font-family=\"Times,serif\" font-size=\"14.00\">(None, 1)</text>\n</g>\n<!-- 140562672952560&#45;&gt;140562607428608 -->\n<g id=\"edge5\" class=\"edge\">\n<title>140562672952560-&gt;140562607428608</title>\n<path fill=\"none\" stroke=\"black\" d=\"M202.74,-166.37C216.66,-156.81 233.1,-145.53 247.84,-135.41\"/>\n<polygon fill=\"black\" stroke=\"black\" points=\"250.03,-138.15 256.29,-129.61 246.07,-132.38 250.03,-138.15\"/>\n</g>\n<!-- 140562911319472&#45;&gt;140562607428608 -->\n<g id=\"edge6\" class=\"edge\">\n<title>140562911319472-&gt;140562607428608</title>\n<path fill=\"none\" stroke=\"black\" d=\"M385.88,-166.37C369.78,-156.63 350.71,-145.11 333.73,-134.84\"/>\n<polygon fill=\"black\" stroke=\"black\" points=\"335.44,-131.78 325.07,-129.61 331.82,-137.78 335.44,-131.78\"/>\n</g>\n<!-- 140562607429424 -->\n<g id=\"node8\" class=\"node\">\n<title>140562607429424</title>\n<polygon fill=\"none\" stroke=\"black\" points=\"201.5,-0.5 201.5,-46.5 375.5,-46.5 375.5,-0.5 201.5,-0.5\"/>\n<text text-anchor=\"middle\" x=\"226.5\" y=\"-31.3\" font-family=\"Times,serif\" font-size=\"14.00\">dense</text>\n<polyline fill=\"none\" stroke=\"black\" points=\"201.5,-23.5 251.5,-23.5 \"/>\n<text text-anchor=\"middle\" x=\"226.5\" y=\"-8.3\" font-family=\"Times,serif\" font-size=\"14.00\">Dense</text>\n<polyline fill=\"none\" stroke=\"black\" points=\"251.5,-0.5 251.5,-46.5 \"/>\n<text text-anchor=\"middle\" x=\"279\" y=\"-31.3\" font-family=\"Times,serif\" font-size=\"14.00\">input:</text>\n<polyline fill=\"none\" stroke=\"black\" points=\"251.5,-23.5 306.5,-23.5 \"/>\n<text text-anchor=\"middle\" x=\"279\" y=\"-8.3\" font-family=\"Times,serif\" font-size=\"14.00\">output:</text>\n<polyline fill=\"none\" stroke=\"black\" points=\"306.5,-0.5 306.5,-46.5 \"/>\n<text text-anchor=\"middle\" x=\"341\" y=\"-31.3\" font-family=\"Times,serif\" font-size=\"14.00\">(None, 1)</text>\n<polyline fill=\"none\" stroke=\"black\" points=\"306.5,-23.5 375.5,-23.5 \"/>\n<text text-anchor=\"middle\" x=\"341\" y=\"-8.3\" font-family=\"Times,serif\" font-size=\"14.00\">(None, 1)</text>\n</g>\n<!-- 140562607428608&#45;&gt;140562607429424 -->\n<g id=\"edge7\" class=\"edge\">\n<title>140562607428608-&gt;140562607429424</title>\n<path fill=\"none\" stroke=\"black\" d=\"M288.5,-83.37C288.5,-75.15 288.5,-65.66 288.5,-56.73\"/>\n<polygon fill=\"black\" stroke=\"black\" points=\"292,-56.61 288.5,-46.61 285,-56.61 292,-56.61\"/>\n</g>\n</g>\n</svg>",
            "text/plain": [
              "<IPython.core.display.SVG object>"
            ]
          },
          "execution_count": 36,
          "metadata": {},
          "output_type": "execute_result"
        }
      ],
      "source": [
        "from IPython.display import SVG\n",
        "from keras.utils import vis_utils\n",
        "SVG(vis_utils.model_to_dot(model, show_shapes=True,show_layer_names=True).create(prog='dot', format='svg'))"
      ]
    },
    {
      "cell_type": "code",
      "execution_count": null,
      "metadata": {
        "colab": {
          "base_uri": "https://localhost:8080/"
        },
        "id": "UqP4Kv_6vMk3",
        "outputId": "e07622be-f414-4bdc-dc1c-20fca9d1f72c"
      },
      "outputs": [
        {
          "name": "stdout",
          "output_type": "stream",
          "text": [
            "processed 0 sentences\n",
            "processed 5000 sentences\n",
            "processed 10000 sentences\n",
            "Processec all 12497 sentences\n",
            "Epoch: 1 Loss: 1426.085158484755 \n",
            "\n",
            "processed 0 sentences\n",
            "processed 5000 sentences\n",
            "processed 10000 sentences\n",
            "Processec all 12497 sentences\n",
            "Epoch: 2 Loss: 1336.4173326317687 \n",
            "\n",
            "processed 0 sentences\n",
            "processed 5000 sentences\n",
            "processed 10000 sentences\n",
            "Processec all 12497 sentences\n",
            "Epoch: 3 Loss: 1254.0799708422273 \n",
            "\n",
            "processed 0 sentences\n",
            "processed 5000 sentences\n",
            "processed 10000 sentences\n",
            "Processec all 12497 sentences\n",
            "Epoch: 4 Loss: 1179.6926900778926 \n",
            "\n",
            "processed 0 sentences\n",
            "processed 5000 sentences\n",
            "processed 10000 sentences\n",
            "Processec all 12497 sentences\n",
            "Epoch: 5 Loss: 1113.3071322288451 \n",
            "\n",
            "processed 0 sentences\n",
            "processed 5000 sentences\n",
            "processed 10000 sentences\n",
            "Processec all 12497 sentences\n",
            "Epoch: 6 Loss: 1054.4178396780844 \n",
            "\n",
            "processed 0 sentences\n",
            "processed 5000 sentences\n",
            "processed 10000 sentences\n",
            "Processec all 12497 sentences\n",
            "Epoch: 7 Loss: 1002.5160635501561 \n",
            "\n",
            "processed 0 sentences\n",
            "processed 5000 sentences\n",
            "processed 10000 sentences\n",
            "Processec all 12497 sentences\n",
            "Epoch: 8 Loss: 956.6403593213508 \n",
            "\n",
            "processed 0 sentences\n",
            "processed 5000 sentences\n",
            "processed 10000 sentences\n",
            "Processec all 12497 sentences\n",
            "Epoch: 9 Loss: 916.4343489655366 \n",
            "\n",
            "processed 0 sentences\n",
            "processed 5000 sentences\n",
            "processed 10000 sentences\n",
            "Processec all 12497 sentences\n",
            "Epoch: 10 Loss: 879.8996770889316 \n",
            "\n",
            "processed 0 sentences\n",
            "processed 5000 sentences\n",
            "processed 10000 sentences\n",
            "Processec all 12497 sentences\n",
            "Epoch: 11 Loss: 847.5213364559422 \n",
            "\n",
            "processed 0 sentences\n",
            "processed 5000 sentences\n",
            "processed 10000 sentences\n",
            "Processec all 12497 sentences\n",
            "Epoch: 12 Loss: 818.0423067399825 \n",
            "\n",
            "processed 0 sentences\n",
            "processed 5000 sentences\n",
            "processed 10000 sentences\n",
            "Processec all 12497 sentences\n",
            "Epoch: 13 Loss: 791.2504400139187 \n",
            "\n",
            "processed 0 sentences\n",
            "processed 5000 sentences\n",
            "processed 10000 sentences\n",
            "Processec all 12497 sentences\n",
            "Epoch: 14 Loss: 766.3589836932279 \n",
            "\n",
            "processed 0 sentences\n",
            "processed 5000 sentences\n",
            "processed 10000 sentences\n",
            "Processec all 12497 sentences\n",
            "Epoch: 15 Loss: 743.1316849041887 \n",
            "\n",
            "processed 0 sentences\n",
            "processed 5000 sentences\n",
            "processed 10000 sentences\n",
            "Processec all 12497 sentences\n",
            "Epoch: 16 Loss: 721.534901485631 \n",
            "\n",
            "processed 0 sentences\n",
            "processed 5000 sentences\n",
            "processed 10000 sentences\n",
            "Processec all 12497 sentences\n",
            "Epoch: 17 Loss: 701.7307642464748 \n",
            "\n",
            "processed 0 sentences\n",
            "processed 5000 sentences\n",
            "processed 10000 sentences\n",
            "Processec all 12497 sentences\n",
            "Epoch: 18 Loss: 682.7796736934397 \n",
            "\n",
            "processed 0 sentences\n",
            "processed 5000 sentences\n",
            "processed 10000 sentences\n",
            "Processec all 12497 sentences\n",
            "Epoch: 19 Loss: 665.080446968363 \n",
            "\n",
            "processed 0 sentences\n",
            "processed 5000 sentences\n",
            "processed 10000 sentences\n",
            "Processec all 12497 sentences\n",
            "Epoch: 20 Loss: 648.6183311571856 \n",
            "\n",
            "processed 0 sentences\n",
            "processed 5000 sentences\n",
            "processed 10000 sentences\n",
            "Processec all 12497 sentences\n",
            "Epoch: 21 Loss: 633.8147324863382 \n",
            "\n",
            "processed 0 sentences\n",
            "processed 5000 sentences\n",
            "processed 10000 sentences\n",
            "Processec all 12497 sentences\n",
            "Epoch: 22 Loss: 618.5872634039897 \n",
            "\n",
            "processed 0 sentences\n",
            "processed 5000 sentences\n",
            "processed 10000 sentences\n",
            "Processec all 12497 sentences\n",
            "Epoch: 23 Loss: 605.7753736234819 \n",
            "\n",
            "processed 0 sentences\n",
            "processed 5000 sentences\n",
            "processed 10000 sentences\n",
            "Processec all 12497 sentences\n",
            "Epoch: 24 Loss: 593.0220708294429 \n",
            "\n"
          ]
        }
      ],
      "source": [
        "for epoch in range(1,25):\n",
        "    epoch_loss = 0\n",
        "    for i,sent_examples in enumerate(skip_grams):\n",
        "        target_wds = np.array([pair[0] for pair in sent_examples[0]],dtype='int32')\n",
        "        context_wds = np.array([pair[1] for pair in sent_examples[0]],dtype='int32')\n",
        "        labels = np.array(sent_examples[1],dtype='int32')\n",
        "        X = [target_wds,context_wds]\n",
        "        Y = labels\n",
        "        if i%5000 == 0:\n",
        "            print('processed %d sentences' %i)\n",
        "        epoch_loss += model.train_on_batch(X,Y)\n",
        "    print('Processec all %d sentences' %i)\n",
        "    print('Epoch:',epoch,'Loss:',epoch_loss,'\\n')"
      ]
    },
    {
      "cell_type": "code",
      "execution_count": null,
      "metadata": {
        "id": "jQDN7-3YvP_R"
      },
      "outputs": [],
      "source": [
        "word_embeddings = model.get_layer('target_embed_layer').get_weights()[0][1:]"
      ]
    },
    {
      "cell_type": "code",
      "execution_count": null,
      "metadata": {
        "colab": {
          "base_uri": "https://localhost:8080/",
          "height": 456
        },
        "id": "FIlKd23PvSyt",
        "outputId": "288c1f4c-7e34-4891-ebeb-d205feacb95e"
      },
      "outputs": [
        {
          "data": {
            "text/html": [
              "\n",
              "  <div id=\"df-aacbc307-46b4-49dc-8ad0-dfaa0efe6d48\">\n",
              "    <div class=\"colab-df-container\">\n",
              "      <div>\n",
              "<style scoped>\n",
              "    .dataframe tbody tr th:only-of-type {\n",
              "        vertical-align: middle;\n",
              "    }\n",
              "\n",
              "    .dataframe tbody tr th {\n",
              "        vertical-align: top;\n",
              "    }\n",
              "\n",
              "    .dataframe thead th {\n",
              "        text-align: right;\n",
              "    }\n",
              "</style>\n",
              "<table border=\"1\" class=\"dataframe\">\n",
              "  <thead>\n",
              "    <tr style=\"text-align: right;\">\n",
              "      <th></th>\n",
              "      <th>0</th>\n",
              "      <th>1</th>\n",
              "      <th>2</th>\n",
              "      <th>3</th>\n",
              "      <th>4</th>\n",
              "      <th>5</th>\n",
              "      <th>6</th>\n",
              "      <th>7</th>\n",
              "      <th>8</th>\n",
              "      <th>9</th>\n",
              "      <th>...</th>\n",
              "      <th>90</th>\n",
              "      <th>91</th>\n",
              "      <th>92</th>\n",
              "      <th>93</th>\n",
              "      <th>94</th>\n",
              "      <th>95</th>\n",
              "      <th>96</th>\n",
              "      <th>97</th>\n",
              "      <th>98</th>\n",
              "      <th>99</th>\n",
              "    </tr>\n",
              "  </thead>\n",
              "  <tbody>\n",
              "    <tr>\n",
              "      <th>agricultural</th>\n",
              "      <td>-0.050827</td>\n",
              "      <td>-0.000346</td>\n",
              "      <td>-0.014999</td>\n",
              "      <td>-0.024274</td>\n",
              "      <td>0.032542</td>\n",
              "      <td>0.013817</td>\n",
              "      <td>-0.059165</td>\n",
              "      <td>-0.021513</td>\n",
              "      <td>0.007517</td>\n",
              "      <td>0.019252</td>\n",
              "      <td>...</td>\n",
              "      <td>-0.031464</td>\n",
              "      <td>-0.042933</td>\n",
              "      <td>0.005628</td>\n",
              "      <td>-0.041081</td>\n",
              "      <td>0.005538</td>\n",
              "      <td>0.022631</td>\n",
              "      <td>-0.021019</td>\n",
              "      <td>-0.026228</td>\n",
              "      <td>0.003599</td>\n",
              "      <td>-0.027970</td>\n",
              "    </tr>\n",
              "    <tr>\n",
              "      <th>enumeration</th>\n",
              "      <td>-0.016764</td>\n",
              "      <td>0.018393</td>\n",
              "      <td>-0.014047</td>\n",
              "      <td>-0.036145</td>\n",
              "      <td>0.014646</td>\n",
              "      <td>0.050686</td>\n",
              "      <td>-0.029557</td>\n",
              "      <td>-0.052179</td>\n",
              "      <td>0.004057</td>\n",
              "      <td>0.001493</td>\n",
              "      <td>...</td>\n",
              "      <td>-0.031689</td>\n",
              "      <td>0.015061</td>\n",
              "      <td>0.009161</td>\n",
              "      <td>-0.021850</td>\n",
              "      <td>0.017837</td>\n",
              "      <td>-0.008296</td>\n",
              "      <td>-0.019477</td>\n",
              "      <td>-0.007586</td>\n",
              "      <td>0.016316</td>\n",
              "      <td>-0.046000</td>\n",
              "    </tr>\n",
              "    <tr>\n",
              "      <th>share</th>\n",
              "      <td>0.132191</td>\n",
              "      <td>-0.105709</td>\n",
              "      <td>0.113350</td>\n",
              "      <td>-0.014739</td>\n",
              "      <td>0.095044</td>\n",
              "      <td>0.149274</td>\n",
              "      <td>0.371555</td>\n",
              "      <td>-0.087336</td>\n",
              "      <td>-0.030958</td>\n",
              "      <td>0.158967</td>\n",
              "      <td>...</td>\n",
              "      <td>-0.116749</td>\n",
              "      <td>-0.021493</td>\n",
              "      <td>-0.141666</td>\n",
              "      <td>0.179021</td>\n",
              "      <td>0.037375</td>\n",
              "      <td>-0.203107</td>\n",
              "      <td>-0.075567</td>\n",
              "      <td>-0.049841</td>\n",
              "      <td>0.099014</td>\n",
              "      <td>0.090929</td>\n",
              "    </tr>\n",
              "    <tr>\n",
              "      <th>habitation</th>\n",
              "      <td>-0.037607</td>\n",
              "      <td>-0.037124</td>\n",
              "      <td>-0.007126</td>\n",
              "      <td>0.004274</td>\n",
              "      <td>-0.063412</td>\n",
              "      <td>0.021302</td>\n",
              "      <td>0.039118</td>\n",
              "      <td>-0.023034</td>\n",
              "      <td>-0.126960</td>\n",
              "      <td>0.078550</td>\n",
              "      <td>...</td>\n",
              "      <td>-0.013774</td>\n",
              "      <td>-0.106529</td>\n",
              "      <td>0.033974</td>\n",
              "      <td>-0.016205</td>\n",
              "      <td>0.097828</td>\n",
              "      <td>0.042515</td>\n",
              "      <td>-0.029643</td>\n",
              "      <td>-0.005376</td>\n",
              "      <td>-0.013291</td>\n",
              "      <td>0.035355</td>\n",
              "    </tr>\n",
              "    <tr>\n",
              "      <th>impending</th>\n",
              "      <td>-0.029901</td>\n",
              "      <td>0.000949</td>\n",
              "      <td>0.006445</td>\n",
              "      <td>-0.062367</td>\n",
              "      <td>0.006158</td>\n",
              "      <td>-0.009940</td>\n",
              "      <td>-0.060981</td>\n",
              "      <td>-0.010933</td>\n",
              "      <td>-0.046151</td>\n",
              "      <td>0.061576</td>\n",
              "      <td>...</td>\n",
              "      <td>0.011270</td>\n",
              "      <td>-0.049404</td>\n",
              "      <td>-0.006460</td>\n",
              "      <td>-0.007793</td>\n",
              "      <td>-0.025373</td>\n",
              "      <td>-0.000437</td>\n",
              "      <td>-0.047253</td>\n",
              "      <td>-0.008952</td>\n",
              "      <td>0.064518</td>\n",
              "      <td>-0.034867</td>\n",
              "    </tr>\n",
              "    <tr>\n",
              "      <th>sample</th>\n",
              "      <td>0.024184</td>\n",
              "      <td>-0.001557</td>\n",
              "      <td>-0.035046</td>\n",
              "      <td>-0.005544</td>\n",
              "      <td>0.041931</td>\n",
              "      <td>0.028603</td>\n",
              "      <td>-0.042631</td>\n",
              "      <td>-0.012820</td>\n",
              "      <td>-0.020909</td>\n",
              "      <td>0.038535</td>\n",
              "      <td>...</td>\n",
              "      <td>-0.030447</td>\n",
              "      <td>-0.052490</td>\n",
              "      <td>0.002918</td>\n",
              "      <td>-0.004359</td>\n",
              "      <td>0.040297</td>\n",
              "      <td>0.014478</td>\n",
              "      <td>-0.012878</td>\n",
              "      <td>-0.038558</td>\n",
              "      <td>0.007218</td>\n",
              "      <td>-0.015872</td>\n",
              "    </tr>\n",
              "    <tr>\n",
              "      <th>unexhilarating</th>\n",
              "      <td>0.002843</td>\n",
              "      <td>-0.037773</td>\n",
              "      <td>-0.048014</td>\n",
              "      <td>-0.072212</td>\n",
              "      <td>0.001170</td>\n",
              "      <td>-0.003389</td>\n",
              "      <td>-0.016003</td>\n",
              "      <td>-0.048277</td>\n",
              "      <td>-0.013797</td>\n",
              "      <td>-0.007345</td>\n",
              "      <td>...</td>\n",
              "      <td>-0.012586</td>\n",
              "      <td>-0.009941</td>\n",
              "      <td>0.038458</td>\n",
              "      <td>0.002553</td>\n",
              "      <td>0.037401</td>\n",
              "      <td>0.061126</td>\n",
              "      <td>0.005608</td>\n",
              "      <td>-0.001417</td>\n",
              "      <td>0.000334</td>\n",
              "      <td>-0.004846</td>\n",
              "    </tr>\n",
              "    <tr>\n",
              "      <th>boils</th>\n",
              "      <td>-0.002897</td>\n",
              "      <td>0.008363</td>\n",
              "      <td>-0.012954</td>\n",
              "      <td>-0.002966</td>\n",
              "      <td>0.006714</td>\n",
              "      <td>0.008126</td>\n",
              "      <td>-0.022727</td>\n",
              "      <td>-0.021139</td>\n",
              "      <td>-0.025995</td>\n",
              "      <td>0.010293</td>\n",
              "      <td>...</td>\n",
              "      <td>-0.014487</td>\n",
              "      <td>-0.001079</td>\n",
              "      <td>0.035845</td>\n",
              "      <td>-0.023560</td>\n",
              "      <td>0.024513</td>\n",
              "      <td>0.042954</td>\n",
              "      <td>-0.012822</td>\n",
              "      <td>-0.003104</td>\n",
              "      <td>0.012092</td>\n",
              "      <td>-0.007025</td>\n",
              "    </tr>\n",
              "    <tr>\n",
              "      <th>clearest</th>\n",
              "      <td>-0.004789</td>\n",
              "      <td>-0.003221</td>\n",
              "      <td>-0.019409</td>\n",
              "      <td>-0.041609</td>\n",
              "      <td>0.034804</td>\n",
              "      <td>0.018842</td>\n",
              "      <td>-0.073023</td>\n",
              "      <td>-0.033172</td>\n",
              "      <td>-0.040464</td>\n",
              "      <td>0.102871</td>\n",
              "      <td>...</td>\n",
              "      <td>-0.071759</td>\n",
              "      <td>-0.038551</td>\n",
              "      <td>0.026810</td>\n",
              "      <td>-0.034585</td>\n",
              "      <td>0.031578</td>\n",
              "      <td>0.041342</td>\n",
              "      <td>-0.019054</td>\n",
              "      <td>0.000160</td>\n",
              "      <td>0.010955</td>\n",
              "      <td>-0.016434</td>\n",
              "    </tr>\n",
              "    <tr>\n",
              "      <th>note</th>\n",
              "      <td>-0.256145</td>\n",
              "      <td>-0.093022</td>\n",
              "      <td>0.057054</td>\n",
              "      <td>-0.118053</td>\n",
              "      <td>-0.234950</td>\n",
              "      <td>-0.081610</td>\n",
              "      <td>0.269425</td>\n",
              "      <td>0.102358</td>\n",
              "      <td>-0.107117</td>\n",
              "      <td>0.164633</td>\n",
              "      <td>...</td>\n",
              "      <td>0.033571</td>\n",
              "      <td>0.141801</td>\n",
              "      <td>0.240076</td>\n",
              "      <td>0.132685</td>\n",
              "      <td>0.048856</td>\n",
              "      <td>-0.041046</td>\n",
              "      <td>0.204019</td>\n",
              "      <td>-0.020787</td>\n",
              "      <td>0.095493</td>\n",
              "      <td>-0.102738</td>\n",
              "    </tr>\n",
              "  </tbody>\n",
              "</table>\n",
              "<p>10 rows × 100 columns</p>\n",
              "</div>\n",
              "      <button class=\"colab-df-convert\" onclick=\"convertToInteractive('df-aacbc307-46b4-49dc-8ad0-dfaa0efe6d48')\"\n",
              "              title=\"Convert this dataframe to an interactive table.\"\n",
              "              style=\"display:none;\">\n",
              "        \n",
              "  <svg xmlns=\"http://www.w3.org/2000/svg\" height=\"24px\"viewBox=\"0 0 24 24\"\n",
              "       width=\"24px\">\n",
              "    <path d=\"M0 0h24v24H0V0z\" fill=\"none\"/>\n",
              "    <path d=\"M18.56 5.44l.94 2.06.94-2.06 2.06-.94-2.06-.94-.94-2.06-.94 2.06-2.06.94zm-11 1L8.5 8.5l.94-2.06 2.06-.94-2.06-.94L8.5 2.5l-.94 2.06-2.06.94zm10 10l.94 2.06.94-2.06 2.06-.94-2.06-.94-.94-2.06-.94 2.06-2.06.94z\"/><path d=\"M17.41 7.96l-1.37-1.37c-.4-.4-.92-.59-1.43-.59-.52 0-1.04.2-1.43.59L10.3 9.45l-7.72 7.72c-.78.78-.78 2.05 0 2.83L4 21.41c.39.39.9.59 1.41.59.51 0 1.02-.2 1.41-.59l7.78-7.78 2.81-2.81c.8-.78.8-2.07 0-2.86zM5.41 20L4 18.59l7.72-7.72 1.47 1.35L5.41 20z\"/>\n",
              "  </svg>\n",
              "      </button>\n",
              "      \n",
              "  <style>\n",
              "    .colab-df-container {\n",
              "      display:flex;\n",
              "      flex-wrap:wrap;\n",
              "      gap: 12px;\n",
              "    }\n",
              "\n",
              "    .colab-df-convert {\n",
              "      background-color: #E8F0FE;\n",
              "      border: none;\n",
              "      border-radius: 50%;\n",
              "      cursor: pointer;\n",
              "      display: none;\n",
              "      fill: #1967D2;\n",
              "      height: 32px;\n",
              "      padding: 0 0 0 0;\n",
              "      width: 32px;\n",
              "    }\n",
              "\n",
              "    .colab-df-convert:hover {\n",
              "      background-color: #E2EBFA;\n",
              "      box-shadow: 0px 1px 2px rgba(60, 64, 67, 0.3), 0px 1px 3px 1px rgba(60, 64, 67, 0.15);\n",
              "      fill: #174EA6;\n",
              "    }\n",
              "\n",
              "    [theme=dark] .colab-df-convert {\n",
              "      background-color: #3B4455;\n",
              "      fill: #D2E3FC;\n",
              "    }\n",
              "\n",
              "    [theme=dark] .colab-df-convert:hover {\n",
              "      background-color: #434B5C;\n",
              "      box-shadow: 0px 1px 3px 1px rgba(0, 0, 0, 0.15);\n",
              "      filter: drop-shadow(0px 1px 2px rgba(0, 0, 0, 0.3));\n",
              "      fill: #FFFFFF;\n",
              "    }\n",
              "  </style>\n",
              "\n",
              "      <script>\n",
              "        const buttonEl =\n",
              "          document.querySelector('#df-aacbc307-46b4-49dc-8ad0-dfaa0efe6d48 button.colab-df-convert');\n",
              "        buttonEl.style.display =\n",
              "          google.colab.kernel.accessAllowed ? 'block' : 'none';\n",
              "\n",
              "        async function convertToInteractive(key) {\n",
              "          const element = document.querySelector('#df-aacbc307-46b4-49dc-8ad0-dfaa0efe6d48');\n",
              "          const dataTable =\n",
              "            await google.colab.kernel.invokeFunction('convertToInteractive',\n",
              "                                                     [key], {});\n",
              "          if (!dataTable) return;\n",
              "\n",
              "          const docLinkHtml = 'Like what you see? Visit the ' +\n",
              "            '<a target=\"_blank\" href=https://colab.research.google.com/notebooks/data_table.ipynb>data table notebook</a>'\n",
              "            + ' to learn more about interactive tables.';\n",
              "          element.innerHTML = '';\n",
              "          dataTable['output_type'] = 'display_data';\n",
              "          await google.colab.output.renderOutput(dataTable, element);\n",
              "          const docLink = document.createElement('div');\n",
              "          docLink.innerHTML = docLinkHtml;\n",
              "          element.appendChild(docLink);\n",
              "        }\n",
              "      </script>\n",
              "    </div>\n",
              "  </div>\n",
              "  "
            ],
            "text/plain": [
              "                      0         1         2         3         4         5   \\\n",
              "agricultural   -0.050827 -0.000346 -0.014999 -0.024274  0.032542  0.013817   \n",
              "enumeration    -0.016764  0.018393 -0.014047 -0.036145  0.014646  0.050686   \n",
              "share           0.132191 -0.105709  0.113350 -0.014739  0.095044  0.149274   \n",
              "habitation     -0.037607 -0.037124 -0.007126  0.004274 -0.063412  0.021302   \n",
              "impending      -0.029901  0.000949  0.006445 -0.062367  0.006158 -0.009940   \n",
              "sample          0.024184 -0.001557 -0.035046 -0.005544  0.041931  0.028603   \n",
              "unexhilarating  0.002843 -0.037773 -0.048014 -0.072212  0.001170 -0.003389   \n",
              "boils          -0.002897  0.008363 -0.012954 -0.002966  0.006714  0.008126   \n",
              "clearest       -0.004789 -0.003221 -0.019409 -0.041609  0.034804  0.018842   \n",
              "note           -0.256145 -0.093022  0.057054 -0.118053 -0.234950 -0.081610   \n",
              "\n",
              "                      6         7         8         9   ...        90  \\\n",
              "agricultural   -0.059165 -0.021513  0.007517  0.019252  ... -0.031464   \n",
              "enumeration    -0.029557 -0.052179  0.004057  0.001493  ... -0.031689   \n",
              "share           0.371555 -0.087336 -0.030958  0.158967  ... -0.116749   \n",
              "habitation      0.039118 -0.023034 -0.126960  0.078550  ... -0.013774   \n",
              "impending      -0.060981 -0.010933 -0.046151  0.061576  ...  0.011270   \n",
              "sample         -0.042631 -0.012820 -0.020909  0.038535  ... -0.030447   \n",
              "unexhilarating -0.016003 -0.048277 -0.013797 -0.007345  ... -0.012586   \n",
              "boils          -0.022727 -0.021139 -0.025995  0.010293  ... -0.014487   \n",
              "clearest       -0.073023 -0.033172 -0.040464  0.102871  ... -0.071759   \n",
              "note            0.269425  0.102358 -0.107117  0.164633  ...  0.033571   \n",
              "\n",
              "                      91        92        93        94        95        96  \\\n",
              "agricultural   -0.042933  0.005628 -0.041081  0.005538  0.022631 -0.021019   \n",
              "enumeration     0.015061  0.009161 -0.021850  0.017837 -0.008296 -0.019477   \n",
              "share          -0.021493 -0.141666  0.179021  0.037375 -0.203107 -0.075567   \n",
              "habitation     -0.106529  0.033974 -0.016205  0.097828  0.042515 -0.029643   \n",
              "impending      -0.049404 -0.006460 -0.007793 -0.025373 -0.000437 -0.047253   \n",
              "sample         -0.052490  0.002918 -0.004359  0.040297  0.014478 -0.012878   \n",
              "unexhilarating -0.009941  0.038458  0.002553  0.037401  0.061126  0.005608   \n",
              "boils          -0.001079  0.035845 -0.023560  0.024513  0.042954 -0.012822   \n",
              "clearest       -0.038551  0.026810 -0.034585  0.031578  0.041342 -0.019054   \n",
              "note            0.141801  0.240076  0.132685  0.048856 -0.041046  0.204019   \n",
              "\n",
              "                      97        98        99  \n",
              "agricultural   -0.026228  0.003599 -0.027970  \n",
              "enumeration    -0.007586  0.016316 -0.046000  \n",
              "share          -0.049841  0.099014  0.090929  \n",
              "habitation     -0.005376 -0.013291  0.035355  \n",
              "impending      -0.008952  0.064518 -0.034867  \n",
              "sample         -0.038558  0.007218 -0.015872  \n",
              "unexhilarating -0.001417  0.000334 -0.004846  \n",
              "boils          -0.003104  0.012092 -0.007025  \n",
              "clearest        0.000160  0.010955 -0.016434  \n",
              "note           -0.020787  0.095493 -0.102738  \n",
              "\n",
              "[10 rows x 100 columns]"
            ]
          },
          "execution_count": 77,
          "metadata": {},
          "output_type": "execute_result"
        }
      ],
      "source": [
        "import pandas as pd\n",
        "pd.DataFrame(word_embeddings, index=list(idx2word.values())).head(10)"
      ]
    },
    {
      "cell_type": "code",
      "execution_count": null,
      "metadata": {
        "id": "U2hsTmDyvca-"
      },
      "outputs": [],
      "source": [
        "from sklearn.metrics.pairwise import cosine_similarity\n",
        "similarity_matrix = cosine_similarity(word_embeddings)"
      ]
    },
    {
      "cell_type": "code",
      "execution_count": null,
      "metadata": {
        "id": "qjORrI9kvhG2"
      },
      "outputs": [],
      "source": [
        "search_terms = ['man', 'love', 'hatred', 'woman', 'wisdom',  'kindness', 'god', 'man', 'folly', 'fool']"
      ]
    },
    {
      "cell_type": "code",
      "execution_count": null,
      "metadata": {
        "id": "_3uCk1dGvkVh"
      },
      "outputs": [],
      "source": [
        "similar_words = {term: [idx2word[idx]\n",
        "                        for idx in (-1 * similarity_matrix[word2idx[term]-1]).argsort()[1:6] + 1]\n",
        "                        for term in search_terms}"
      ]
    },
    {
      "cell_type": "code",
      "execution_count": null,
      "metadata": {
        "colab": {
          "base_uri": "https://localhost:8080/"
        },
        "id": "vc4dcq33vsPd",
        "outputId": "65f02fab-94c8-43b8-c640-449b65ffa723"
      },
      "outputs": [
        {
          "name": "stdout",
          "output_type": "stream",
          "text": [
            "{'man': ['amiable', 'lives', 'avarice', 'respectable', 'boarder'], 'love': ['used', 'hoped', 'excepting', 'unconcerned', 'opposing'], 'hatred': ['sophys', 'bountiful', 'swisserland', 'maker', 'reclaim'], 'woman': ['amiable', 'arguments', 'bad', 'excited', 'sincerity'], 'wisdom': ['edition', 'nuncheon', 'adventurous', 'minced', 'gibson'], 'kindness': ['invited', 'desired', 'disappointed', 'safely', 'midsummer'], 'god': ['refreshed', 'celebrated', 'equivocation', 'palm', 'clamour'], 'folly': ['applied', 'misunderstood', 'unworthy', 'top', 'uprightness'], 'fool': ['providing', 'powerfully', 'blooming', 'permitting', 'genteelly']}\n"
          ]
        }
      ],
      "source": [
        "print(similar_words)"
      ]
    },
    {
      "cell_type": "code",
      "execution_count": null,
      "metadata": {
        "id": "FR0R9jFpvtoi"
      },
      "outputs": [],
      "source": [
        "from sklearn.manifold import TSNE\n",
        "import matplotlib.pyplot as plt"
      ]
    },
    {
      "cell_type": "code",
      "execution_count": null,
      "metadata": {
        "colab": {
          "base_uri": "https://localhost:8080/",
          "height": 572
        },
        "id": "YmunDeGAvwZJ",
        "outputId": "62bf3ef3-666b-4a9d-81ee-8f8812169453"
      },
      "outputs": [
        {
          "name": "stderr",
          "output_type": "stream",
          "text": [
            "/usr/local/lib/python3.8/dist-packages/sklearn/manifold/_t_sne.py:790: FutureWarning: The default learning rate in TSNE will change from 200.0 to 'auto' in 1.2.\n",
            "  warnings.warn(\n",
            "/usr/local/lib/python3.8/dist-packages/sklearn/manifold/_t_sne.py:982: FutureWarning: The PCA initialization in TSNE will change to have the standard deviation of PC1 equal to 1e-4 in 1.2. This will ensure better convergence.\n",
            "  warnings.warn(\n"
          ]
        },
        {
          "data": {
            "image/png": "[encoded data removed]",
            "text/plain": [
              "<Figure size 1008x576 with 1 Axes>"
            ]
          },
          "metadata": {},
          "output_type": "display_data"
        }
      ],
      "source": [
        "tsne = TSNE(perplexity=3, n_components=2, init='pca', n_iter=5000, method='exact')\n",
        "np.set_printoptions(suppress=True)\n",
        "plot_only = 50\n",
        "T = tsne.fit_transform(word_embeddings[:plot_only, :])\n",
        "labels = [idx2word[i+1] for i in range(plot_only)]\n",
        "plt.figure(figsize=(14, 8))\n",
        "plt.scatter(T[:, 0], T[:, 1])\n",
        "\n",
        "for label, x, y in zip(labels, T[:, 0], T[:, 1]):\n",
        "    plt.annotate(label, xy=(x+1, y+1), xytext=(0, 0), textcoords='offset points', ha='right', va='bottom')"
      ]
    },
    {
      "cell_type": "markdown",
      "metadata": {
        "id": "yefnRKZUwj3z"
      },
      "source": [
        "# **Part B: Using LSTMs for Text Classification**"
      ]
    },
    {
      "cell_type": "code",
      "execution_count": 62,
      "metadata": {
        "id": "CMPO7060wsov"
      },
      "outputs": [],
      "source": [
        "import keras\n",
        "import numpy as np\n",
        "from keras.models import Sequential\n",
        "from keras.layers import Embedding, LSTM, Dense, Dropout, Bidirectional\n",
        "imdb = keras.datasets.imdb"
      ]
    },
    {
      "cell_type": "code",
      "execution_count": 63,
      "metadata": {
        "id": "PR443JPmVfD0"
      },
      "outputs": [],
      "source": [
        "VOCAB_SIZE = 10000"
      ]
    },
    {
      "cell_type": "code",
      "execution_count": 64,
      "metadata": {
        "id": "hQ-yE6TFwvCy",
        "colab": {
          "base_uri": "https://localhost:8080/"
        },
        "outputId": "af109e28-b6eb-4335-db80-ba2e602281e2"
      },
      "outputs": [
        {
          "output_type": "stream",
          "name": "stdout",
          "text": [
            "Downloading data from https://storage.googleapis.com/tensorflow/tf-keras-datasets/imdb.npz\n",
            "17464789/17464789 [==============================] - 0s 0us/step\n"
          ]
        }
      ],
      "source": [
        "INDEX_FROM = 3\n",
        "(train_data,train_labels),(test_data,test_labels) = imdb.load_data(num_words=VOCAB_SIZE,index_from=INDEX_FROM)"
      ]
    },
    {
      "cell_type": "code",
      "execution_count": 65,
      "metadata": {
        "colab": {
          "base_uri": "https://localhost:8080/"
        },
        "id": "TfUsl_Xkw1LD",
        "outputId": "14ce0517-93ad-4561-f2ce-33fa4e21c2cd"
      },
      "outputs": [
        {
          "output_type": "stream",
          "name": "stdout",
          "text": [
            "\n",
            " Sample label: 1\n"
          ]
        }
      ],
      "source": [
        "print('\\n Sample label:', test_labels[1])"
      ]
    },
    {
      "cell_type": "code",
      "execution_count": 66,
      "metadata": {
        "colab": {
          "base_uri": "https://localhost:8080/"
        },
        "id": "QX8YREYaw4Ew",
        "outputId": "67ac3942-848d-4050-ff63-ba01a4252b63"
      },
      "outputs": [
        {
          "output_type": "stream",
          "name": "stdout",
          "text": [
            "Sample review: [1, 14, 22, 16, 43, 530, 973, 1622, 1385, 65, 458, 4468, 66, 3941, 4, 173, 36, 256, 5, 25, 100, 43, 838, 112, 50, 670, 2, 9, 35, 480, 284, 5, 150, 4, 172, 112, 167, 2, 336, 385, 39, 4, 172, 4536, 1111, 17, 546, 38, 13, 447, 4, 192, 50, 16, 6, 147, 2025, 19, 14, 22, 4, 1920, 4613, 469, 4, 22, 71, 87, 12, 16, 43, 530, 38, 76, 15, 13, 1247, 4, 22, 17, 515, 17, 12, 16, 626, 18, 2, 5, 62, 386, 12, 8, 316, 8, 106, 5, 4, 2223, 5244, 16, 480, 66, 3785, 33, 4, 130, 12, 16, 38, 619, 5, 25, 124, 51, 36, 135, 48, 25, 1415, 33, 6, 22, 12, 215, 28, 77, 52, 5, 14, 407, 16, 82, 2, 8, 4, 107, 117, 5952, 15, 256, 4, 2, 7, 3766, 5, 723, 36, 71, 43, 530, 476, 26, 400, 317, 46, 7, 4, 2, 1029, 13, 104, 88, 4, 381, 15, 297, 98, 32, 2071, 56, 26, 141, 6, 194, 7486, 18, 4, 226, 22, 21, 134, 476, 26, 480, 5, 144, 30, 5535, 18, 51, 36, 28, 224, 92, 25, 104, 4, 226, 65, 16, 38, 1334, 88, 12, 16, 283, 5, 16, 4472, 113, 103, 32, 15, 16, 5345, 19, 178, 32]\n"
          ]
        }
      ],
      "source": [
        "print('Sample review:', train_data[0])"
      ]
    },
    {
      "cell_type": "code",
      "execution_count": 67,
      "metadata": {
        "id": "aTFuigVmw7QG"
      },
      "outputs": [],
      "source": [
        "from tensorflow.keras.utils import pad_sequences\n",
        "MAXIMUM_LENGTH = 500\n",
        "preprocessed_train_data = pad_sequences(train_data,maxlen=MAXIMUM_LENGTH)\n",
        "processed_test_data = pad_sequences(test_data,maxlen=MAXIMUM_LENGTH)"
      ]
    },
    {
      "cell_type": "code",
      "execution_count": 68,
      "metadata": {
        "colab": {
          "base_uri": "https://localhost:8080/"
        },
        "id": "1xLqNvXsw8F0",
        "outputId": "cef7ce06-0cac-497c-8c5a-d90811fd1abf"
      },
      "outputs": [
        {
          "output_type": "stream",
          "name": "stdout",
          "text": [
            "Length of sample train_data before preprocessing: 189 <class 'list'>\n",
            "Length of sample train_data after preprocessing: 500 <class 'numpy.ndarray'>\n"
          ]
        }
      ],
      "source": [
        "print('Length of sample train_data before preprocessing:', len(train_data[1]), type(train_data[1]))\n",
        "print('Length of sample train_data after preprocessing:', len(preprocessed_train_data[0]), type(preprocessed_train_data[1]))"
      ]
    },
    {
      "cell_type": "code",
      "execution_count": 69,
      "metadata": {
        "id": "LVGzFjE2xAj0"
      },
      "outputs": [],
      "source": [
        "model = Sequential()\n",
        "EMBED_SIZE = 100\n",
        "model.add(Embedding(VOCAB_SIZE,EMBED_SIZE,input_length=MAXIMUM_LENGTH))\n",
        "model.add(LSTM(100, activation='tanh'))\n",
        "model.add(Dense(1,activation='sigmoid',input_shape=(1,)))\n",
        "model.compile(loss='binary_crossentropy',optimizer='adam',metrics=['accuracy'])"
      ]
    },
    {
      "cell_type": "code",
      "execution_count": 70,
      "metadata": {
        "colab": {
          "base_uri": "https://localhost:8080/"
        },
        "id": "GPz5F5KfxH1-",
        "outputId": "efe37236-341a-4bdf-fe46-47acd6b1e65a"
      },
      "outputs": [
        {
          "output_type": "stream",
          "name": "stdout",
          "text": [
            "Model: \"sequential\"\n",
            "_________________________________________________________________\n",
            " Layer (type)                Output Shape              Param #   \n",
            "=================================================================\n",
            " embedding (Embedding)       (None, 500, 100)          1000000   \n",
            "                                                                 \n",
            " lstm (LSTM)                 (None, 100)               80400     \n",
            "                                                                 \n",
            " dense (Dense)               (None, 1)                 101       \n",
            "                                                                 \n",
            "=================================================================\n",
            "Total params: 1,080,501\n",
            "Trainable params: 1,080,501\n",
            "Non-trainable params: 0\n",
            "_________________________________________________________________\n",
            "None\n"
          ]
        }
      ],
      "source": [
        "print(model.summary())"
      ]
    },
    {
      "cell_type": "code",
      "execution_count": 71,
      "metadata": {
        "colab": {
          "base_uri": "https://localhost:8080/",
          "height": 561
        },
        "id": "hpMk25qVxXIM",
        "outputId": "ae4a5614-60e9-4191-cd96-946f036d4db3"
      },
      "outputs": [
        {
          "output_type": "execute_result",
          "data": {
            "text/plain": [
              "<IPython.core.display.SVG object>"
            ],
            "image/svg+xml": "<svg xmlns=\"http://www.w3.org/2000/svg\" xmlns:xlink=\"http://www.w3.org/1999/xlink\" width=\"356pt\" height=\"405pt\" viewBox=\"0.00 0.00 267.00 304.00\">\n<g id=\"graph0\" class=\"graph\" transform=\"scale(0.75 0.75) rotate(0) translate(4 300)\">\n<title>G</title>\n<polygon fill=\"white\" stroke=\"transparent\" points=\"-4,4 -4,-300 263,-300 263,4 -4,4\"/>\n<!-- 140107372418192 -->\n<g id=\"node1\" class=\"node\">\n<title>140107372418192</title>\n<polygon fill=\"none\" stroke=\"black\" points=\"0,-249.5 0,-295.5 259,-295.5 259,-249.5 0,-249.5\"/>\n<text text-anchor=\"middle\" x=\"56\" y=\"-280.3\" font-family=\"Times,serif\" font-size=\"14.00\">embedding_input</text>\n<polyline fill=\"none\" stroke=\"black\" points=\"0,-272.5 112,-272.5 \"/>\n<text text-anchor=\"middle\" x=\"56\" y=\"-257.3\" font-family=\"Times,serif\" font-size=\"14.00\">InputLayer</text>\n<polyline fill=\"none\" stroke=\"black\" points=\"112,-249.5 112,-295.5 \"/>\n<text text-anchor=\"middle\" x=\"139.5\" y=\"-280.3\" font-family=\"Times,serif\" font-size=\"14.00\">input:</text>\n<polyline fill=\"none\" stroke=\"black\" points=\"112,-272.5 167,-272.5 \"/>\n<text text-anchor=\"middle\" x=\"139.5\" y=\"-257.3\" font-family=\"Times,serif\" font-size=\"14.00\">output:</text>\n<polyline fill=\"none\" stroke=\"black\" points=\"167,-249.5 167,-295.5 \"/>\n<text text-anchor=\"middle\" x=\"213\" y=\"-280.3\" font-family=\"Times,serif\" font-size=\"14.00\">[(None, 500)]</text>\n<polyline fill=\"none\" stroke=\"black\" points=\"167,-272.5 259,-272.5 \"/>\n<text text-anchor=\"middle\" x=\"213\" y=\"-257.3\" font-family=\"Times,serif\" font-size=\"14.00\">[(None, 500)]</text>\n</g>\n<!-- 140107372419392 -->\n<g id=\"node2\" class=\"node\">\n<title>140107372419392</title>\n<polygon fill=\"none\" stroke=\"black\" points=\"7,-166.5 7,-212.5 252,-212.5 252,-166.5 7,-166.5\"/>\n<text text-anchor=\"middle\" x=\"47\" y=\"-197.3\" font-family=\"Times,serif\" font-size=\"14.00\">embedding</text>\n<polyline fill=\"none\" stroke=\"black\" points=\"7,-189.5 87,-189.5 \"/>\n<text text-anchor=\"middle\" x=\"47\" y=\"-174.3\" font-family=\"Times,serif\" font-size=\"14.00\">Embedding</text>\n<polyline fill=\"none\" stroke=\"black\" points=\"87,-166.5 87,-212.5 \"/>\n<text text-anchor=\"middle\" x=\"114.5\" y=\"-197.3\" font-family=\"Times,serif\" font-size=\"14.00\">input:</text>\n<polyline fill=\"none\" stroke=\"black\" points=\"87,-189.5 142,-189.5 \"/>\n<text text-anchor=\"middle\" x=\"114.5\" y=\"-174.3\" font-family=\"Times,serif\" font-size=\"14.00\">output:</text>\n<polyline fill=\"none\" stroke=\"black\" points=\"142,-166.5 142,-212.5 \"/>\n<text text-anchor=\"middle\" x=\"197\" y=\"-197.3\" font-family=\"Times,serif\" font-size=\"14.00\">(None, 500)</text>\n<polyline fill=\"none\" stroke=\"black\" points=\"142,-189.5 252,-189.5 \"/>\n<text text-anchor=\"middle\" x=\"197\" y=\"-174.3\" font-family=\"Times,serif\" font-size=\"14.00\">(None, 500, 100)</text>\n</g>\n<!-- 140107372418192&#45;&gt;140107372419392 -->\n<g id=\"edge1\" class=\"edge\">\n<title>140107372418192-&gt;140107372419392</title>\n<path fill=\"none\" stroke=\"black\" d=\"M129.5,-249.37C129.5,-241.15 129.5,-231.66 129.5,-222.73\"/>\n<polygon fill=\"black\" stroke=\"black\" points=\"133,-222.61 129.5,-212.61 126,-222.61 133,-222.61\"/>\n</g>\n<!-- 140107372420400 -->\n<g id=\"node3\" class=\"node\">\n<title>140107372420400</title>\n<polygon fill=\"none\" stroke=\"black\" points=\"20.5,-83.5 20.5,-129.5 238.5,-129.5 238.5,-83.5 20.5,-83.5\"/>\n<text text-anchor=\"middle\" x=\"47\" y=\"-114.3\" font-family=\"Times,serif\" font-size=\"14.00\">lstm</text>\n<polyline fill=\"none\" stroke=\"black\" points=\"20.5,-106.5 73.5,-106.5 \"/>\n<text text-anchor=\"middle\" x=\"47\" y=\"-91.3\" font-family=\"Times,serif\" font-size=\"14.00\">LSTM</text>\n<polyline fill=\"none\" stroke=\"black\" points=\"73.5,-83.5 73.5,-129.5 \"/>\n<text text-anchor=\"middle\" x=\"101\" y=\"-114.3\" font-family=\"Times,serif\" font-size=\"14.00\">input:</text>\n<polyline fill=\"none\" stroke=\"black\" points=\"73.5,-106.5 128.5,-106.5 \"/>\n<text text-anchor=\"middle\" x=\"101\" y=\"-91.3\" font-family=\"Times,serif\" font-size=\"14.00\">output:</text>\n<polyline fill=\"none\" stroke=\"black\" points=\"128.5,-83.5 128.5,-129.5 \"/>\n<text text-anchor=\"middle\" x=\"183.5\" y=\"-114.3\" font-family=\"Times,serif\" font-size=\"14.00\">(None, 500, 100)</text>\n<polyline fill=\"none\" stroke=\"black\" points=\"128.5,-106.5 238.5,-106.5 \"/>\n<text text-anchor=\"middle\" x=\"183.5\" y=\"-91.3\" font-family=\"Times,serif\" font-size=\"14.00\">(None, 100)</text>\n</g>\n<!-- 140107372419392&#45;&gt;140107372420400 -->\n<g id=\"edge2\" class=\"edge\">\n<title>140107372419392-&gt;140107372420400</title>\n<path fill=\"none\" stroke=\"black\" d=\"M129.5,-166.37C129.5,-158.15 129.5,-148.66 129.5,-139.73\"/>\n<polygon fill=\"black\" stroke=\"black\" points=\"133,-139.61 129.5,-129.61 126,-139.61 133,-139.61\"/>\n</g>\n<!-- 140107378702656 -->\n<g id=\"node4\" class=\"node\">\n<title>140107378702656</title>\n<polygon fill=\"none\" stroke=\"black\" points=\"35.5,-0.5 35.5,-46.5 223.5,-46.5 223.5,-0.5 35.5,-0.5\"/>\n<text text-anchor=\"middle\" x=\"60.5\" y=\"-31.3\" font-family=\"Times,serif\" font-size=\"14.00\">dense</text>\n<polyline fill=\"none\" stroke=\"black\" points=\"35.5,-23.5 85.5,-23.5 \"/>\n<text text-anchor=\"middle\" x=\"60.5\" y=\"-8.3\" font-family=\"Times,serif\" font-size=\"14.00\">Dense</text>\n<polyline fill=\"none\" stroke=\"black\" points=\"85.5,-0.5 85.5,-46.5 \"/>\n<text text-anchor=\"middle\" x=\"113\" y=\"-31.3\" font-family=\"Times,serif\" font-size=\"14.00\">input:</text>\n<polyline fill=\"none\" stroke=\"black\" points=\"85.5,-23.5 140.5,-23.5 \"/>\n<text text-anchor=\"middle\" x=\"113\" y=\"-8.3\" font-family=\"Times,serif\" font-size=\"14.00\">output:</text>\n<polyline fill=\"none\" stroke=\"black\" points=\"140.5,-0.5 140.5,-46.5 \"/>\n<text text-anchor=\"middle\" x=\"182\" y=\"-31.3\" font-family=\"Times,serif\" font-size=\"14.00\">(None, 100)</text>\n<polyline fill=\"none\" stroke=\"black\" points=\"140.5,-23.5 223.5,-23.5 \"/>\n<text text-anchor=\"middle\" x=\"182\" y=\"-8.3\" font-family=\"Times,serif\" font-size=\"14.00\">(None, 1)</text>\n</g>\n<!-- 140107372420400&#45;&gt;140107378702656 -->\n<g id=\"edge3\" class=\"edge\">\n<title>140107372420400-&gt;140107378702656</title>\n<path fill=\"none\" stroke=\"black\" d=\"M129.5,-83.37C129.5,-75.15 129.5,-65.66 129.5,-56.73\"/>\n<polygon fill=\"black\" stroke=\"black\" points=\"133,-56.61 129.5,-46.61 126,-56.61 133,-56.61\"/>\n</g>\n</g>\n</svg>"
          },
          "metadata": {},
          "execution_count": 71
        }
      ],
      "source": [
        "from IPython.display import SVG\n",
        "from keras.utils import vis_utils\n",
        "SVG(vis_utils.model_to_dot(model, show_shapes=True, show_layer_names=True).create(prog='dot', format='svg'))"
      ]
    },
    {
      "cell_type": "code",
      "execution_count": 72,
      "metadata": {
        "colab": {
          "base_uri": "https://localhost:8080/"
        },
        "id": "_4OcTjFNxbWr",
        "outputId": "72ece6ed-68d9-4b83-b705-a7f5ec75d6da"
      },
      "outputs": [
        {
          "output_type": "stream",
          "name": "stdout",
          "text": [
            "Epoch 1/3\n",
            "45/45 [==============================] - 139s 3s/step - loss: 0.5990 - accuracy: 0.6915 - val_loss: 0.4496 - val_accuracy: 0.8280\n",
            "Epoch 2/3\n",
            "45/45 [==============================] - 134s 3s/step - loss: 0.3320 - accuracy: 0.8664 - val_loss: 0.3106 - val_accuracy: 0.8740\n",
            "Epoch 3/3\n",
            "45/45 [==============================] - 134s 3s/step - loss: 0.2117 - accuracy: 0.9217 - val_loss: 0.2977 - val_accuracy: 0.8805\n"
          ]
        }
      ],
      "source": [
        "history = model.fit(preprocessed_train_data,\n",
        "                    train_labels,\n",
        "                    epochs=3,\n",
        "                    batch_size=512,\n",
        "                    validation_split=0.08,\n",
        "                    verbose=1)"
      ]
    },
    {
      "cell_type": "code",
      "execution_count": 73,
      "metadata": {
        "colab": {
          "base_uri": "https://localhost:8080/"
        },
        "id": "LyAx4UgIxf8D",
        "outputId": "5ecaea3a-da91-4a4d-a2ed-a644110a6a3a"
      },
      "outputs": [
        {
          "output_type": "stream",
          "name": "stdout",
          "text": [
            "782/782 [==============================] - 70s 89ms/step - loss: 0.2982 - accuracy: 0.8770\n"
          ]
        }
      ],
      "source": [
        "results = model.evaluate(processed_test_data, test_labels)"
      ]
    },
    {
      "cell_type": "code",
      "execution_count": 74,
      "metadata": {
        "colab": {
          "base_uri": "https://localhost:8080/"
        },
        "id": "-3PBj9s-xhFE",
        "outputId": "01896039-9d57-4343-efff-f0257231df90"
      },
      "outputs": [
        {
          "output_type": "stream",
          "name": "stdout",
          "text": [
            "[0.2982371151447296, 0.8770400285720825]\n"
          ]
        }
      ],
      "source": [
        "print(results)"
      ]
    },
    {
      "cell_type": "code",
      "execution_count": 75,
      "metadata": {
        "colab": {
          "base_uri": "https://localhost:8080/",
          "height": 295
        },
        "id": "arpTrrPkxkzK",
        "outputId": "48f9c354-ff80-49ce-93d4-4325cab7048a"
      },
      "outputs": [
        {
          "output_type": "display_data",
          "data": {
            "text/plain": [
              "<Figure size 432x288 with 1 Axes>"
            ],
            "image/png": "[encoded data removed]"
          },
          "metadata": {
            "needs_background": "light"
          }
        }
      ],
      "source": [
        "history_dict = history.history\n",
        "\n",
        "# acc = history_dict['acc']\n",
        "# val_acc = history_dict['val_acc']\n",
        "loss = history_dict['loss']\n",
        "val_loss = history_dict['val_loss']\n",
        "\n",
        "epochs = range(1, len(loss) + 1)\n",
        "\n",
        "plt.plot(epochs, loss, 'bo', label='Training loss')\n",
        "plt.plot(epochs, val_loss, 'b', label='Validation loss')\n",
        "plt.title('Training and validation')\n",
        "plt.xlabel('Epochs')\n",
        "plt.ylabel('Loss')\n",
        "plt.legend()\n",
        "\n",
        "plt.show()"
      ]
    },
    {
      "cell_type": "code",
      "execution_count": 82,
      "metadata": {
        "id": "VRBlRapax7Fx"
      },
      "outputs": [],
      "source": [
        "embed_layer = model.get_layer('embedding').get_weights()[0]"
      ]
    },
    {
      "cell_type": "code",
      "execution_count": 83,
      "metadata": {
        "colab": {
          "base_uri": "https://localhost:8080/"
        },
        "id": "XF18E4rtx8rf",
        "outputId": "a0fb5e76-bda9-4744-98c9-d5629d28044e"
      },
      "outputs": [
        {
          "output_type": "stream",
          "name": "stdout",
          "text": [
            "Shape of word_embeddings: (10000, 100)\n"
          ]
        }
      ],
      "source": [
        "print('Shape of word_embeddings:', embed_layer.shape)"
      ]
    },
    {
      "cell_type": "code",
      "execution_count": 84,
      "metadata": {
        "colab": {
          "base_uri": "https://localhost:8080/"
        },
        "id": "biUjI2ssx-LB",
        "outputId": "ca85e0c0-b64f-447c-9712-ecc56af08b09"
      },
      "outputs": [
        {
          "output_type": "stream",
          "name": "stdout",
          "text": [
            "Model: \"sequential\"\n",
            "_________________________________________________________________\n",
            " Layer (type)                Output Shape              Param #   \n",
            "=================================================================\n",
            " embedding (Embedding)       (None, 500, 100)          1000000   \n",
            "                                                                 \n",
            " lstm (LSTM)                 (None, 100)               80400     \n",
            "                                                                 \n",
            " dense (Dense)               (None, 1)                 101       \n",
            "                                                                 \n",
            "=================================================================\n",
            "Total params: 1,080,501\n",
            "Trainable params: 1,080,501\n",
            "Non-trainable params: 0\n",
            "_________________________________________________________________\n",
            "None\n"
          ]
        }
      ],
      "source": [
        "print(model.summary())"
      ]
    },
    {
      "cell_type": "code",
      "execution_count": 85,
      "metadata": {
        "colab": {
          "base_uri": "https://localhost:8080/"
        },
        "id": "ZOVXOCgsa3I1",
        "outputId": "33da841d-1620-4e5b-dc25-d966e0b3154c"
      },
      "outputs": [
        {
          "output_type": "stream",
          "name": "stdout",
          "text": [
            "Downloading data from https://storage.googleapis.com/tensorflow/tf-keras-datasets/imdb_word_index.json\n",
            "1641221/1641221 [==============================] - 0s 0us/step\n"
          ]
        }
      ],
      "source": [
        "word2idx = imdb.get_word_index()\n",
        "word2idx = {k:(v+INDEX_FROM) for k,v in word2idx.items() if v < 9998}\n",
        "word2idx[\"<PAD>\"] = 0\n",
        "word2idx[\"<START>\"] = 1\n",
        "word2idx[\"<UNK>\"] = 2\n",
        "word2idx[\"<OTH>\"] = 3"
      ]
    },
    {
      "cell_type": "code",
      "execution_count": 86,
      "metadata": {
        "colab": {
          "base_uri": "https://localhost:8080/"
        },
        "id": "XjGO8CK6a8Oq",
        "outputId": "9210938a-cb2a-446d-e11b-d023151f7bdb"
      },
      "outputs": [
        {
          "output_type": "stream",
          "name": "stdout",
          "text": [
            "<START> this film was just brilliant casting location scenery story direction everyone's really suited the part they played and you could just imagine being there robert <UNK> is an amazing actor and now the same being director <UNK> father came from the same scottish island as myself so i loved the fact there was a real connection with this film the witty remarks throughout the film were great it was just brilliant so much that i bought the film as soon as it was released for <UNK> and would recommend it to everyone to watch and the fly fishing was amazing really cried at the end it was so sad and you know what they say if you cry at a film it must have been good and this definitely was also <UNK> to the two little boy's that played the <UNK> of norman and paul they were just brilliant children are often left out of the <UNK> list i think because the stars that play them all grown up are such a big profile for the whole film but these children are amazing and should be praised for what they have done don't you think the whole story was so lovely because it was true and was someone's life after all that was shared with us all\n"
          ]
        }
      ],
      "source": [
        "idx2word = {v: k for k,v in word2idx.items()}\n",
        "print(' '.join(idx2word[idx] for idx in train_data[0]))"
      ]
    },
    {
      "cell_type": "code",
      "execution_count": 87,
      "metadata": {
        "colab": {
          "base_uri": "https://localhost:8080/"
        },
        "id": "rm27CFzfa_47",
        "outputId": "349f16dd-c566-432f-9c2a-1f07fb129452"
      },
      "outputs": [
        {
          "output_type": "stream",
          "name": "stdout",
          "text": [
            "[1, 14, 22, 16, 43, 530, 973, 1622, 1385, 65, 458, 4468, 66, 3941, 4, 173, 36, 256, 5, 25, 100, 43, 838, 112, 50, 670, 2, 9, 35, 480, 284, 5, 150, 4, 172, 112, 167, 2, 336, 385, 39, 4, 172, 4536, 1111, 17, 546, 38, 13, 447, 4, 192, 50, 16, 6, 147, 2025, 19, 14, 22, 4, 1920, 4613, 469, 4, 22, 71, 87, 12, 16, 43, 530, 38, 76, 15, 13, 1247, 4, 22, 17, 515, 17, 12, 16, 626, 18, 2, 5, 62, 386, 12, 8, 316, 8, 106, 5, 4, 2223, 5244, 16, 480, 66, 3785, 33, 4, 130, 12, 16, 38, 619, 5, 25, 124, 51, 36, 135, 48, 25, 1415, 33, 6, 22, 12, 215, 28, 77, 52, 5, 14, 407, 16, 82, 2, 8, 4, 107, 117, 5952, 15, 256, 4, 2, 7, 3766, 5, 723, 36, 71, 43, 530, 476, 26, 400, 317, 46, 7, 4, 2, 1029, 13, 104, 88, 4, 381, 15, 297, 98, 32, 2071, 56, 26, 141, 6, 194, 7486, 18, 4, 226, 22, 21, 134, 476, 26, 480, 5, 144, 30, 5535, 18, 51, 36, 28, 224, 92, 25, 104, 4, 226, 65, 16, 38, 1334, 88, 12, 16, 283, 5, 16, 4472, 113, 103, 32, 15, 16, 5345, 19, 178, 32]\n"
          ]
        }
      ],
      "source": [
        "print(train_data[0])"
      ]
    },
    {
      "cell_type": "code",
      "execution_count": 88,
      "metadata": {
        "id": "qGZEmycrbDkV"
      },
      "outputs": [],
      "source": [
        "from sklearn.metrics.pairwise import cosine_similarity\n",
        "similarity_matrix = cosine_similarity(embed_layer)"
      ]
    },
    {
      "cell_type": "code",
      "execution_count": 89,
      "metadata": {
        "id": "V6UCWcZVbelF"
      },
      "outputs": [],
      "source": [
        "from sklearn.manifold import TSNE\n",
        "import matplotlib.pyplot as plt"
      ]
    },
    {
      "cell_type": "code",
      "execution_count": 92,
      "metadata": {
        "colab": {
          "base_uri": "https://localhost:8080/",
          "height": 483
        },
        "id": "Pu7eEj0sbjnm",
        "outputId": "b6b035f5-e1c7-411f-dbc8-c33b246f215d"
      },
      "outputs": [
        {
          "output_type": "display_data",
          "data": {
            "text/plain": [
              "<Figure size 1008x576 with 1 Axes>"
            ],
            "image/png": "[encoded data removed]"
          },
          "metadata": {
            "needs_background": "light"
          }
        }
      ],
      "source": [
        "tsne = TSNE(perplexity=3, n_components=2, init='pca', n_iter=5000, method='exact')\n",
        "np.set_printoptions(suppress=True)\n",
        "plot_only = 50\n",
        "T = tsne.fit_transform(embed_layer[:plot_only, :])\n",
        "labels = [idx2word[i] for i in range(plot_only)]\n",
        "plt.figure(figsize=(14, 8))\n",
        "plt.scatter(T[:, 0], T[:, 1])\n",
        "\n",
        "for label, x, y in zip(labels, T[:, 0], T[:, 1]):\n",
        "    plt.annotate(label, xy=(x+1, y+1), xytext=(0, 0), textcoords='offset points', ha='right', va='bottom')"
      ]
    },
    {
      "cell_type": "code",
      "execution_count": 91,
      "metadata": {
        "colab": {
          "base_uri": "https://localhost:8080/"
        },
        "id": "5eczfGiXbmIQ",
        "outputId": "23bcadb3-a65b-4bfe-cbb8-51406a1660f2"
      },
      "outputs": [
        {
          "output_type": "stream",
          "name": "stdout",
          "text": [
            "Model: \"sequential_1\"\n",
            "_________________________________________________________________\n",
            " Layer (type)                Output Shape              Param #   \n",
            "=================================================================\n",
            " embedding_1 (Embedding)     (None, 500, 100)          1000000   \n",
            "                                                                 \n",
            " dropout (Dropout)           (None, 500, 100)          0         \n",
            "                                                                 \n",
            " lstm_1 (LSTM)               (None, 100)               80400     \n",
            "                                                                 \n",
            " dropout_1 (Dropout)         (None, 100)               0         \n",
            "                                                                 \n",
            " dense_1 (Dense)             (None, 1)                 101       \n",
            "                                                                 \n",
            "=================================================================\n",
            "Total params: 1,080,501\n",
            "Trainable params: 1,080,501\n",
            "Non-trainable params: 0\n",
            "_________________________________________________________________\n",
            "None\n"
          ]
        }
      ],
      "source": [
        "model2 = Sequential()\n",
        "EMBED_SIZE = 100\n",
        "# model.add()\n",
        "model2.add(Embedding(VOCAB_SIZE,EMBED_SIZE,input_length=MAXIMUM_LENGTH))\n",
        "model2.add(Dropout(0.2))\n",
        "model2.add(LSTM(100, activation='tanh'))\n",
        "model2.add(Dropout(0.2))\n",
        "model2.add(Dense(1,activation='sigmoid',input_shape=(1,)))\n",
        "print(model2.summary())"
      ]
    },
    {
      "cell_type": "code",
      "execution_count": 93,
      "metadata": {
        "id": "pNms6zbIbyHV"
      },
      "outputs": [],
      "source": [
        "model2.compile(loss='binary_crossentropy',optimizer='adam',metrics=['accuracy'])"
      ]
    },
    {
      "cell_type": "code",
      "execution_count": 94,
      "metadata": {
        "colab": {
          "base_uri": "https://localhost:8080/"
        },
        "id": "ATwvEm_ebzI8",
        "outputId": "5bc7a483-13e0-46a3-e967-802fc10434c2"
      },
      "outputs": [
        {
          "output_type": "stream",
          "name": "stdout",
          "text": [
            "Epoch 1/6\n",
            "45/45 [==============================] - 150s 3s/step - loss: 0.6578 - accuracy: 0.6732 - val_loss: 0.6019 - val_accuracy: 0.7430\n",
            "Epoch 2/6\n",
            "45/45 [==============================] - 146s 3s/step - loss: 0.3997 - accuracy: 0.8299 - val_loss: 0.3404 - val_accuracy: 0.8525\n",
            "Epoch 3/6\n",
            "45/45 [==============================] - 145s 3s/step - loss: 0.2403 - accuracy: 0.9058 - val_loss: 0.3011 - val_accuracy: 0.8780\n",
            "Epoch 4/6\n",
            "45/45 [==============================] - 145s 3s/step - loss: 0.1756 - accuracy: 0.9365 - val_loss: 0.3064 - val_accuracy: 0.8760\n",
            "Epoch 5/6\n",
            "45/45 [==============================] - 146s 3s/step - loss: 0.1359 - accuracy: 0.9544 - val_loss: 0.3292 - val_accuracy: 0.8740\n",
            "Epoch 6/6\n",
            "45/45 [==============================] - 147s 3s/step - loss: 0.1161 - accuracy: 0.9617 - val_loss: 0.3630 - val_accuracy: 0.8755\n"
          ]
        }
      ],
      "source": [
        "history = model2.fit(preprocessed_train_data,\n",
        "                    train_labels,\n",
        "                    epochs=6,\n",
        "                    batch_size=512,\n",
        "                    validation_split=0.08,\n",
        "                    verbose=1)"
      ]
    },
    {
      "cell_type": "code",
      "execution_count": 95,
      "metadata": {
        "colab": {
          "base_uri": "https://localhost:8080/"
        },
        "id": "wNZoAzVsb1EO",
        "outputId": "b81cdcbf-9743-45da-b85a-af40b27e89c6"
      },
      "outputs": [
        {
          "output_type": "stream",
          "name": "stdout",
          "text": [
            "782/782 [==============================] - 69s 89ms/step - loss: 0.3751 - accuracy: 0.8704\n",
            "[0.3751215934753418, 0.8704400062561035]\n"
          ]
        }
      ],
      "source": [
        "results = model2.evaluate(processed_test_data, test_labels)\n",
        "print(results)"
      ]
    },
    {
      "cell_type": "code",
      "execution_count": 96,
      "metadata": {
        "colab": {
          "base_uri": "https://localhost:8080/",
          "height": 295
        },
        "id": "Fwg9xLQ5ceiG",
        "outputId": "72740a7b-a154-478f-abf0-234ac723f598"
      },
      "outputs": [
        {
          "output_type": "display_data",
          "data": {
            "text/plain": [
              "<Figure size 432x288 with 1 Axes>"
            ],
            "image/png": "[encoded data removed]"
          },
          "metadata": {
            "needs_background": "light"
          }
        }
      ],
      "source": [
        "history_dict = history.history\n",
        "\n",
        "# acc = history_dict['acc']\n",
        "# val_acc = history_dict['val_acc']\n",
        "loss = history_dict['loss']\n",
        "val_loss = history_dict['val_loss']\n",
        "\n",
        "epochs = range(1, len(loss) + 1)\n",
        "\n",
        "plt.plot(epochs, loss, 'bo', label='Training loss')\n",
        "plt.plot(epochs, val_loss, 'b', label='Validation loss')\n",
        "plt.title('Training and validation')\n",
        "plt.xlabel('Epochs')\n",
        "plt.ylabel('Loss')\n",
        "plt.legend()\n",
        "\n",
        "plt.show()"
      ]
    },
    {
      "cell_type": "markdown",
      "metadata": {
        "id": "VhEP4UKhjNWh"
      },
      "source": [
        "# **Part C: Comparing Classification Models**"
      ]
    },
    {
      "cell_type": "code",
      "execution_count": 103,
      "metadata": {
        "id": "EWQIQxwgjVjn"
      },
      "outputs": [],
      "source": [
        "import keras\n",
        "import tensorflow.keras as tk\n",
        "import numpy as np\n",
        "from keras.layers import Lambda, GlobalAveragePooling1D, Dense, Embedding\n",
        "from keras import backend as K\n",
        "from keras.models import Sequential\n",
        "from keras.utils import pad_sequences\n",
        "import matplotlib.pyplot as plt"
      ]
    },
    {
      "cell_type": "code",
      "execution_count": 104,
      "metadata": {
        "id": "LDmtxoxx17Bp"
      },
      "outputs": [],
      "source": [
        "imdb = tk.datasets.imdb\n",
        "(X_train, y_train), (X_test, y_test) = imdb.load_data(num_words=10000)"
      ]
    },
    {
      "cell_type": "code",
      "execution_count": 105,
      "metadata": {
        "colab": {
          "base_uri": "https://localhost:8080/"
        },
        "id": "NSw1aA9g2Ro9",
        "outputId": "aeccf1f8-396c-4066-9c59-3b5e6266b89c"
      },
      "outputs": [
        {
          "output_type": "stream",
          "name": "stdout",
          "text": [
            "Training entires: 25000, labels: 25000\n"
          ]
        }
      ],
      "source": [
        "print(\"Training entires: {}, labels: {}\".format(len(X_train), len(y_train)))"
      ]
    },
    {
      "cell_type": "code",
      "execution_count": 106,
      "metadata": {
        "colab": {
          "base_uri": "https://localhost:8080/"
        },
        "id": "MGiEaja83VkE",
        "outputId": "0bcffa5f-b15e-4aff-d752-42458b5aa260"
      },
      "outputs": [
        {
          "output_type": "execute_result",
          "data": {
            "text/plain": [
              "array([list([1, 14, 22, 16, 43, 530, 973, 1622, 1385, 65, 458, 4468, 66, 3941, 4, 173, 36, 256, 5, 25, 100, 43, 838, 112, 50, 670, 2, 9, 35, 480, 284, 5, 150, 4, 172, 112, 167, 2, 336, 385, 39, 4, 172, 4536, 1111, 17, 546, 38, 13, 447, 4, 192, 50, 16, 6, 147, 2025, 19, 14, 22, 4, 1920, 4613, 469, 4, 22, 71, 87, 12, 16, 43, 530, 38, 76, 15, 13, 1247, 4, 22, 17, 515, 17, 12, 16, 626, 18, 2, 5, 62, 386, 12, 8, 316, 8, 106, 5, 4, 2223, 5244, 16, 480, 66, 3785, 33, 4, 130, 12, 16, 38, 619, 5, 25, 124, 51, 36, 135, 48, 25, 1415, 33, 6, 22, 12, 215, 28, 77, 52, 5, 14, 407, 16, 82, 2, 8, 4, 107, 117, 5952, 15, 256, 4, 2, 7, 3766, 5, 723, 36, 71, 43, 530, 476, 26, 400, 317, 46, 7, 4, 2, 1029, 13, 104, 88, 4, 381, 15, 297, 98, 32, 2071, 56, 26, 141, 6, 194, 7486, 18, 4, 226, 22, 21, 134, 476, 26, 480, 5, 144, 30, 5535, 18, 51, 36, 28, 224, 92, 25, 104, 4, 226, 65, 16, 38, 1334, 88, 12, 16, 283, 5, 16, 4472, 113, 103, 32, 15, 16, 5345, 19, 178, 32]),\n",
              "       list([1, 194, 1153, 194, 8255, 78, 228, 5, 6, 1463, 4369, 5012, 134, 26, 4, 715, 8, 118, 1634, 14, 394, 20, 13, 119, 954, 189, 102, 5, 207, 110, 3103, 21, 14, 69, 188, 8, 30, 23, 7, 4, 249, 126, 93, 4, 114, 9, 2300, 1523, 5, 647, 4, 116, 9, 35, 8163, 4, 229, 9, 340, 1322, 4, 118, 9, 4, 130, 4901, 19, 4, 1002, 5, 89, 29, 952, 46, 37, 4, 455, 9, 45, 43, 38, 1543, 1905, 398, 4, 1649, 26, 6853, 5, 163, 11, 3215, 2, 4, 1153, 9, 194, 775, 7, 8255, 2, 349, 2637, 148, 605, 2, 8003, 15, 123, 125, 68, 2, 6853, 15, 349, 165, 4362, 98, 5, 4, 228, 9, 43, 2, 1157, 15, 299, 120, 5, 120, 174, 11, 220, 175, 136, 50, 9, 4373, 228, 8255, 5, 2, 656, 245, 2350, 5, 4, 9837, 131, 152, 491, 18, 2, 32, 7464, 1212, 14, 9, 6, 371, 78, 22, 625, 64, 1382, 9, 8, 168, 145, 23, 4, 1690, 15, 16, 4, 1355, 5, 28, 6, 52, 154, 462, 33, 89, 78, 285, 16, 145, 95]),\n",
              "       list([1, 14, 47, 8, 30, 31, 7, 4, 249, 108, 7, 4, 5974, 54, 61, 369, 13, 71, 149, 14, 22, 112, 4, 2401, 311, 12, 16, 3711, 33, 75, 43, 1829, 296, 4, 86, 320, 35, 534, 19, 263, 4821, 1301, 4, 1873, 33, 89, 78, 12, 66, 16, 4, 360, 7, 4, 58, 316, 334, 11, 4, 1716, 43, 645, 662, 8, 257, 85, 1200, 42, 1228, 2578, 83, 68, 3912, 15, 36, 165, 1539, 278, 36, 69, 2, 780, 8, 106, 14, 6905, 1338, 18, 6, 22, 12, 215, 28, 610, 40, 6, 87, 326, 23, 2300, 21, 23, 22, 12, 272, 40, 57, 31, 11, 4, 22, 47, 6, 2307, 51, 9, 170, 23, 595, 116, 595, 1352, 13, 191, 79, 638, 89, 2, 14, 9, 8, 106, 607, 624, 35, 534, 6, 227, 7, 129, 113]),\n",
              "       list([1, 4, 2, 2, 33, 2804, 4, 2040, 432, 111, 153, 103, 4, 1494, 13, 70, 131, 67, 11, 61, 2, 744, 35, 3715, 761, 61, 5766, 452, 9214, 4, 985, 7, 2, 59, 166, 4, 105, 216, 1239, 41, 1797, 9, 15, 7, 35, 744, 2413, 31, 8, 4, 687, 23, 4, 2, 7339, 6, 3693, 42, 38, 39, 121, 59, 456, 10, 10, 7, 265, 12, 575, 111, 153, 159, 59, 16, 1447, 21, 25, 586, 482, 39, 4, 96, 59, 716, 12, 4, 172, 65, 9, 579, 11, 6004, 4, 1615, 5, 2, 7, 5168, 17, 13, 7064, 12, 19, 6, 464, 31, 314, 11, 2, 6, 719, 605, 11, 8, 202, 27, 310, 4, 3772, 3501, 8, 2722, 58, 10, 10, 537, 2116, 180, 40, 14, 413, 173, 7, 263, 112, 37, 152, 377, 4, 537, 263, 846, 579, 178, 54, 75, 71, 476, 36, 413, 263, 2504, 182, 5, 17, 75, 2306, 922, 36, 279, 131, 2895, 17, 2867, 42, 17, 35, 921, 2, 192, 5, 1219, 3890, 19, 2, 217, 4122, 1710, 537, 2, 1236, 5, 736, 10, 10, 61, 403, 9, 2, 40, 61, 4494, 5, 27, 4494, 159, 90, 263, 2311, 4319, 309, 8, 178, 5, 82, 4319, 4, 65, 15, 9225, 145, 143, 5122, 12, 7039, 537, 746, 537, 537, 15, 7979, 4, 2, 594, 7, 5168, 94, 9096, 3987, 2, 11, 2, 4, 538, 7, 1795, 246, 2, 9, 2, 11, 635, 14, 9, 51, 408, 12, 94, 318, 1382, 12, 47, 6, 2683, 936, 5, 6307, 2, 19, 49, 7, 4, 1885, 2, 1118, 25, 80, 126, 842, 10, 10, 2, 2, 4726, 27, 4494, 11, 1550, 3633, 159, 27, 341, 29, 2733, 19, 4185, 173, 7, 90, 2, 8, 30, 11, 4, 1784, 86, 1117, 8, 3261, 46, 11, 2, 21, 29, 9, 2841, 23, 4, 1010, 2, 793, 6, 2, 1386, 1830, 10, 10, 246, 50, 9, 6, 2750, 1944, 746, 90, 29, 2, 8, 124, 4, 882, 4, 882, 496, 27, 2, 2213, 537, 121, 127, 1219, 130, 5, 29, 494, 8, 124, 4, 882, 496, 4, 341, 7, 27, 846, 10, 10, 29, 9, 1906, 8, 97, 6, 236, 2, 1311, 8, 4, 2, 7, 31, 7, 2, 91, 2, 3987, 70, 4, 882, 30, 579, 42, 9, 12, 32, 11, 537, 10, 10, 11, 14, 65, 44, 537, 75, 2, 1775, 3353, 2, 1846, 4, 2, 7, 154, 5, 4, 518, 53, 2, 2, 7, 3211, 882, 11, 399, 38, 75, 257, 3807, 19, 2, 17, 29, 456, 4, 65, 7, 27, 205, 113, 10, 10, 2, 4, 2, 2, 9, 242, 4, 91, 1202, 2, 5, 2070, 307, 22, 7, 5168, 126, 93, 40, 2, 13, 188, 1076, 3222, 19, 4, 2, 7, 2348, 537, 23, 53, 537, 21, 82, 40, 2, 13, 2, 14, 280, 13, 219, 4, 2, 431, 758, 859, 4, 953, 1052, 2, 7, 5991, 5, 94, 40, 25, 238, 60, 2, 4, 2, 804, 2, 7, 4, 9941, 132, 8, 67, 6, 22, 15, 9, 283, 8, 5168, 14, 31, 9, 242, 955, 48, 25, 279, 2, 23, 12, 1685, 195, 25, 238, 60, 796, 2, 4, 671, 7, 2804, 5, 4, 559, 154, 888, 7, 726, 50, 26, 49, 7008, 15, 566, 30, 579, 21, 64, 2574]),\n",
              "       list([1, 249, 1323, 7, 61, 113, 10, 10, 13, 1637, 14, 20, 56, 33, 2401, 18, 457, 88, 13, 2626, 1400, 45, 3171, 13, 70, 79, 49, 706, 919, 13, 16, 355, 340, 355, 1696, 96, 143, 4, 22, 32, 289, 7, 61, 369, 71, 2359, 5, 13, 16, 131, 2073, 249, 114, 249, 229, 249, 20, 13, 28, 126, 110, 13, 473, 8, 569, 61, 419, 56, 429, 6, 1513, 18, 35, 534, 95, 474, 570, 5, 25, 124, 138, 88, 12, 421, 1543, 52, 725, 6397, 61, 419, 11, 13, 1571, 15, 1543, 20, 11, 4, 2, 5, 296, 12, 3524, 5, 15, 421, 128, 74, 233, 334, 207, 126, 224, 12, 562, 298, 2167, 1272, 7, 2601, 5, 516, 988, 43, 8, 79, 120, 15, 595, 13, 784, 25, 3171, 18, 165, 170, 143, 19, 14, 5, 7224, 6, 226, 251, 7, 61, 113]),\n",
              "       list([1, 778, 128, 74, 12, 630, 163, 15, 4, 1766, 7982, 1051, 2, 32, 85, 156, 45, 40, 148, 139, 121, 664, 665, 10, 10, 1361, 173, 4, 749, 2, 16, 3804, 8, 4, 226, 65, 12, 43, 127, 24, 2, 10, 10]),\n",
              "       list([1, 6740, 365, 1234, 5, 1156, 354, 11, 14, 5327, 6638, 7, 1016, 2, 5940, 356, 44, 4, 1349, 500, 746, 5, 200, 4, 4132, 11, 2, 9363, 1117, 1831, 7485, 5, 4831, 26, 6, 2, 4183, 17, 369, 37, 215, 1345, 143, 2, 5, 1838, 8, 1974, 15, 36, 119, 257, 85, 52, 486, 9, 6, 2, 8564, 63, 271, 6, 196, 96, 949, 4121, 4, 2, 7, 4, 2212, 2436, 819, 63, 47, 77, 7175, 180, 6, 227, 11, 94, 2494, 2, 13, 423, 4, 168, 7, 4, 22, 5, 89, 665, 71, 270, 56, 5, 13, 197, 12, 161, 5390, 99, 76, 23, 2, 7, 419, 665, 40, 91, 85, 108, 7, 4, 2084, 5, 4773, 81, 55, 52, 1901]),\n",
              "       list([1, 4, 2, 716, 4, 65, 7, 4, 689, 4367, 6308, 2343, 4804, 2, 2, 5270, 2, 2315, 2, 2, 2, 2, 4, 2, 628, 7685, 37, 9, 150, 4, 9820, 4069, 11, 2909, 4, 2, 847, 313, 6, 176, 2, 9, 6202, 138, 9, 4434, 19, 4, 96, 183, 26, 4, 192, 15, 27, 5842, 799, 7101, 2, 588, 84, 11, 4, 3231, 152, 339, 5206, 42, 4869, 2, 6293, 345, 4804, 2, 142, 43, 218, 208, 54, 29, 853, 659, 46, 4, 882, 183, 80, 115, 30, 4, 172, 174, 10, 10, 1001, 398, 1001, 1055, 526, 34, 3717, 2, 5262, 2, 17, 4, 6706, 1094, 871, 64, 85, 22, 2030, 1109, 38, 230, 9, 4, 4324, 2, 251, 5056, 1034, 195, 301, 14, 16, 31, 7, 4, 2, 8, 783, 2, 33, 4, 2945, 103, 465, 2, 42, 845, 45, 446, 11, 1895, 19, 184, 76, 32, 4, 5310, 207, 110, 13, 197, 4, 2, 16, 601, 964, 2152, 595, 13, 258, 4, 1730, 66, 338, 55, 5312, 4, 550, 728, 65, 1196, 8, 1839, 61, 1546, 42, 8361, 61, 602, 120, 45, 7304, 6, 320, 786, 99, 196, 2, 786, 5936, 4, 225, 4, 373, 1009, 33, 4, 130, 63, 69, 72, 1104, 46, 1292, 225, 14, 66, 194, 2, 1703, 56, 8, 803, 1004, 6, 2, 155, 11, 4, 2, 3231, 45, 853, 2029, 8, 30, 6, 117, 430, 19, 6, 8941, 9, 15, 66, 424, 8, 2337, 178, 9, 15, 66, 424, 8, 1465, 178, 9, 15, 66, 142, 15, 9, 424, 8, 28, 178, 662, 44, 12, 17, 4, 130, 898, 1686, 9, 6, 5623, 267, 185, 430, 4, 118, 2, 277, 15, 4, 1188, 100, 216, 56, 19, 4, 357, 114, 2, 367, 45, 115, 93, 788, 121, 4, 2, 79, 32, 68, 278, 39, 8, 818, 162, 4165, 237, 600, 7, 98, 306, 8, 157, 549, 628, 11, 6, 2, 13, 824, 15, 4104, 76, 42, 138, 36, 774, 77, 1059, 159, 150, 4, 229, 497, 8, 1493, 11, 175, 251, 453, 19, 8651, 189, 12, 43, 127, 6, 394, 292, 7, 8253, 4, 107, 8, 4, 2826, 15, 1082, 1251, 9, 906, 42, 1134, 6, 66, 78, 22, 15, 13, 244, 2519, 8, 135, 233, 52, 44, 10, 10, 466, 112, 398, 526, 34, 4, 1572, 4413, 6706, 1094, 225, 57, 599, 133, 225, 6, 227, 7, 541, 4323, 6, 171, 139, 7, 539, 2, 56, 11, 6, 3231, 21, 164, 25, 426, 81, 33, 344, 624, 19, 6, 4617, 7, 2, 2, 6, 5802, 4, 22, 9, 1082, 629, 237, 45, 188, 6, 55, 655, 707, 6371, 956, 225, 1456, 841, 42, 1310, 225, 6, 2493, 1467, 7722, 2828, 21, 4, 2, 9, 364, 23, 4, 2228, 2407, 225, 24, 76, 133, 18, 4, 189, 2293, 10, 10, 814, 11, 2, 11, 2642, 14, 47, 15, 682, 364, 352, 168, 44, 12, 45, 24, 913, 93, 21, 247, 2441, 4, 116, 34, 35, 1859, 8, 72, 177, 9, 164, 8, 901, 344, 44, 13, 191, 135, 13, 126, 421, 233, 18, 259, 10, 10, 4, 2, 6847, 4, 2, 3074, 7, 112, 199, 753, 357, 39, 63, 12, 115, 2, 763, 8, 15, 35, 3282, 1523, 65, 57, 599, 6, 1916, 277, 1730, 37, 25, 92, 202, 6, 8848, 44, 25, 28, 6, 22, 15, 122, 24, 4171, 72, 33, 32]),\n",
              "       list([1, 43, 188, 46, 5, 566, 264, 51, 6, 530, 664, 14, 9, 1713, 81, 25, 1135, 46, 7, 6, 20, 750, 11, 141, 4299, 5, 2, 4441, 102, 28, 413, 38, 120, 5533, 15, 4, 3974, 7, 5369, 142, 371, 318, 5, 955, 1713, 571, 2, 2, 122, 14, 8, 72, 54, 12, 86, 385, 46, 5, 14, 20, 9, 399, 8, 72, 150, 13, 161, 124, 6, 155, 44, 14, 159, 170, 83, 12, 5, 51, 6, 866, 48, 25, 842, 4, 1120, 25, 238, 79, 4, 547, 15, 14, 9, 31, 7, 148, 2, 102, 44, 35, 480, 3823, 2380, 19, 120, 4, 350, 228, 5, 269, 8, 28, 178, 1314, 2347, 7, 51, 6, 87, 65, 12, 9, 979, 21, 95, 24, 3186, 178, 11, 2, 14, 9, 24, 15, 20, 4, 84, 376, 4, 65, 14, 127, 141, 6, 52, 292, 7, 4751, 175, 561, 7, 68, 3866, 137, 75, 2541, 68, 182, 5, 235, 175, 333, 19, 98, 50, 9, 38, 76, 724, 4, 6750, 15, 166, 285, 36, 140, 143, 38, 76, 53, 3094, 1301, 4, 6991, 16, 82, 6, 87, 3578, 44, 2527, 7612, 5, 800, 4, 3033, 11, 35, 1728, 96, 21, 14, 22, 9, 76, 53, 7, 6, 406, 65, 13, 43, 219, 12, 639, 21, 13, 80, 140, 5, 135, 15, 14, 9, 31, 7, 4, 118, 3672, 13, 28, 126, 110]),\n",
              "       list([1, 14, 20, 47, 111, 439, 3445, 19, 12, 15, 166, 12, 216, 125, 40, 6, 364, 352, 707, 1187, 39, 294, 11, 22, 396, 13, 28, 8, 202, 12, 1109, 23, 94, 2, 151, 111, 211, 469, 4, 20, 13, 258, 546, 1104, 7273, 12, 16, 38, 78, 33, 211, 15, 12, 16, 2849, 63, 93, 12, 6, 253, 106, 10, 10, 48, 335, 267, 18, 6, 364, 1242, 1179, 20, 19, 6, 1009, 7, 1987, 189, 5, 6, 8419, 7, 2723, 2, 95, 1719, 6, 6035, 7, 3912, 7144, 49, 369, 120, 5, 28, 49, 253, 10, 10, 13, 1041, 19, 85, 795, 15, 4, 481, 9, 55, 78, 807, 9, 375, 8, 1167, 8, 794, 76, 7, 4, 58, 5, 4, 816, 9, 243, 7, 43, 50])],\n",
              "      dtype=object)"
            ]
          },
          "metadata": {},
          "execution_count": 106
        }
      ],
      "source": [
        "X_train[0:10]"
      ]
    },
    {
      "cell_type": "code",
      "execution_count": 107,
      "metadata": {
        "colab": {
          "base_uri": "https://localhost:8080/"
        },
        "id": "XCaR7nw23iFM",
        "outputId": "5cce8146-7743-4061-f13a-a9c152332ad9"
      },
      "outputs": [
        {
          "output_type": "execute_result",
          "data": {
            "text/plain": [
              "array([1, 0, 0, 1, 0, 0, 1, 0, 1, 0])"
            ]
          },
          "metadata": {},
          "execution_count": 107
        }
      ],
      "source": [
        "y_train[0:10]"
      ]
    },
    {
      "cell_type": "code",
      "execution_count": 108,
      "metadata": {
        "id": "jiu8MTZQ3bD8"
      },
      "outputs": [],
      "source": [
        "word_index = imdb.get_word_index()"
      ]
    },
    {
      "cell_type": "code",
      "execution_count": 109,
      "metadata": {
        "id": "aLwuiVMW3uLz"
      },
      "outputs": [],
      "source": [
        "word_index = {k:(v+3) for k,v in word_index.items()}\n",
        "word_index[\"<PAD>\"] = 0\n",
        "word_index[\"<START>\"] = 1\n",
        "word_index[\"<UNK>\"] = 2  \n",
        "word_index[\"<UNUSED>\"] = 3"
      ]
    },
    {
      "cell_type": "code",
      "execution_count": 110,
      "metadata": {
        "colab": {
          "base_uri": "https://localhost:8080/",
          "height": 35
        },
        "id": "l-L_4t6i4LP6",
        "outputId": "7a2fc6d4-3de8-4831-ed67-5fdc4e223682"
      },
      "outputs": [
        {
          "output_type": "execute_result",
          "data": {
            "text/plain": [
              "'you'"
            ],
            "application/vnd.google.colaboratory.intrinsic+json": {
              "type": "string"
            }
          },
          "metadata": {},
          "execution_count": 110
        }
      ],
      "source": [
        "reverse_word_index = dict([(value, key) for (key, value) in word_index.items()])\n",
        "reverse_word_index[25]"
      ]
    },
    {
      "cell_type": "code",
      "execution_count": 111,
      "metadata": {
        "id": "A1D6xeri4fdL"
      },
      "outputs": [],
      "source": [
        "def decode_review(text):\n",
        "    return ' '.join([reverse_word_index.get(i, '?') for i in text])"
      ]
    },
    {
      "cell_type": "code",
      "execution_count": 112,
      "metadata": {
        "colab": {
          "base_uri": "https://localhost:8080/",
          "height": 192
        },
        "id": "JkYFFBlc4kpf",
        "outputId": "29042ad1-426e-4f4a-e940-27ca983804ff"
      },
      "outputs": [
        {
          "output_type": "execute_result",
          "data": {
            "text/plain": [
              "\"<START> french horror cinema has seen something of a revival over the last couple of years with great films such as inside and <UNK> romance <UNK> on to the scene <UNK> <UNK> the revival just slightly but stands head and shoulders over most modern horror titles and is surely one of the best french horror films ever made <UNK> was obviously shot on a low budget but this is made up for in far more ways than one by the originality of the film and this in turn is <UNK> by the excellent writing and acting that ensure the film is a winner the plot focuses on two main ideas prison and black magic the central character is a man named <UNK> sent to prison for fraud he is put in a cell with three others the quietly insane <UNK> body building <UNK> marcus and his retarded boyfriend daisy after a short while in the cell together they stumble upon a hiding place in the wall that contains an old <UNK> after <UNK> part of it they soon realise its magical powers and realise they may be able to use it to break through the prison walls br br black magic is a very interesting topic and i'm actually quite surprised that there aren't more films based on it as there's so much scope for things to do with it it's fair to say that <UNK> makes the best of it's <UNK> as despite it's <UNK> the film never actually feels restrained and manages to flow well throughout director eric <UNK> provides a great atmosphere for the film the fact that most of it takes place inside the central prison cell <UNK> that the film feels very claustrophobic and this immensely benefits the central idea of the prisoners wanting to use magic to break out of the cell it's very easy to get behind them it's often said that the unknown is the thing that really <UNK> people and this film proves that as the director <UNK> that we can never really be sure of exactly what is round the corner and this helps to ensure that <UNK> actually does manage to be quite frightening the film is memorable for a lot of reasons outside the central plot the characters are all very interesting in their own way and the fact that the book itself almost takes on its own character is very well done anyone worried that the film won't deliver by the end won't be disappointed either as the ending both makes sense and manages to be quite horrifying overall <UNK> is a truly great horror film and one of the best of the decade highly recommended viewing\""
            ],
            "application/vnd.google.colaboratory.intrinsic+json": {
              "type": "string"
            }
          },
          "metadata": {},
          "execution_count": 112
        }
      ],
      "source": [
        "decode_review(X_train[10])"
      ]
    },
    {
      "cell_type": "code",
      "execution_count": 113,
      "metadata": {
        "id": "ZTs_Qj0c4uKd"
      },
      "outputs": [],
      "source": [
        "def OneHot(input_dim=None, input_length=None):\n",
        "    \n",
        "    if input_dim is None or input_length is None:\n",
        "        raise TypeError(\"input_dim or input_length is not set\")\n",
        "\n",
        "    \n",
        "    def _one_hot(x, num_classes):\n",
        "        return K.one_hot(K.cast(x, 'uint8'),\n",
        "                          num_classes=num_classes)\n",
        "\n",
        "    return Lambda(_one_hot,\n",
        "                  arguments={'num_classes': input_dim},\n",
        "                  input_shape=(input_length,))"
      ]
    },
    {
      "cell_type": "code",
      "execution_count": 114,
      "metadata": {
        "id": "ZINRsYzS40sU"
      },
      "outputs": [],
      "source": [
        "VOCAB_SIZE = 10000\n",
        "MAX_SEQUENCE_LENGTH = 256\n",
        "\n",
        "X_train_enc = pad_sequences(X_train, value=word_index[\"<PAD>\"],\n",
        "                                                        padding='post',\n",
        "                                                        maxlen=256)\n",
        "\n",
        "X_test_enc = pad_sequences(X_test, value=word_index[\"<PAD>\"],\n",
        "                                                       padding='post',\n",
        "                                                       maxlen=256)"
      ]
    },
    {
      "cell_type": "code",
      "execution_count": 115,
      "metadata": {
        "colab": {
          "base_uri": "https://localhost:8080/"
        },
        "id": "4MG3Bv8D5Fvi",
        "outputId": "e35dff08-3243-4446-df20-c5f2c5ef8de5"
      },
      "outputs": [
        {
          "output_type": "stream",
          "name": "stdout",
          "text": [
            "[   1  194 1153  194 8255   78  228    5    6 1463 4369 5012  134   26\n",
            "    4  715    8  118 1634   14  394   20   13  119  954  189  102    5\n",
            "  207  110 3103   21   14   69  188    8   30   23    7    4  249  126\n",
            "   93    4  114    9 2300 1523    5  647    4  116    9   35 8163    4\n",
            "  229    9  340 1322    4  118    9    4  130 4901   19    4 1002    5\n",
            "   89   29  952   46   37    4  455    9   45   43   38 1543 1905  398\n",
            "    4 1649   26 6853    5  163   11 3215    2    4 1153    9  194  775\n",
            "    7 8255    2  349 2637  148  605    2 8003   15  123  125   68    2\n",
            " 6853   15  349  165 4362   98    5    4  228    9   43    2 1157   15\n",
            "  299  120    5  120  174   11  220  175  136   50    9 4373  228 8255\n",
            "    5    2  656  245 2350    5    4 9837  131  152  491   18    2   32\n",
            " 7464 1212   14    9    6  371   78   22  625   64 1382    9    8  168\n",
            "  145   23    4 1690   15   16    4 1355    5   28    6   52  154  462\n",
            "   33   89   78  285   16  145   95    0    0    0    0    0    0    0\n",
            "    0    0    0    0    0    0    0    0    0    0    0    0    0    0\n",
            "    0    0    0    0    0    0    0    0    0    0    0    0    0    0\n",
            "    0    0    0    0    0    0    0    0    0    0    0    0    0    0\n",
            "    0    0    0    0    0    0    0    0    0    0    0    0    0    0\n",
            "    0    0    0    0]\n",
            "\n",
            "Length:  25000\n"
          ]
        }
      ],
      "source": [
        "print(X_train_enc[1])\n",
        "print('\\nLength: ', len(X_train_enc))"
      ]
    },
    {
      "cell_type": "code",
      "execution_count": 116,
      "metadata": {
        "id": "NVa08joz5cHE"
      },
      "outputs": [],
      "source": [
        "class GlobalAveragePooling1DMasked(GlobalAveragePooling1D):\n",
        "    def call(self, x, mask=None):\n",
        "        if mask != None:\n",
        "            return K.sum(x, axis=1) / K.sum(mask, axis=1)\n",
        "        else:\n",
        "            return super().call(x)"
      ]
    },
    {
      "cell_type": "code",
      "execution_count": 117,
      "metadata": {
        "colab": {
          "base_uri": "https://localhost:8080/"
        },
        "id": "ya1M7uRf5fp7",
        "outputId": "5bd27ff7-814d-4d40-f41e-2b23334521b3"
      },
      "outputs": [
        {
          "output_type": "stream",
          "name": "stdout",
          "text": [
            "Model: \"sequential_2\"\n",
            "_________________________________________________________________\n",
            " Layer (type)                Output Shape              Param #   \n",
            "=================================================================\n",
            " lambda (Lambda)             (None, 256, 10000)        0         \n",
            "                                                                 \n",
            " global_average_pooling1d_ma  (None, 10000)            0         \n",
            " sked (GlobalAveragePooling1                                     \n",
            " DMasked)                                                        \n",
            "                                                                 \n",
            " dense_2 (Dense)             (None, 16)                160016    \n",
            "                                                                 \n",
            " dense_3 (Dense)             (None, 1)                 17        \n",
            "                                                                 \n",
            "=================================================================\n",
            "Total params: 160,033\n",
            "Trainable params: 160,033\n",
            "Non-trainable params: 0\n",
            "_________________________________________________________________\n"
          ]
        }
      ],
      "source": [
        "model = Sequential()\n",
        "model.add(OneHot(VOCAB_SIZE,input_length=MAX_SEQUENCE_LENGTH))\n",
        "model.add(GlobalAveragePooling1DMasked())\n",
        "model.add(Dense(16,activation='relu'))\n",
        "model.add(Dense(1,activation='sigmoid'))\n",
        "model.summary()"
      ]
    },
    {
      "cell_type": "code",
      "execution_count": 118,
      "metadata": {
        "id": "TLin2jDG51Jh"
      },
      "outputs": [],
      "source": [
        "model.compile(optimizer='adam',\n",
        "              loss='binary_crossentropy',\n",
        "              metrics=['accuracy'])"
      ]
    },
    {
      "cell_type": "code",
      "execution_count": 119,
      "metadata": {
        "id": "-TciKIvD5-Qo"
      },
      "outputs": [],
      "source": [
        "X_val = np.array(X_train_enc[:10000])\n",
        "partial_X_train = np.array(X_train_enc[10000:])\n",
        "\n",
        "y_val = np.array(y_train[:10000])\n",
        "partial_y_train = np.array(y_train[10000:])"
      ]
    },
    {
      "cell_type": "code",
      "execution_count": 120,
      "metadata": {
        "colab": {
          "base_uri": "https://localhost:8080/"
        },
        "id": "rp2TIP5C6BU2",
        "outputId": "a1a05467-4855-40e1-ff25-3876053ff4d7"
      },
      "outputs": [
        {
          "output_type": "stream",
          "name": "stdout",
          "text": [
            "Epoch 1/10\n",
            "30/30 [==============================] - 95s 3s/step - loss: 0.6922 - accuracy: 0.5764 - val_loss: 0.6910 - val_accuracy: 0.6589\n",
            "Epoch 2/10\n",
            "30/30 [==============================] - 81s 3s/step - loss: 0.6897 - accuracy: 0.6449 - val_loss: 0.6885 - val_accuracy: 0.6625\n",
            "Epoch 3/10\n",
            "30/30 [==============================] - 81s 3s/step - loss: 0.6867 - accuracy: 0.6718 - val_loss: 0.6854 - val_accuracy: 0.6675\n",
            "Epoch 4/10\n",
            "30/30 [==============================] - 87s 3s/step - loss: 0.6833 - accuracy: 0.6745 - val_loss: 0.6817 - val_accuracy: 0.6631\n",
            "Epoch 5/10\n",
            "30/30 [==============================] - 82s 3s/step - loss: 0.6791 - accuracy: 0.6810 - val_loss: 0.6777 - val_accuracy: 0.6768\n",
            "Epoch 6/10\n",
            "30/30 [==============================] - 82s 3s/step - loss: 0.6745 - accuracy: 0.6857 - val_loss: 0.6731 - val_accuracy: 0.6832\n",
            "Epoch 7/10\n",
            "30/30 [==============================] - 91s 3s/step - loss: 0.6694 - accuracy: 0.6855 - val_loss: 0.6683 - val_accuracy: 0.6834\n",
            "Epoch 8/10\n",
            "30/30 [==============================] - 82s 3s/step - loss: 0.6639 - accuracy: 0.6891 - val_loss: 0.6627 - val_accuracy: 0.6799\n",
            "Epoch 9/10\n",
            "30/30 [==============================] - 83s 3s/step - loss: 0.6582 - accuracy: 0.6933 - val_loss: 0.6572 - val_accuracy: 0.6855\n",
            "Epoch 10/10\n",
            "30/30 [==============================] - 82s 3s/step - loss: 0.6522 - accuracy: 0.6945 - val_loss: 0.6514 - val_accuracy: 0.6858\n"
          ]
        }
      ],
      "source": [
        "history = model.fit(partial_X_train,\n",
        "                    partial_y_train,\n",
        "                    epochs=10,\n",
        "                    batch_size=512,\n",
        "                    validation_data=(X_val, y_val),\n",
        "                    verbose=1)"
      ]
    },
    {
      "cell_type": "code",
      "execution_count": 121,
      "metadata": {
        "id": "YfjlAsKA7j5x",
        "colab": {
          "base_uri": "https://localhost:8080/"
        },
        "outputId": "3c21e995-8914-48b8-83fd-6558f5bf0a85"
      },
      "outputs": [
        {
          "output_type": "stream",
          "name": "stdout",
          "text": [
            "782/782 [==============================] - 112s 144ms/step - loss: 0.6512 - accuracy: 0.6922\n"
          ]
        }
      ],
      "source": [
        "results = model.evaluate(X_test_enc, y_test)"
      ]
    },
    {
      "cell_type": "code",
      "execution_count": 122,
      "metadata": {
        "id": "pcqVTcox7nvh",
        "colab": {
          "base_uri": "https://localhost:8080/"
        },
        "outputId": "43de56f5-d044-4557-d5a5-0a96a49f1830"
      },
      "outputs": [
        {
          "output_type": "stream",
          "name": "stdout",
          "text": [
            "[0.65118807554245, 0.6922000050544739]\n"
          ]
        }
      ],
      "source": [
        "print(results)\n",
        "# loss,accuracy"
      ]
    },
    {
      "cell_type": "code",
      "execution_count": 123,
      "metadata": {
        "id": "uoMDVf9E7_BY",
        "colab": {
          "base_uri": "https://localhost:8080/",
          "height": 295
        },
        "outputId": "2637e5ff-af49-41dd-9eb6-35a2e66610aa"
      },
      "outputs": [
        {
          "output_type": "display_data",
          "data": {
            "text/plain": [
              "<Figure size 432x288 with 1 Axes>"
            ],
            "image/png": "[encoded data removed]"
          },
          "metadata": {
            "needs_background": "light"
          }
        }
      ],
      "source": [
        "history_dict = history.history\n",
        "\n",
        "# acc = history_dict['Loss']\n",
        "# val_acc = history_dict['val_acc']\n",
        "loss = history_dict['loss']\n",
        "val_loss = history_dict['val_loss']\n",
        "\n",
        "epochs = range(1, len(loss) + 1)\n",
        "\n",
        "plt.plot(epochs, loss, 'bo', label='Training loss')\n",
        "plt.plot(epochs, val_loss, 'b', label='Validation loss')\n",
        "plt.title('Training and validation')\n",
        "plt.xlabel('Epochs')\n",
        "plt.ylabel('Loss')\n",
        "plt.legend()\n",
        "\n",
        "plt.show()"
      ]
    },
    {
      "cell_type": "code",
      "source": [
        "VOCAB_SIZE= 10000\n",
        "model2 = Sequential()\n",
        "model2.add(Embedding(VOCAB_SIZE,16,input_length=MAX_SEQUENCE_LENGTH))\n",
        "model2.add(GlobalAveragePooling1DMasked())\n",
        "model2.add(Dense(16,activation='relu'))\n",
        "model2.add(Dense(1,activation='sigmoid'))\n",
        "print(model.summary())\n",
        "\n",
        "model2.compile(optimizer='adam',\n",
        "              loss='binary_crossentropy',\n",
        "              metrics=['accuracy'])\n",
        "\n",
        "X_val = np.array(X_train_enc[:10000])\n",
        "partial_X_train = np.array(X_train_enc[10000:])\n",
        "\n",
        "history2 = model2.fit(partial_X_train,\n",
        "                    partial_y_train,\n",
        "                    epochs=10,\n",
        "                    batch_size=512,\n",
        "                    validation_data=(X_val, y_val),\n",
        "                    verbose=1)\n",
        "\n",
        "results = model2.evaluate(X_test_enc, y_test)\n",
        "print(results)"
      ],
      "metadata": {
        "colab": {
          "base_uri": "https://localhost:8080/"
        },
        "id": "Gv22yFc7oD81",
        "outputId": "e53ced8f-e1e3-4664-c829-b17e60cccd2e"
      },
      "execution_count": 124,
      "outputs": [
        {
          "output_type": "stream",
          "name": "stdout",
          "text": [
            "Model: \"sequential_2\"\n",
            "_________________________________________________________________\n",
            " Layer (type)                Output Shape              Param #   \n",
            "=================================================================\n",
            " lambda (Lambda)             (None, 256, 10000)        0         \n",
            "                                                                 \n",
            " global_average_pooling1d_ma  (None, 10000)            0         \n",
            " sked (GlobalAveragePooling1                                     \n",
            " DMasked)                                                        \n",
            "                                                                 \n",
            " dense_2 (Dense)             (None, 16)                160016    \n",
            "                                                                 \n",
            " dense_3 (Dense)             (None, 1)                 17        \n",
            "                                                                 \n",
            "=================================================================\n",
            "Total params: 160,033\n",
            "Trainable params: 160,033\n",
            "Non-trainable params: 0\n",
            "_________________________________________________________________\n",
            "None\n",
            "Epoch 1/10\n",
            "30/30 [==============================] - 2s 33ms/step - loss: 0.6916 - accuracy: 0.5569 - val_loss: 0.6893 - val_accuracy: 0.5532\n",
            "Epoch 2/10\n",
            "30/30 [==============================] - 1s 23ms/step - loss: 0.6849 - accuracy: 0.6688 - val_loss: 0.6805 - val_accuracy: 0.7077\n",
            "Epoch 3/10\n",
            "30/30 [==============================] - 1s 17ms/step - loss: 0.6716 - accuracy: 0.7141 - val_loss: 0.6639 - val_accuracy: 0.7452\n",
            "Epoch 4/10\n",
            "30/30 [==============================] - 1s 18ms/step - loss: 0.6480 - accuracy: 0.7619 - val_loss: 0.6364 - val_accuracy: 0.7721\n",
            "Epoch 5/10\n",
            "30/30 [==============================] - 1s 19ms/step - loss: 0.6115 - accuracy: 0.7957 - val_loss: 0.5979 - val_accuracy: 0.7876\n",
            "Epoch 6/10\n",
            "30/30 [==============================] - 1s 19ms/step - loss: 0.5654 - accuracy: 0.8111 - val_loss: 0.5533 - val_accuracy: 0.8051\n",
            "Epoch 7/10\n",
            "30/30 [==============================] - 1s 19ms/step - loss: 0.5153 - accuracy: 0.8323 - val_loss: 0.5083 - val_accuracy: 0.8208\n",
            "Epoch 8/10\n",
            "30/30 [==============================] - 1s 20ms/step - loss: 0.4665 - accuracy: 0.8498 - val_loss: 0.4662 - val_accuracy: 0.8372\n",
            "Epoch 9/10\n",
            "30/30 [==============================] - 1s 19ms/step - loss: 0.4224 - accuracy: 0.8638 - val_loss: 0.4301 - val_accuracy: 0.8446\n",
            "Epoch 10/10\n",
            "30/30 [==============================] - 1s 19ms/step - loss: 0.3844 - accuracy: 0.8753 - val_loss: 0.4011 - val_accuracy: 0.8525\n",
            "782/782 [==============================] - 1s 2ms/step - loss: 0.4089 - accuracy: 0.8475\n",
            "[0.40890637040138245, 0.8475199937820435]\n"
          ]
        }
      ]
    },
    {
      "cell_type": "code",
      "source": [
        "results = model2.evaluate(X_test_enc, y_test)"
      ],
      "metadata": {
        "colab": {
          "base_uri": "https://localhost:8080/"
        },
        "id": "Pm_YYcI_oJX3",
        "outputId": "d6cbc030-e61e-4850-aa76-d1d9d97f774f"
      },
      "execution_count": 125,
      "outputs": [
        {
          "output_type": "stream",
          "name": "stdout",
          "text": [
            "782/782 [==============================] - 2s 2ms/step - loss: 0.4089 - accuracy: 0.8475\n"
          ]
        }
      ]
    },
    {
      "cell_type": "code",
      "source": [
        "print (results)"
      ],
      "metadata": {
        "colab": {
          "base_uri": "https://localhost:8080/"
        },
        "id": "_r8rEcCeoXWS",
        "outputId": "e3aba3aa-22ea-4df2-88f6-321afccd0eb2"
      },
      "execution_count": 126,
      "outputs": [
        {
          "output_type": "stream",
          "name": "stdout",
          "text": [
            "[0.40890637040138245, 0.8475199937820435]\n"
          ]
        }
      ]
    },
    {
      "cell_type": "code",
      "source": [
        "history_dict = history2.history\n",
        "\n",
        "# acc = history_dict['acc']\n",
        "# val_acc = history_dict['val_acc']\n",
        "loss = history_dict['loss']\n",
        "val_loss = history_dict['val_loss']\n",
        "\n",
        "epochs = range(1, len(loss) + 1)\n",
        "\n",
        "plt.plot(epochs, loss, 'bo', label='Training loss')\n",
        "plt.plot(epochs, val_loss, 'b', label='Validation loss')\n",
        "plt.title('Training and validation')\n",
        "plt.xlabel('Epochs')\n",
        "plt.ylabel('loss')\n",
        "plt.legend()\n",
        "\n",
        "plt.show()"
      ],
      "metadata": {
        "colab": {
          "base_uri": "https://localhost:8080/",
          "height": 295
        },
        "id": "pbsi6hTMoZuq",
        "outputId": "0e5a1158-5e2d-4e47-d8dd-3991345e19c0"
      },
      "execution_count": 127,
      "outputs": [
        {
          "output_type": "display_data",
          "data": {
            "text/plain": [
              "<Figure size 432x288 with 1 Axes>"
            ],
            "image/png": "[encoded data removed]"
          },
          "metadata": {
            "needs_background": "light"
          }
        }
      ]
    },
    {
      "cell_type": "code",
      "source": [
        "def readGloveFile(gloveFile):\n",
        "    with open(gloveFile, 'r') as f:\n",
        "        wordToGlove = {}  \n",
        "        wordToIndex = {}  \n",
        "        indexToWord = {}  \n",
        "\n",
        "        for line in f:\n",
        "            record = line.strip().split()\n",
        "            token = record[0] \n",
        "            wordToGlove[token] = np.array(record[1:], dtype=np.float64) \n",
        "            \n",
        "        tokens = sorted(wordToGlove.keys())\n",
        "        for idx, tok in enumerate(tokens):\n",
        "            kerasIdx = idx + 1  \n",
        "            wordToIndex[tok] = kerasIdx \n",
        "            indexToWord[kerasIdx] = tok \n",
        "\n",
        "    return wordToIndex, indexToWord, wordToGlove"
      ],
      "metadata": {
        "id": "442__0i0oolw"
      },
      "execution_count": 128,
      "outputs": []
    },
    {
      "cell_type": "code",
      "source": [
        "def createPretrainedEmbeddingLayer(wordToGlove, wordToIndex, isTrainable):\n",
        "    vocabLen = len(wordToIndex) + 1  \n",
        "    embDim = next(iter(wordToGlove.values())).shape[0]  \n",
        "   \n",
        "    embeddingMatrix = np.zeros((vocabLen, embDim))  \n",
        "    for word, index in wordToIndex.items():\n",
        "        embeddingMatrix[index, :] = wordToGlove[word] \n",
        "\n",
        "    embeddingLayer = Embedding(vocabLen, embDim, embeddings_initializer=Constant(embeddingMatrix), trainable=isTrainable)\n",
        "    return embeddingLayer"
      ],
      "metadata": {
        "id": "lOsUq55Yoxir"
      },
      "execution_count": 129,
      "outputs": []
    },
    {
      "cell_type": "code",
      "source": [
        "!wget http://nlp.stanford.edu/data/glove.6B.zip\n",
        "!unzip '/content/glove.6B.zip'"
      ],
      "metadata": {
        "colab": {
          "base_uri": "https://localhost:8080/"
        },
        "id": "zE9JldC0_n8R",
        "outputId": "cc0942dc-c088-4728-f5cc-1ec16035bab3"
      },
      "execution_count": 99,
      "outputs": [
        {
          "output_type": "stream",
          "name": "stdout",
          "text": [
            "--2023-03-09 01:31:25--  http://nlp.stanford.edu/data/glove.6B.zip\n",
            "Resolving nlp.stanford.edu (nlp.stanford.edu)... 171.64.67.140\n",
            "Connecting to nlp.stanford.edu (nlp.stanford.edu)|171.64.67.140|:80... connected.\n",
            "HTTP request sent, awaiting response... 302 Found\n",
            "Location: https://nlp.stanford.edu/data/glove.6B.zip [following]\n",
            "--2023-03-09 01:31:25--  https://nlp.stanford.edu/data/glove.6B.zip\n",
            "Connecting to nlp.stanford.edu (nlp.stanford.edu)|171.64.67.140|:443... connected.\n",
            "HTTP request sent, awaiting response... 301 Moved Permanently\n",
            "Location: https://downloads.cs.stanford.edu/nlp/data/glove.6B.zip [following]\n",
            "--2023-03-09 01:31:25--  https://downloads.cs.stanford.edu/nlp/data/glove.6B.zip\n",
            "Resolving downloads.cs.stanford.edu (downloads.cs.stanford.edu)... 171.64.64.22\n",
            "Connecting to downloads.cs.stanford.edu (downloads.cs.stanford.edu)|171.64.64.22|:443... connected.\n",
            "HTTP request sent, awaiting response... 200 OK\n",
            "Length: 862182613 (822M) [application/zip]\n",
            "Saving to: ‘glove.6B.zip’\n",
            "\n",
            "glove.6B.zip        100%[===================>] 822.24M  5.05MB/s    in 2m 40s  \n",
            "\n",
            "2023-03-09 01:34:05 (5.15 MB/s) - ‘glove.6B.zip’ saved [862182613/862182613]\n",
            "\n",
            "Archive:  /content/glove.6B.zip\n",
            "  inflating: glove.6B.50d.txt        \n",
            "  inflating: glove.6B.100d.txt       \n",
            "  inflating: glove.6B.200d.txt       \n",
            "  inflating: glove.6B.300d.txt       \n"
          ]
        }
      ]
    },
    {
      "cell_type": "code",
      "source": [
        "from keras.initializers import Constant\n",
        "wordToIndex, indexToWord, wordToGlove = readGloveFile('/content/glove.6B.300d.txt')\n",
        "embeddingLayer = createPretrainedEmbeddingLayer(wordToGlove, wordToIndex, isTrainable=True)"
      ],
      "metadata": {
        "id": "Cqhryc77-kLP"
      },
      "execution_count": 137,
      "outputs": []
    },
    {
      "cell_type": "code",
      "source": [
        "model3 = Sequential()\n",
        "model3.add(embeddingLayer)\n",
        "model3.add(GlobalAveragePooling1DMasked())\n",
        "model3.add(Dense(16,activation='relu'))\n",
        "model3.add(Dense(16,activation='relu'))\n",
        "model3.add(Dense(1,activation='sigmoid'))\n",
        "model3.summary()"
      ],
      "metadata": {
        "colab": {
          "base_uri": "https://localhost:8080/"
        },
        "id": "uoSlfHUdK701",
        "outputId": "5a206111-98eb-4641-fed1-c6bef1a50e45"
      },
      "execution_count": 131,
      "outputs": [
        {
          "output_type": "stream",
          "name": "stdout",
          "text": [
            "Model: \"sequential_4\"\n",
            "_________________________________________________________________\n",
            " Layer (type)                Output Shape              Param #   \n",
            "=================================================================\n",
            " embedding_3 (Embedding)     (None, None, 300)         120000300 \n",
            "                                                                 \n",
            " global_average_pooling1d_ma  (None, 300)              0         \n",
            " sked_2 (GlobalAveragePoolin                                     \n",
            " g1DMasked)                                                      \n",
            "                                                                 \n",
            " dense_6 (Dense)             (None, 16)                4816      \n",
            "                                                                 \n",
            " dense_7 (Dense)             (None, 16)                272       \n",
            "                                                                 \n",
            " dense_8 (Dense)             (None, 1)                 17        \n",
            "                                                                 \n",
            "=================================================================\n",
            "Total params: 120,005,405\n",
            "Trainable params: 120,005,405\n",
            "Non-trainable params: 0\n",
            "_________________________________________________________________\n"
          ]
        }
      ]
    },
    {
      "cell_type": "code",
      "source": [
        "model3.compile(optimizer='adam',\n",
        "              loss='binary_crossentropy',\n",
        "              metrics=['accuracy'])\n",
        "\n",
        "X_val = np.array(X_train_enc[:10000])\n",
        "partial_X_train = np.array(X_train_enc[10000:])\n",
        "\n",
        "history3 = model3.fit(partial_X_train,\n",
        "                    partial_y_train,\n",
        "                    epochs=10,\n",
        "                    batch_size=512,\n",
        "                    validation_data=(X_val, y_val),\n",
        "                    verbose=1)\n",
        "\n",
        "results = model3.evaluate(X_test_enc, y_test)\n",
        "print(results)"
      ],
      "metadata": {
        "colab": {
          "base_uri": "https://localhost:8080/"
        },
        "id": "XhTIf7yMK9Zb",
        "outputId": "c842c9fe-86cd-433c-e81d-7cfb286cf37f"
      },
      "execution_count": 133,
      "outputs": [
        {
          "output_type": "stream",
          "name": "stdout",
          "text": [
            "Epoch 1/10\n",
            "30/30 [==============================] - 59s 2s/step - loss: 0.6854 - accuracy: 0.5827 - val_loss: 0.6751 - val_accuracy: 0.6216\n",
            "Epoch 2/10\n",
            "30/30 [==============================] - 50s 2s/step - loss: 0.6595 - accuracy: 0.6635 - val_loss: 0.6395 - val_accuracy: 0.6895\n",
            "Epoch 3/10\n",
            "30/30 [==============================] - 50s 2s/step - loss: 0.6026 - accuracy: 0.7273 - val_loss: 0.5619 - val_accuracy: 0.7605\n",
            "Epoch 4/10\n",
            "30/30 [==============================] - 50s 2s/step - loss: 0.4993 - accuracy: 0.8015 - val_loss: 0.4530 - val_accuracy: 0.8258\n",
            "Epoch 5/10\n",
            "30/30 [==============================] - 50s 2s/step - loss: 0.3907 - accuracy: 0.8544 - val_loss: 0.3791 - val_accuracy: 0.8468\n",
            "Epoch 6/10\n",
            "30/30 [==============================] - 51s 2s/step - loss: 0.3164 - accuracy: 0.8794 - val_loss: 0.3338 - val_accuracy: 0.8676\n",
            "Epoch 7/10\n",
            "30/30 [==============================] - 51s 2s/step - loss: 0.2655 - accuracy: 0.8997 - val_loss: 0.3118 - val_accuracy: 0.8753\n",
            "Epoch 8/10\n",
            "30/30 [==============================] - 50s 2s/step - loss: 0.2294 - accuracy: 0.9133 - val_loss: 0.2992 - val_accuracy: 0.8793\n",
            "Epoch 9/10\n",
            "30/30 [==============================] - 50s 2s/step - loss: 0.2002 - accuracy: 0.9262 - val_loss: 0.2936 - val_accuracy: 0.8823\n",
            "Epoch 10/10\n",
            "30/30 [==============================] - 50s 2s/step - loss: 0.1765 - accuracy: 0.9377 - val_loss: 0.2923 - val_accuracy: 0.8838\n",
            "782/782 [==============================] - 4s 6ms/step - loss: 0.3070 - accuracy: 0.8741\n",
            "[0.3069949448108673, 0.8741199970245361]\n"
          ]
        }
      ]
    },
    {
      "cell_type": "code",
      "source": [
        "results = model3.evaluate(X_test_enc, y_test)\n",
        "print(results)"
      ],
      "metadata": {
        "colab": {
          "base_uri": "https://localhost:8080/"
        },
        "id": "P4PUsy1eLAEY",
        "outputId": "d3f30633-9872-4790-80d2-7217daac43db"
      },
      "execution_count": 134,
      "outputs": [
        {
          "output_type": "stream",
          "name": "stdout",
          "text": [
            "782/782 [==============================] - 4s 5ms/step - loss: 0.3070 - accuracy: 0.8741\n",
            "[0.3069949448108673, 0.8741199970245361]\n"
          ]
        }
      ]
    },
    {
      "cell_type": "code",
      "source": [
        "import matplotlib.pyplot as plt\n",
        "\n",
        "history_dict = history3.history\n",
        "\n",
        "# acc = history_dict['ac']\n",
        "# val_acc = history_dict['val_acc']\n",
        "loss = history_dict['loss']\n",
        "val_loss = history_dict['val_loss']\n",
        "\n",
        "epochs = range(1, len(loss) + 1)\n",
        "\n",
        "plt.plot(epochs, loss, 'bo', label='Training loss')\n",
        "plt.plot(epochs, val_loss, 'b', label='Validation loss')\n",
        "plt.title('Training and validation')\n",
        "plt.xlabel('Epochs')\n",
        "plt.ylabel('Loss')\n",
        "plt.legend()\n",
        "\n",
        "plt.show()"
      ],
      "metadata": {
        "colab": {
          "base_uri": "https://localhost:8080/",
          "height": 295
        },
        "id": "E0k6jDeqLHa9",
        "outputId": "c232227b-1b43-4d9e-e9f9-ace5eb9a36c0"
      },
      "execution_count": 136,
      "outputs": [
        {
          "output_type": "display_data",
          "data": {
            "text/plain": [
              "<Figure size 432x288 with 1 Axes>"
            ],
            "image/png": "[encoded data removed]"
          },
          "metadata": {
            "needs_background": "light"
          }
        }
      ]
    },
    {
      "cell_type": "markdown",
      "metadata": {
        "id": "Xsl8QMj0kLu_"
      },
      "source": [
        "# **Part D: Neural Machine Translation**"
      ]
    },
    {
      "cell_type": "code",
      "execution_count": 48,
      "metadata": {
        "id": "GGbPuQCPkS5n"
      },
      "outputs": [],
      "source": [
        "from keras.layers import Embedding,LSTM,Dropout,Dense,Layer, Multiply\n",
        "from keras import Model,Input\n",
        "from tensorflow.keras.utils import pad_sequences\n",
        "from keras.optimizers import Adam\n",
        "import keras.backend as K\n",
        "from tensorflow.keras.utils import plot_model\n",
        "import collections\n",
        "import numpy as np\n",
        "import time\n",
        "import tensorflow as tf\n",
        "from nltk.translate.bleu_score import corpus_bleu"
      ]
    },
    {
      "cell_type": "code",
      "execution_count": 49,
      "metadata": {
        "id": "50YQoJrhlarL"
      },
      "outputs": [],
      "source": [
        "class NmtModel(object):\n",
        "  def __init__(self,source_dict,target_dict,use_attention):\n",
        "    self.hidden_size = 200\n",
        "    self.embedding_size = 100\n",
        "    self.hidden_dropout_rate=0.2\n",
        "    self.embedding_dropout_rate = 0.2\n",
        "    self.batch_size = 100\n",
        "    self.max_target_step = 30\n",
        "    self.vocab_target_size = len(target_dict.vocab)\n",
        "    self.vocab_source_size = len(source_dict.vocab)\n",
        "    self.target_dict = target_dict\n",
        "    self.source_dict = source_dict\n",
        "    self.SOS = target_dict.word2ids['<start>']\n",
        "    self.EOS = target_dict.word2ids['<end>']\n",
        "    self.use_attention = use_attention\n",
        "    print(\"source vocab: %d, target vocab:%d\" % (self.vocab_source_size,self.vocab_target_size))"
      ]
    },
    {
      "cell_type": "code",
      "execution_count": 50,
      "metadata": {
        "id": "AkY1NetKlhQD"
      },
      "outputs": [],
      "source": [
        "def build(self):\n",
        "    source_words = Input(shape=(None,),dtype='int32')\n",
        "    target_words = Input(shape=(None,), dtype='int32')\n",
        "    \n",
        "    # Encoder\n",
        "\n",
        "    embedding_source = Embedding(input_dim=self.vocab_source_size, embeddings_initializer='random_uniform', mask_zero=True, output_dim=self.embedding_size,input_length=source_words.shape[1])\n",
        "    source_words_embeddings = embedding_source(source_words)\n",
        "    source_words_embeddings = Dropout(self.embedding_dropout_rate)(source_words_embeddings)\n",
        "    encoder_lstm = LSTM(self.hidden_size,recurrent_dropout=self.hidden_dropout_rate,return_sequences=True,return_state=True)\n",
        "    encoder_outputs,encoder_state_h,encoder_state_c = encoder_lstm(source_words_embeddings)\n",
        "\n",
        "    embedding_target = Embedding(input_dim=self.vocab_target_size, embeddings_initializer='random_uniform', mask_zero=True, output_dim=self.embedding_size,input_length=target_words.shape[1])\n",
        "    target_words_embeddings = embedding_target(target_words)\n",
        "    target_words_embeddings = Dropout(self.embedding_dropout_rate)(target_words_embeddings)\n",
        "    \n",
        "    encoder_states = [encoder_state_h,encoder_state_c]\n",
        "\n",
        "    decoder_lstm = LSTM(self.hidden_size,recurrent_dropout=self.hidden_dropout_rate,return_sequences=True,return_state=True)\n",
        "    decoder_outputs_train,_,_ = decoder_lstm(target_words_embeddings,initial_state=encoder_states)\n",
        "\n",
        "    if self.use_attention:\n",
        "        decoder_attention = AttentionLayer()\n",
        "        decoder_outputs_train = decoder_attention([encoder_outputs,decoder_outputs_train])\n",
        "\n",
        "    decoder_dense = Dense(self.vocab_target_size,activation='softmax')\n",
        "    decoder_outputs_train = decoder_dense(decoder_outputs_train)\n",
        "\n",
        "    adam = Adam(lr=0.01,clipnorm=5.0)\n",
        "    self.train_model = Model([source_words,target_words], decoder_outputs_train)\n",
        "    self.train_model.compile(optimizer=adam,loss='sparse_categorical_crossentropy', metrics=['accuracy'])\n",
        "    self.train_model.summary()\n",
        "    plot_model(self.train_model, to_file='train_model.png')\n",
        "\n",
        "    # Interface Model\n",
        "\n",
        "    self.encoder_model = Model(source_words,[encoder_outputs,encoder_state_h,encoder_state_c])\n",
        "    self.encoder_model.summary()\n",
        "    plot_model(self.encoder_model, to_file='encoder_model.png')\n",
        "\n",
        "    decoder_state_input_h = Input(shape=(self.hidden_size,))\n",
        "    decoder_state_input_c = Input(shape=(self.hidden_size,))\n",
        "    encoder_outputs_input = Input(shape=(None,self.hidden_size,))\n",
        "\n",
        "    # Decoder\n",
        "\n",
        "    decoder_state = [decoder_state_input_h, decoder_state_input_c]\n",
        "    decoder_outputs_test,decoder_state_output_h,decoder_state_output_c = decoder_lstm(target_words_embeddings,initial_state=decoder_state)\n",
        "    if self.use_attention:\n",
        "        decoder_attention = AttentionLayer()\n",
        "        decoder_outputs_test = decoder_attention([encoder_outputs_input,decoder_outputs_test])\n",
        "    \n",
        "    decoder_outputs_test = decoder_dense(decoder_outputs_test)\n",
        "\n",
        "    self.decoder_model = Model([target_words,decoder_state_input_h,decoder_state_input_c,encoder_outputs_input],\n",
        "                               [decoder_outputs_test,decoder_state_output_h,decoder_state_output_c])\n",
        "    self.decoder_model.summary()\n",
        "    plot_model(self.decoder_model, to_file='decoder_model.png')\n"
      ]
    },
    {
      "cell_type": "code",
      "execution_count": 51,
      "metadata": {
        "id": "VbkJgA7mlrl4"
      },
      "outputs": [],
      "source": [
        "def time_used(self, start_time):\n",
        "    curr_time = time.time()\n",
        "    used_time = curr_time-start_time\n",
        "    m = used_time // 60\n",
        "    s = used_time - 60 * m\n",
        "    return \"%d m %d s\" % (m, s)"
      ]
    },
    {
      "cell_type": "code",
      "execution_count": 52,
      "metadata": {
        "id": "-X6C_7F1mFqq"
      },
      "outputs": [],
      "source": [
        "def train(self,train_data,dev_data,test_data, epochs):\n",
        "    start_time = time.time()\n",
        "    for epoch in range(epochs):\n",
        "      print(\"Starting training epoch {}/{}\".format(epoch + 1, epochs))\n",
        "      epoch_time = time.time()\n",
        "      source_words_train, target_words_train, target_words_train_labels = train_data\n",
        "\n",
        "      self.train_model.fit([source_words_train,target_words_train],target_words_train_labels,batch_size=self.batch_size)\n",
        "\n",
        "      print(\"Time used for epoch {}: {}\".format(epoch + 1, self.time_used(epoch_time)))\n",
        "      dev_time = time.time()\n",
        "      print(\"Evaluating on dev set after epoch {}/{}:\".format(epoch + 1, epochs))\n",
        "      self.eval(dev_data)\n",
        "      print(\"Time used for evaluate on dev set: {}\".format(self.time_used(dev_time)))\n",
        "\n",
        "    print(\"Training finished!\")\n",
        "    print(\"Time used for training: {}\".format(self.time_used(start_time)))\n",
        "\n",
        "    print(\"Evaluating on test set:\")\n",
        "    test_time = time.time()\n",
        "    self.eval(test_data)\n",
        "    print(\"Time used for evaluate on test set: {}\".format(self.time_used(test_time)))"
      ]
    },
    {
      "cell_type": "code",
      "execution_count": 53,
      "metadata": {
        "id": "Ys8DsIsVmHs6"
      },
      "outputs": [],
      "source": [
        "def get_target_sentences(self, sents,vocab,reference=False):\n",
        "    str_sents = []\n",
        "    num_sent, max_len = sents.shape\n",
        "    for i in range(num_sent):\n",
        "      str_sent = []\n",
        "      for j in range(max_len):\n",
        "        t = sents[i,j].item()\n",
        "        if t == self.SOS:\n",
        "          continue\n",
        "        if t == self.EOS:\n",
        "          break\n",
        "\n",
        "        str_sent.append(vocab[t])\n",
        "      if reference:\n",
        "        str_sents.append([str_sent])\n",
        "      else:\n",
        "        str_sents.append(str_sent)\n",
        "    return "
      ]
    },
    {
      "cell_type": "code",
      "execution_count": 54,
      "metadata": {
        "id": "f6nWNGb5mKKD"
      },
      "outputs": [],
      "source": [
        "def eval(self, dataset):\n",
        "    source_words, target_words_labels = dataset\n",
        "    vocab = self.target_dict.vocab\n",
        "\n",
        "    encoder_outputs, state_h,state_c = self.encoder_model.predict(source_words,batch_size=self.batch_size)\n",
        "    predictions = []\n",
        "    step_target_words = np.ones([source_words.shape[0],1]) * self.SOS\n",
        "    for _ in range(self.max_target_step):\n",
        "      step_decoder_outputs, state_h,state_c = self.decoder_model.predict([step_target_words,state_h,state_c,encoder_outputs],batch_size=self.batch_size)\n",
        "      step_target_words = np.argmax(step_decoder_outputs,axis=2)\n",
        "      predictions.append(step_target_words)\n",
        "\n",
        "    candidates = self.get_target_sentences(np.concatenate(predictions,axis=1),vocab)\n",
        "    references = self.get_target_sentences(target_words_labels,vocab,reference=True)\n",
        "    print(\"candidates: \",' '.join(candidates[10]))\n",
        "    print(\"references: \",' '.join(references[10][0]))\n",
        "    score = corpus_bleu(references,candidates)\n",
        "    print(\"Model BLEU score: %.2f\" % (score*100.0))"
      ]
    },
    {
      "cell_type": "code",
      "execution_count": 55,
      "metadata": {
        "id": "0_-l1Xh_mMoZ"
      },
      "outputs": [],
      "source": [
        "class AttentionLayer(Layer):\n",
        "  def compute_mask(self, inputs, mask=None):\n",
        "    if mask == None:\n",
        "      return None\n",
        "    return mask[1]\n",
        "\n",
        "  def compute_output_shape(self, input_shape):\n",
        "    return (input_shape[1][0],input_shape[1][1],input_shape[1][2]*2)\n",
        "\n",
        "\n",
        "  def call(self, inputs, mask=None):\n",
        "    encoder_outputs, decoder_outputs = inputs\n",
        "    \n",
        "    # Attention\n",
        "    \n",
        "    luong_score = tf.matmul(decoder_outputs, encoder_outputs, transpose_b=True)    \n",
        "    alignment = tf.nn.softmax(luong_score, axis=2)\n",
        "    context = tf.matmul(K.expand_dims(alignment,axis=2), K.expand_dims(encoder_outputs,axis=1))\n",
        "    encoder_vector = K.squeeze(context,axis=2)\n",
        "    new_decoder_outputs = K.concatenate([decoder_outputs, encoder_vector])\n",
        "\n",
        "    return new_decoder_outputs"
      ]
    },
    {
      "cell_type": "code",
      "execution_count": 56,
      "metadata": {
        "id": "cVkDQrEnssuV"
      },
      "outputs": [],
      "source": [
        "class LanguageDict():\n",
        "  def __init__(self, sents):\n",
        "    word_counter = collections.Counter(tok.lower() for sent in sents for tok in sent)\n",
        "\n",
        "    self.vocab = []\n",
        "    self.vocab.append('<pad>') #zero paddings\n",
        "    self.vocab.append('<unk>')\n",
        "    self.vocab.extend([t for t,c in word_counter.items() if c > 10])\n",
        "\n",
        "    self.word2ids = {w:id for id, w in enumerate(self.vocab)}\n",
        "    self.UNK = self.word2ids['<unk>']\n",
        "    self.PAD = self.word2ids['<pad>']"
      ]
    },
    {
      "cell_type": "code",
      "execution_count": 57,
      "metadata": {
        "id": "bmxW3Qdosvh9"
      },
      "outputs": [],
      "source": [
        "def load_dataset(source_path,target_path, max_num_examples=30000):\n",
        "  source_lines = open(source_path).readlines()\n",
        "  target_lines = open(target_path).readlines()\n",
        "  assert len(source_lines) == len(target_lines)\n",
        "  if max_num_examples > 0:\n",
        "    max_num_examples = min(len(source_lines), max_num_examples)\n",
        "    source_lines = source_lines[:max_num_examples]\n",
        "    target_lines = target_lines[:max_num_examples]\n",
        "\n",
        "  source_sents = [[tok.lower() for tok in sent.strip().split(' ')] for sent in source_lines]\n",
        "  target_sents = [[tok.lower() for tok in sent.strip().split(' ')] for sent in target_lines]\n",
        "  for sent in target_sents:\n",
        "    sent.append('<end>')\n",
        "    sent.insert(0,'<start>')\n",
        "\n",
        "  source_lang_dict = LanguageDict(source_sents)\n",
        "  target_lang_dict = LanguageDict(target_sents)\n",
        "\n",
        "  unit = len(source_sents)//10\n",
        "\n",
        "  source_words = [[source_lang_dict.word2ids.get(tok,source_lang_dict.UNK) for tok in sent] for sent in source_sents]\n",
        "  source_words_train = pad_sequences(source_words[:8*unit],padding='post')\n",
        "  source_words_dev = pad_sequences(source_words[8*unit:9*unit],padding='post')\n",
        "  source_words_test = pad_sequences(source_words[9*unit:],padding='post')\n",
        "\n",
        "  eos = target_lang_dict.word2ids['<end>']\n",
        "\n",
        "  target_words = [[target_lang_dict.word2ids.get(tok,target_lang_dict.UNK) for tok in sent[:-1]] for sent in target_sents]\n",
        "  target_words_train = pad_sequences(target_words[:8*unit],padding='post')\n",
        "\n",
        "  target_words_train_labels = [sent[1:]+[eos] for sent in target_words[:8*unit]]\n",
        "  target_words_train_labels = pad_sequences(target_words_train_labels,padding='post')\n",
        "  target_words_train_labels = np.expand_dims(target_words_train_labels,axis=2)\n",
        "\n",
        "  target_words_dev_labels = pad_sequences([sent[1:] + [eos] for sent in target_words[8 * unit:9 * unit]], padding='post')\n",
        "  target_words_test_labels = pad_sequences([sent[1:] + [eos] for sent in target_words[9 * unit:]], padding='post')\n",
        "\n",
        "  train_data = [source_words_train,target_words_train,target_words_train_labels]\n",
        "  dev_data = [source_words_dev,target_words_dev_labels]\n",
        "  test_data = [source_words_test,target_words_test_labels]\n",
        "\n",
        "  return train_data,dev_data,test_data,source_lang_dict,target_lang_dict"
      ]
    },
    {
      "cell_type": "code",
      "source": [
        "import requests\n",
        "def downloadfile(url):\n",
        "  rq = requests.get(url)\n",
        "  open(url.split('/')[-1], 'wb').write(rq.content)\n",
        "downloadfile('https://raw.githubusercontent.com/Shakya-py/msc_ai_sem2/master/NN_NLP/Lab8-9_neural_machine_translation_with_attention/data.30.en')\n",
        "downloadfile('https://raw.githubusercontent.com/Shakya-py/msc_ai_sem2/master/NN_NLP/Lab8-9_neural_machine_translation_with_attention/data.30.vi')"
      ],
      "metadata": {
        "id": "fYBSVdfwrnwY"
      },
      "execution_count": 59,
      "outputs": []
    },
    {
      "cell_type": "code",
      "execution_count": 60,
      "metadata": {
        "colab": {
          "base_uri": "https://localhost:8080/",
          "height": 269
        },
        "id": "mYFY9cpKsx6Q",
        "outputId": "b5b6bebe-9473-47a6-fd3c-f0f56376a154"
      },
      "outputs": [
        {
          "output_type": "stream",
          "name": "stdout",
          "text": [
            "read 24000/3000/3000 train/dev/test batches\n",
            "source vocab: 2034, target vocab:2506\n"
          ]
        },
        {
          "output_type": "error",
          "ename": "AttributeError",
          "evalue": "ignored",
          "traceback": [
            "\u001b[0;31m---------------------------------------------------------------------------\u001b[0m",
            "\u001b[0;31mAttributeError\u001b[0m                            Traceback (most recent call last)",
            "\u001b[0;32m<ipython-input-60-d3700597072a>\u001b[0m in \u001b[0;36m<module>\u001b[0;34m\u001b[0m\n\u001b[1;32m      6\u001b[0m \u001b[0;34m\u001b[0m\u001b[0m\n\u001b[1;32m      7\u001b[0m   \u001b[0mmodel\u001b[0m \u001b[0;34m=\u001b[0m \u001b[0mNmtModel\u001b[0m\u001b[0;34m(\u001b[0m\u001b[0msource_dict\u001b[0m\u001b[0;34m,\u001b[0m\u001b[0mtarget_dict\u001b[0m\u001b[0;34m,\u001b[0m\u001b[0muse_attention\u001b[0m\u001b[0;34m)\u001b[0m\u001b[0;34m\u001b[0m\u001b[0;34m\u001b[0m\u001b[0m\n\u001b[0;32m----> 8\u001b[0;31m   \u001b[0mmodel\u001b[0m\u001b[0;34m.\u001b[0m\u001b[0mbuild\u001b[0m\u001b[0;34m(\u001b[0m\u001b[0;34m)\u001b[0m\u001b[0;34m\u001b[0m\u001b[0;34m\u001b[0m\u001b[0m\n\u001b[0m\u001b[1;32m      9\u001b[0m   \u001b[0;31m# plot_model(model, to_file='model.png')\u001b[0m\u001b[0;34m\u001b[0m\u001b[0;34m\u001b[0m\u001b[0m\n\u001b[1;32m     10\u001b[0m   \u001b[0mmodel\u001b[0m\u001b[0;34m.\u001b[0m\u001b[0mtrain\u001b[0m\u001b[0;34m(\u001b[0m\u001b[0mtrain_data\u001b[0m\u001b[0;34m,\u001b[0m\u001b[0mdev_data\u001b[0m\u001b[0;34m,\u001b[0m\u001b[0mtest_data\u001b[0m\u001b[0;34m,\u001b[0m\u001b[0;36m10\u001b[0m\u001b[0;34m)\u001b[0m\u001b[0;34m\u001b[0m\u001b[0;34m\u001b[0m\u001b[0m\n",
            "\u001b[0;31mAttributeError\u001b[0m: 'NmtModel' object has no attribute 'build'"
          ]
        }
      ],
      "source": [
        "if __name__ == '__main__':\n",
        "  max_example = 30000\n",
        "  use_attention = True\n",
        "  train_data, dev_data, test_data, source_dict, target_dict = load_dataset(\"data.30.vi\",\"data.30.en\",max_num_examples=max_example)\n",
        "  print(\"read %d/%d/%d train/dev/test batches\" % (len(train_data[0]),len(dev_data[0]), len(test_data[0])))\n",
        "\n",
        "  model = NmtModel(source_dict,target_dict,use_attention)\n",
        "  model.build()\n",
        "  # plot_model(model, to_file='model.png')\n",
        "  model.train(train_data,dev_data,test_data,10)"
      ]
    },
    {
      "cell_type": "markdown",
      "metadata": {
        "id": "QS-ih2ZdxSbM"
      },
      "source": [
        "# **Part E: Using Pre-trained BERT**"
      ]
    },
    {
      "cell_type": "code",
      "source": [
        "import requests\n",
        "def downloadfile(url):\n",
        "  rq = requests.get(url)\n",
        "  open(url.split('/')[-1], 'wb').write(rq.content)\n",
        "downloadfile('https://raw.githubusercontent.com/siat-nlp/MAMS-for-ABSA/master/data/MAMS-ATSA/raw/train.xml')\n",
        "downloadfile('https://raw.githubusercontent.com/siat-nlp/MAMS-for-ABSA/master/data/MAMS-ATSA/raw/val.xml')\n",
        "downloadfile('https://raw.githubusercontent.com/siat-nlp/MAMS-for-ABSA/master/data/MAMS-ATSA/raw/test.xml')\n",
        "downloadfile('https://raw.githubusercontent.com/Shakya-py/msc_ai_sem2/master/NN_NLP/Lab11-12_dialogue_act_tagging/swda_all_data.csv')"
      ],
      "metadata": {
        "id": "uRwa3fkBl9gf"
      },
      "execution_count": 1,
      "outputs": []
    },
    {
      "cell_type": "code",
      "source": [
        "import sklearn.metrics\n",
        "import glob\n",
        "import pandas as pd\n",
        "import tensorflow as tf\n",
        "import matplotlib.pyplot as plt\n",
        "from tqdm import tqdm_notebook as tqdm\n",
        "from keras.models import Sequential\n",
        "from keras.layers import LSTM\n",
        "from keras.layers import Dense\n",
        "from keras import Model,Input\n",
        "from keras.layers import Dropout, InputLayer, Bidirectional, TimeDistributed\n",
        "from keras.layers import Activation, Embedding, Reshape, concatenate, Conv2D\n",
        "from keras.layers import BatchNormalization, MaxPool2D, Flatten\n",
        "from keras.optimizers import Adam"
      ],
      "metadata": {
        "id": "axRgtAVjmHCe"
      },
      "execution_count": 37,
      "outputs": []
    },
    {
      "cell_type": "code",
      "source": [
        "!unzip swda.zip"
      ],
      "metadata": {
        "colab": {
          "base_uri": "https://localhost:8080/"
        },
        "id": "z5E4TGIomIwS",
        "outputId": "42ba37af-4e6c-486b-9a85-5d64529f0c5f"
      },
      "execution_count": 3,
      "outputs": [
        {
          "output_type": "stream",
          "name": "stdout",
          "text": [
            "Archive:  swda.zip\n",
            "replace swda/.DS_Store? [y]es, [n]o, [A]ll, [N]one, [r]ename: n\n",
            "replace __MACOSX/swda/._.DS_Store? [y]es, [n]o, [A]ll, [N]one, [r]ename: N\n"
          ]
        }
      ]
    },
    {
      "cell_type": "code",
      "source": [
        "f = glob.glob(\"swda/sw*/sw*.csv\")\n",
        "frames = []\n",
        "for i in range(0, len(f)):\n",
        "    frames.append(pd.read_csv(f[i]))\n",
        "\n",
        "result = pd.concat(frames, ignore_index=True)\n",
        "result.to_csv('swda_all_data.csv',index=False)"
      ],
      "metadata": {
        "id": "j6G4KXmRmPBz"
      },
      "execution_count": 7,
      "outputs": []
    },
    {
      "cell_type": "code",
      "source": [
        "result = pd.read_csv('swda_all_data.csv')"
      ],
      "metadata": {
        "id": "8DbQYXuHmcYT"
      },
      "execution_count": 8,
      "outputs": []
    },
    {
      "cell_type": "code",
      "source": [
        "print(\"Number of converations in the dataset:\",len(result))"
      ],
      "metadata": {
        "colab": {
          "base_uri": "https://localhost:8080/"
        },
        "id": "BhC7rGHLmele",
        "outputId": "ee4e8f81-a322-4c91-ae46-5fdf6d026007"
      },
      "execution_count": 9,
      "outputs": [
        {
          "output_type": "stream",
          "name": "stdout",
          "text": [
            "Number of converations in the dataset: 223606\n"
          ]
        }
      ]
    },
    {
      "cell_type": "code",
      "source": [
        "reduced_df = result[['act_tag','text']]"
      ],
      "metadata": {
        "id": "5eoPN6PFmg6a"
      },
      "execution_count": 10,
      "outputs": []
    },
    {
      "cell_type": "code",
      "source": [
        "import re\n",
        "def damsl_act_tag(input):\n",
        "        d_tags = []\n",
        "        tags = re.split(r\"\\s*[,;]\\s*\", input)\n",
        "        for tag in tags:\n",
        "            if tag in ('qy^d', 'qw^d', 'b^m'): pass\n",
        "            elif tag == 'nn^e': tag = 'ng'\n",
        "            elif tag == 'ny^e': tag = 'na'\n",
        "            else: \n",
        "                tag = re.sub(r'(.)\\^.*', r'\\1', tag)\n",
        "                tag = re.sub(r'[\\(\\)@*]', '', tag)            \n",
        "                if tag in ('qr', 'qy'):                         tag = 'qy'\n",
        "                elif tag in ('fe', 'ba'):                       tag = 'ba'\n",
        "                elif tag in ('oo', 'co', 'cc'):                 tag = 'oo_co_cc'\n",
        "                elif tag in ('fx', 'sv'):                       tag = 'sv'\n",
        "                elif tag in ('aap', 'am'):                      tag = 'aap_am'\n",
        "                elif tag in ('arp', 'nd'):                      tag = 'arp_nd'\n",
        "                elif tag in ('fo', 'o', 'fw', '\"', 'by', 'bc'): tag = 'fo_o_fw_\"_by_bc'            \n",
        "            d_tags.append(tag)\n",
        "        return d_tags[0]"
      ],
      "metadata": {
        "id": "3B6Q4qETmjlQ"
      },
      "execution_count": 11,
      "outputs": []
    },
    {
      "cell_type": "code",
      "source": [
        "reduced_df[\"act_tag\"] = reduced_df[\"act_tag\"].apply(lambda x: damsl_act_tag(x))"
      ],
      "metadata": {
        "colab": {
          "base_uri": "https://localhost:8080/"
        },
        "id": "4PmSZhComlFm",
        "outputId": "673222a0-aea5-4643-cf0e-12a745bb2403"
      },
      "execution_count": 12,
      "outputs": [
        {
          "output_type": "stream",
          "name": "stderr",
          "text": [
            "<ipython-input-12-3a505b615f58>:1: SettingWithCopyWarning: \n",
            "A value is trying to be set on a copy of a slice from a DataFrame.\n",
            "Try using .loc[row_indexer,col_indexer] = value instead\n",
            "\n",
            "See the caveats in the documentation: https://pandas.pydata.org/pandas-docs/stable/user_guide/indexing.html#returning-a-view-versus-a-copy\n",
            "  reduced_df[\"act_tag\"] = reduced_df[\"act_tag\"].apply(lambda x: damsl_act_tag(x))\n"
          ]
        }
      ]
    },
    {
      "cell_type": "code",
      "source": [
        "reduced_df.groupby([\"act_tag\"]).count().sort_values('text',ascending=False).plot.bar(figsize=(15,5))"
      ],
      "metadata": {
        "colab": {
          "base_uri": "https://localhost:8080/",
          "height": 401
        },
        "id": "LIAeCVrLmnRQ",
        "outputId": "5b7bc0cc-aaa6-44da-cabb-12f8a89258ca"
      },
      "execution_count": 13,
      "outputs": [
        {
          "output_type": "execute_result",
          "data": {
            "text/plain": [
              "<AxesSubplot:xlabel='act_tag'>"
            ]
          },
          "metadata": {},
          "execution_count": 13
        },
        {
          "output_type": "display_data",
          "data": {
            "text/plain": [
              "<Figure size 1080x360 with 1 Axes>"
            ],
            "image/png": "[encoded data removed]"
          },
          "metadata": {
            "needs_background": "light"
          }
        }
      ]
    },
    {
      "cell_type": "code",
      "source": [
        "reduced_df"
      ],
      "metadata": {
        "colab": {
          "base_uri": "https://localhost:8080/",
          "height": 424
        },
        "id": "-kRel7GRmq7y",
        "outputId": "2eb51ae0-acf8-47bc-94fa-6d999d32a9d0"
      },
      "execution_count": 14,
      "outputs": [
        {
          "output_type": "execute_result",
          "data": {
            "text/plain": [
              "       act_tag                                               text\n",
              "0           qy  {F Uh, } are you presently looking, {F uh, } f...\n",
              "1           ng  {D Well, } as a matter of fact, I just bought ...\n",
              "2          b^m                                 Just bought one. /\n",
              "3           sd    [ Just, + just ] within the last three weeks. /\n",
              "4            %                                            S-, - /\n",
              "...        ...                                                ...\n",
              "223601      sd  and I know they've, there's a lot of refinerie...\n",
              "223602      sv  and that, that's some pretty potent stuff they...\n",
              "223603      sd         I, but I don't know how, uh, you know, - /\n",
              "223604      sv  there's a difference in what you can smell and...\n",
              "223605      sv  Be interesting to see when, as Mexico develops...\n",
              "\n",
              "[223606 rows x 2 columns]"
            ],
            "text/html": [
              "\n",
              "  <div id=\"df-719ef2ed-44d2-425f-82d7-99e4a849f330\">\n",
              "    <div class=\"colab-df-container\">\n",
              "      <div>\n",
              "<style scoped>\n",
              "    .dataframe tbody tr th:only-of-type {\n",
              "        vertical-align: middle;\n",
              "    }\n",
              "\n",
              "    .dataframe tbody tr th {\n",
              "        vertical-align: top;\n",
              "    }\n",
              "\n",
              "    .dataframe thead th {\n",
              "        text-align: right;\n",
              "    }\n",
              "</style>\n",
              "<table border=\"1\" class=\"dataframe\">\n",
              "  <thead>\n",
              "    <tr style=\"text-align: right;\">\n",
              "      <th></th>\n",
              "      <th>act_tag</th>\n",
              "      <th>text</th>\n",
              "    </tr>\n",
              "  </thead>\n",
              "  <tbody>\n",
              "    <tr>\n",
              "      <th>0</th>\n",
              "      <td>qy</td>\n",
              "      <td>{F Uh, } are you presently looking, {F uh, } f...</td>\n",
              "    </tr>\n",
              "    <tr>\n",
              "      <th>1</th>\n",
              "      <td>ng</td>\n",
              "      <td>{D Well, } as a matter of fact, I just bought ...</td>\n",
              "    </tr>\n",
              "    <tr>\n",
              "      <th>2</th>\n",
              "      <td>b^m</td>\n",
              "      <td>Just bought one. /</td>\n",
              "    </tr>\n",
              "    <tr>\n",
              "      <th>3</th>\n",
              "      <td>sd</td>\n",
              "      <td>[ Just, + just ] within the last three weeks. /</td>\n",
              "    </tr>\n",
              "    <tr>\n",
              "      <th>4</th>\n",
              "      <td>%</td>\n",
              "      <td>S-, - /</td>\n",
              "    </tr>\n",
              "    <tr>\n",
              "      <th>...</th>\n",
              "      <td>...</td>\n",
              "      <td>...</td>\n",
              "    </tr>\n",
              "    <tr>\n",
              "      <th>223601</th>\n",
              "      <td>sd</td>\n",
              "      <td>and I know they've, there's a lot of refinerie...</td>\n",
              "    </tr>\n",
              "    <tr>\n",
              "      <th>223602</th>\n",
              "      <td>sv</td>\n",
              "      <td>and that, that's some pretty potent stuff they...</td>\n",
              "    </tr>\n",
              "    <tr>\n",
              "      <th>223603</th>\n",
              "      <td>sd</td>\n",
              "      <td>I, but I don't know how, uh, you know, - /</td>\n",
              "    </tr>\n",
              "    <tr>\n",
              "      <th>223604</th>\n",
              "      <td>sv</td>\n",
              "      <td>there's a difference in what you can smell and...</td>\n",
              "    </tr>\n",
              "    <tr>\n",
              "      <th>223605</th>\n",
              "      <td>sv</td>\n",
              "      <td>Be interesting to see when, as Mexico develops...</td>\n",
              "    </tr>\n",
              "  </tbody>\n",
              "</table>\n",
              "<p>223606 rows × 2 columns</p>\n",
              "</div>\n",
              "      <button class=\"colab-df-convert\" onclick=\"convertToInteractive('df-719ef2ed-44d2-425f-82d7-99e4a849f330')\"\n",
              "              title=\"Convert this dataframe to an interactive table.\"\n",
              "              style=\"display:none;\">\n",
              "        \n",
              "  <svg xmlns=\"http://www.w3.org/2000/svg\" height=\"24px\"viewBox=\"0 0 24 24\"\n",
              "       width=\"24px\">\n",
              "    <path d=\"M0 0h24v24H0V0z\" fill=\"none\"/>\n",
              "    <path d=\"M18.56 5.44l.94 2.06.94-2.06 2.06-.94-2.06-.94-.94-2.06-.94 2.06-2.06.94zm-11 1L8.5 8.5l.94-2.06 2.06-.94-2.06-.94L8.5 2.5l-.94 2.06-2.06.94zm10 10l.94 2.06.94-2.06 2.06-.94-2.06-.94-.94-2.06-.94 2.06-2.06.94z\"/><path d=\"M17.41 7.96l-1.37-1.37c-.4-.4-.92-.59-1.43-.59-.52 0-1.04.2-1.43.59L10.3 9.45l-7.72 7.72c-.78.78-.78 2.05 0 2.83L4 21.41c.39.39.9.59 1.41.59.51 0 1.02-.2 1.41-.59l7.78-7.78 2.81-2.81c.8-.78.8-2.07 0-2.86zM5.41 20L4 18.59l7.72-7.72 1.47 1.35L5.41 20z\"/>\n",
              "  </svg>\n",
              "      </button>\n",
              "      \n",
              "  <style>\n",
              "    .colab-df-container {\n",
              "      display:flex;\n",
              "      flex-wrap:wrap;\n",
              "      gap: 12px;\n",
              "    }\n",
              "\n",
              "    .colab-df-convert {\n",
              "      background-color: #E8F0FE;\n",
              "      border: none;\n",
              "      border-radius: 50%;\n",
              "      cursor: pointer;\n",
              "      display: none;\n",
              "      fill: #1967D2;\n",
              "      height: 32px;\n",
              "      padding: 0 0 0 0;\n",
              "      width: 32px;\n",
              "    }\n",
              "\n",
              "    .colab-df-convert:hover {\n",
              "      background-color: #E2EBFA;\n",
              "      box-shadow: 0px 1px 2px rgba(60, 64, 67, 0.3), 0px 1px 3px 1px rgba(60, 64, 67, 0.15);\n",
              "      fill: #174EA6;\n",
              "    }\n",
              "\n",
              "    [theme=dark] .colab-df-convert {\n",
              "      background-color: #3B4455;\n",
              "      fill: #D2E3FC;\n",
              "    }\n",
              "\n",
              "    [theme=dark] .colab-df-convert:hover {\n",
              "      background-color: #434B5C;\n",
              "      box-shadow: 0px 1px 3px 1px rgba(0, 0, 0, 0.15);\n",
              "      filter: drop-shadow(0px 1px 2px rgba(0, 0, 0, 0.3));\n",
              "      fill: #FFFFFF;\n",
              "    }\n",
              "  </style>\n",
              "\n",
              "      <script>\n",
              "        const buttonEl =\n",
              "          document.querySelector('#df-719ef2ed-44d2-425f-82d7-99e4a849f330 button.colab-df-convert');\n",
              "        buttonEl.style.display =\n",
              "          google.colab.kernel.accessAllowed ? 'block' : 'none';\n",
              "\n",
              "        async function convertToInteractive(key) {\n",
              "          const element = document.querySelector('#df-719ef2ed-44d2-425f-82d7-99e4a849f330');\n",
              "          const dataTable =\n",
              "            await google.colab.kernel.invokeFunction('convertToInteractive',\n",
              "                                                     [key], {});\n",
              "          if (!dataTable) return;\n",
              "\n",
              "          const docLinkHtml = 'Like what you see? Visit the ' +\n",
              "            '<a target=\"_blank\" href=https://colab.research.google.com/notebooks/data_table.ipynb>data table notebook</a>'\n",
              "            + ' to learn more about interactive tables.';\n",
              "          element.innerHTML = '';\n",
              "          dataTable['output_type'] = 'display_data';\n",
              "          await google.colab.output.renderOutput(dataTable, element);\n",
              "          const docLink = document.createElement('div');\n",
              "          docLink.innerHTML = docLinkHtml;\n",
              "          element.appendChild(docLink);\n",
              "        }\n",
              "      </script>\n",
              "    </div>\n",
              "  </div>\n",
              "  "
            ]
          },
          "metadata": {},
          "execution_count": 14
        }
      ]
    },
    {
      "cell_type": "code",
      "source": [
        "unique_tags = set()\n",
        "for tag in reduced_df['act_tag']:\n",
        "    unique_tags.add(tag)"
      ],
      "metadata": {
        "id": "POKAiv6Ymtbi"
      },
      "execution_count": 15,
      "outputs": []
    },
    {
      "cell_type": "code",
      "source": [
        "one_hot_encoding_dic = pd.get_dummies(list(unique_tags))\n",
        "tags_encoding = []\n",
        "for i in range(0, len(reduced_df)):\n",
        "    tags_encoding.append(one_hot_encoding_dic[reduced_df['act_tag'].iloc[i]])"
      ],
      "metadata": {
        "id": "6E6zu5yjmvcN"
      },
      "execution_count": 16,
      "outputs": []
    },
    {
      "cell_type": "code",
      "source": [
        "sentences = []\n",
        "for i in range(0, len(reduced_df)):\n",
        "    sentences.append(reduced_df['text'].iloc[i].split(\" \"))"
      ],
      "metadata": {
        "id": "vCX0wZkgmyjG"
      },
      "execution_count": 17,
      "outputs": []
    },
    {
      "cell_type": "code",
      "source": [
        "wordvectors = {}\n",
        "index = 1\n",
        "for s in sentences:\n",
        "    for w in s:\n",
        "        if w not in wordvectors:\n",
        "            wordvectors[w] = index\n",
        "            index += 1"
      ],
      "metadata": {
        "id": "vVgkH6EXm2FX"
      },
      "execution_count": 18,
      "outputs": []
    },
    {
      "cell_type": "code",
      "source": [
        "MAX_LENGTH = len(max(sentences, key=len))"
      ],
      "metadata": {
        "id": "ZtNf0tePm3wE"
      },
      "execution_count": 20,
      "outputs": []
    },
    {
      "cell_type": "code",
      "source": [
        "sentence_embeddings = []\n",
        "for s in sentences:\n",
        "    sentence_emb = []\n",
        "    for w in s:\n",
        "        sentence_emb.append(wordvectors[w])\n",
        "    sentence_embeddings.append(sentence_emb)"
      ],
      "metadata": {
        "id": "qH5xQ__ynIxQ"
      },
      "execution_count": 22,
      "outputs": []
    },
    {
      "cell_type": "code",
      "source": [
        "from sklearn.model_selection import train_test_split\n",
        "import numpy as np\n",
        "X_train, X_test, y_train, y_test = train_test_split(sentence_embeddings, np.array(tags_encoding),shuffle=False)"
      ],
      "metadata": {
        "id": "Ut-iQT89m6Of"
      },
      "execution_count": 23,
      "outputs": []
    },
    {
      "cell_type": "code",
      "source": [
        "from tensorflow.keras.preprocessing.sequence import pad_sequences\n",
        " \n",
        "train_sentences_X = pad_sequences(X_train, maxlen=MAX_LENGTH, padding='post')\n",
        "test_sentences_X = pad_sequences(X_test, maxlen=MAX_LENGTH, padding='post')"
      ],
      "metadata": {
        "id": "pN9W0qvEnKOW"
      },
      "execution_count": 24,
      "outputs": []
    },
    {
      "cell_type": "code",
      "source": [
        "train_sentences_X.shape,test_sentences_X.shape"
      ],
      "metadata": {
        "colab": {
          "base_uri": "https://localhost:8080/"
        },
        "id": "fIhi0ymbnMSf",
        "outputId": "dd18e56e-42c1-4664-a40e-a8b1ec6e0ee3"
      },
      "execution_count": 25,
      "outputs": [
        {
          "output_type": "execute_result",
          "data": {
            "text/plain": [
              "((167704, 137), (55902, 137))"
            ]
          },
          "metadata": {},
          "execution_count": 25
        }
      ]
    },
    {
      "cell_type": "code",
      "source": [
        "train_input = train_sentences_X[:140000]\n",
        "val_input = train_sentences_X[140000:]\n",
        "\n",
        "train_labels = y_train[:140000]\n",
        "val_labels = y_train[140000:]"
      ],
      "metadata": {
        "id": "3jdlTUrdnN1n"
      },
      "execution_count": 26,
      "outputs": []
    },
    {
      "cell_type": "code",
      "source": [
        "col_list = np.argmax(one_hot_encoding_dic.values.transpose(),axis = 1)\n",
        "one_hot_encoding_dict = { j:i for i,j in  zip(col_list, one_hot_encoding_dic.columns) }"
      ],
      "metadata": {
        "id": "e0pTYY3vnPZi"
      },
      "execution_count": 27,
      "outputs": []
    },
    {
      "cell_type": "code",
      "source": [
        "VOCAB_SIZE = len(wordvectors)\n",
        "MAX_LENGTH = len(max(sentences, key=len))\n",
        "EMBED_SIZE = 100\n",
        "HIDDEN_SIZE = len(unique_tags) "
      ],
      "metadata": {
        "id": "qKO7MyySnSBZ"
      },
      "execution_count": 28,
      "outputs": []
    },
    {
      "cell_type": "code",
      "source": [
        "from keras.layers import Dropout, InputLayer, Bidirectional, TimeDistributed, Activation, Embedding\n",
        "from keras.models import Sequential\n",
        "from keras.layers import LSTM\n",
        "from keras.layers import Dense\n",
        "\n",
        "model = Sequential()\n",
        "model.add(Embedding(VOCAB_SIZE,EMBED_SIZE,input_length=MAX_LENGTH))\n",
        "model.add(Bidirectional(LSTM(HIDDEN_SIZE,return_sequences=True,recurrent_dropout=0.7)))\n",
        "model.add(Bidirectional(LSTM(HIDDEN_SIZE,recurrent_dropout=0.7)))\n",
        "model.add(Dense(HIDDEN_SIZE))\n",
        "model.add(Activation('sigmoid'))\n",
        "\n",
        "\n",
        "model.compile(loss='categorical_crossentropy',optimizer='adam',metrics=['accuracy'])\n",
        "model.summary()"
      ],
      "metadata": {
        "colab": {
          "base_uri": "https://localhost:8080/"
        },
        "id": "kIMNNlQDnS2F",
        "outputId": "9c18bf66-aa6e-456c-caf9-8e408fa3d733"
      },
      "execution_count": 32,
      "outputs": [
        {
          "output_type": "stream",
          "name": "stdout",
          "text": [
            "Model: \"sequential_1\"\n",
            "_________________________________________________________________\n",
            " Layer (type)                Output Shape              Param #   \n",
            "=================================================================\n",
            " embedding_1 (Embedding)     (None, 137, 100)          4373100   \n",
            "                                                                 \n",
            " bidirectional (Bidirectiona  (None, 137, 86)          49536     \n",
            " l)                                                              \n",
            "                                                                 \n",
            " bidirectional_1 (Bidirectio  (None, 86)               44720     \n",
            " nal)                                                            \n",
            "                                                                 \n",
            " dense (Dense)               (None, 43)                3741      \n",
            "                                                                 \n",
            " activation (Activation)     (None, 43)                0         \n",
            "                                                                 \n",
            "=================================================================\n",
            "Total params: 4,471,097\n",
            "Trainable params: 4,471,097\n",
            "Non-trainable params: 0\n",
            "_________________________________________________________________\n"
          ]
        }
      ]
    },
    {
      "cell_type": "code",
      "source": [
        "history = model.fit(train_input,\n",
        "                    train_labels,\n",
        "                    epochs=3,\n",
        "                    batch_size=256,\n",
        "                    validation_data=(val_input, val_labels),\n",
        "                    verbose=1)"
      ],
      "metadata": {
        "colab": {
          "base_uri": "https://localhost:8080/"
        },
        "id": "DuubDJAqoBSd",
        "outputId": "ecbd23a6-3b2e-42fc-8f2f-4ebc0aa07917"
      },
      "execution_count": 33,
      "outputs": [
        {
          "output_type": "stream",
          "name": "stdout",
          "text": [
            "Epoch 1/3\n",
            "547/547 [==============================] - 697s 1s/step - loss: 1.5745 - accuracy: 0.5658 - val_loss: 1.2145 - val_accuracy: 0.6364\n",
            "Epoch 2/3\n",
            "547/547 [==============================] - 677s 1s/step - loss: 1.0892 - accuracy: 0.6801 - val_loss: 1.0446 - val_accuracy: 0.6868\n",
            "Epoch 3/3\n",
            "547/547 [==============================] - 683s 1s/step - loss: 0.9285 - accuracy: 0.7272 - val_loss: 0.9606 - val_accuracy: 0.7094\n"
          ]
        }
      ]
    },
    {
      "cell_type": "code",
      "source": [
        "filter_sizes = [3,4,5]\n",
        "num_filters = 64\n",
        "drop = 0.2\n",
        "VOCAB_SIZE = len(wordvectors) # 43,731\n",
        "MAX_LENGTH = len(max(sentences, key=len))\n",
        "EMBED_SIZE = 100 # arbitary\n",
        "HIDDEN_SIZE = len(unique_tags) "
      ],
      "metadata": {
        "id": "JYBVdGcg2wmK"
      },
      "execution_count": 38,
      "outputs": []
    },
    {
      "cell_type": "code",
      "source": [
        "# CNN model\n",
        "inputs = Input(shape=(MAX_LENGTH, ), dtype='int32')\n",
        "embedding = Embedding(input_dim=VOCAB_SIZE, output_dim=EMBED_SIZE, input_length=MAX_LENGTH)(inputs)\n",
        "reshape = Reshape((MAX_LENGTH, EMBED_SIZE, 1))(embedding)\n",
        "\n",
        "conv_0 = Conv2D(num_filters, kernel_size=(filter_sizes[0], EMBED_SIZE), strides=1, padding='valid', kernel_initializer='normal', activation='relu')(reshape)\n",
        "bn_0 = BatchNormalization()(conv_0)\n",
        "conv_1 = Conv2D(num_filters, kernel_size=(filter_sizes[1], EMBED_SIZE), strides=1, padding='valid', kernel_initializer='normal', activation='relu')(reshape)\n",
        "bn_1 = BatchNormalization()(conv_1)\n",
        "conv_2 = Conv2D(num_filters, kernel_size=(filter_sizes[2], EMBED_SIZE), strides=1, padding='valid', kernel_initializer='normal', activation='relu')(reshape)\n",
        "bn_2 = BatchNormalization()(conv_2)\n",
        "\n",
        "maxpool_0 = MaxPool2D(pool_size=(MAX_LENGTH - filter_sizes[0] + 1, 1), padding='valid')(bn_0)\n",
        "maxpool_1 = MaxPool2D(pool_size=(MAX_LENGTH - filter_sizes[1] + 1, 1), padding='valid')(bn_1)\n",
        "maxpool_2 = MaxPool2D(pool_size=(MAX_LENGTH - filter_sizes[2] + 1, 1), padding='valid')(bn_2)\n",
        "\n",
        "concatenate_tensors = concatenate([maxpool_0, maxpool_1,maxpool_2],axis=-1)\n",
        "flatten_concat = Flatten()(concatenate_tensors) \n",
        "dense_1 = Dense(units=HIDDEN_SIZE,input_shape=(1,),activation='relu')(flatten_concat) \n",
        "dropout_1 = Dropout(drop)(dense_1) "
      ],
      "metadata": {
        "id": "n8S4uol-3qqL"
      },
      "execution_count": 40,
      "outputs": []
    },
    {
      "cell_type": "code",
      "source": [
        "time_xx = TimeDistributed(Dense(HIDDEN_SIZE))(concatenate_tensors)\n",
        "\n",
        "_CNN_to_LSTM = Reshape((time_xx.shape[1]*time_xx.shape[2],int(time_xx.shape[3])),input_shape=time_xx.shape[1:4])(time_xx)\n",
        "b1 = Bidirectional(LSTM(HIDDEN_SIZE, return_sequences=True))(_CNN_to_LSTM)\n",
        "b2 = Bidirectional(LSTM(HIDDEN_SIZE))(b1)\n",
        "dense_2 = Dense(HIDDEN_SIZE)(b2)\n",
        "dropout_2 = Dropout(drop)(dense_2)"
      ],
      "metadata": {
        "id": "9P5z5JMj34or"
      },
      "execution_count": 42,
      "outputs": []
    },
    {
      "cell_type": "code",
      "source": [
        "y = concatenate([dropout_1, dropout_2],axis = -1)\n",
        "out = Dense(HIDDEN_SIZE)(y)\n",
        "out = Activation('sigmoid')(out)\n",
        "m = Model(inputs,out)\n",
        "m.compile(loss='categorical_crossentropy',optimizer='sgd',metrics=['accuracy'], )\n",
        "m.summary()"
      ],
      "metadata": {
        "colab": {
          "base_uri": "https://localhost:8080/"
        },
        "id": "sdRPvUn539so",
        "outputId": "eab54ae3-f510-434f-a31f-8fb804b8e477"
      },
      "execution_count": 44,
      "outputs": [
        {
          "output_type": "stream",
          "name": "stdout",
          "text": [
            "Model: \"model_1\"\n",
            "__________________________________________________________________________________________________\n",
            " Layer (type)                   Output Shape         Param #     Connected to                     \n",
            "==================================================================================================\n",
            " input_2 (InputLayer)           [(None, 137)]        0           []                               \n",
            "                                                                                                  \n",
            " embedding_3 (Embedding)        (None, 137, 100)     4373100     ['input_2[0][0]']                \n",
            "                                                                                                  \n",
            " reshape_1 (Reshape)            (None, 137, 100, 1)  0           ['embedding_3[0][0]']            \n",
            "                                                                                                  \n",
            " conv2d_3 (Conv2D)              (None, 135, 1, 64)   19264       ['reshape_1[0][0]']              \n",
            "                                                                                                  \n",
            " conv2d_4 (Conv2D)              (None, 134, 1, 64)   25664       ['reshape_1[0][0]']              \n",
            "                                                                                                  \n",
            " conv2d_5 (Conv2D)              (None, 133, 1, 64)   32064       ['reshape_1[0][0]']              \n",
            "                                                                                                  \n",
            " batch_normalization_3 (BatchNo  (None, 135, 1, 64)  256         ['conv2d_3[0][0]']               \n",
            " rmalization)                                                                                     \n",
            "                                                                                                  \n",
            " batch_normalization_4 (BatchNo  (None, 134, 1, 64)  256         ['conv2d_4[0][0]']               \n",
            " rmalization)                                                                                     \n",
            "                                                                                                  \n",
            " batch_normalization_5 (BatchNo  (None, 133, 1, 64)  256         ['conv2d_5[0][0]']               \n",
            " rmalization)                                                                                     \n",
            "                                                                                                  \n",
            " max_pooling2d_3 (MaxPooling2D)  (None, 1, 1, 64)    0           ['batch_normalization_3[0][0]']  \n",
            "                                                                                                  \n",
            " max_pooling2d_4 (MaxPooling2D)  (None, 1, 1, 64)    0           ['batch_normalization_4[0][0]']  \n",
            "                                                                                                  \n",
            " max_pooling2d_5 (MaxPooling2D)  (None, 1, 1, 64)    0           ['batch_normalization_5[0][0]']  \n",
            "                                                                                                  \n",
            " concatenate_1 (Concatenate)    (None, 1, 1, 192)    0           ['max_pooling2d_3[0][0]',        \n",
            "                                                                  'max_pooling2d_4[0][0]',        \n",
            "                                                                  'max_pooling2d_5[0][0]']        \n",
            "                                                                                                  \n",
            " time_distributed_1 (TimeDistri  (None, 1, 1, 43)    8299        ['concatenate_1[0][0]']          \n",
            " buted)                                                                                           \n",
            "                                                                                                  \n",
            " reshape_3 (Reshape)            (None, 1, 43)        0           ['time_distributed_1[0][0]']     \n",
            "                                                                                                  \n",
            " bidirectional_4 (Bidirectional  (None, 1, 86)       29928       ['reshape_3[0][0]']              \n",
            " )                                                                                                \n",
            "                                                                                                  \n",
            " flatten_1 (Flatten)            (None, 192)          0           ['concatenate_1[0][0]']          \n",
            "                                                                                                  \n",
            " bidirectional_5 (Bidirectional  (None, 86)          44720       ['bidirectional_4[0][0]']        \n",
            " )                                                                                                \n",
            "                                                                                                  \n",
            " dense_2 (Dense)                (None, 43)           8299        ['flatten_1[0][0]']              \n",
            "                                                                                                  \n",
            " dense_6 (Dense)                (None, 43)           3741        ['bidirectional_5[0][0]']        \n",
            "                                                                                                  \n",
            " dropout_1 (Dropout)            (None, 43)           0           ['dense_2[0][0]']                \n",
            "                                                                                                  \n",
            " dropout_3 (Dropout)            (None, 43)           0           ['dense_6[0][0]']                \n",
            "                                                                                                  \n",
            " concatenate_3 (Concatenate)    (None, 86)           0           ['dropout_1[0][0]',              \n",
            "                                                                  'dropout_3[0][0]']              \n",
            "                                                                                                  \n",
            " dense_8 (Dense)                (None, 43)           3741        ['concatenate_3[0][0]']          \n",
            "                                                                                                  \n",
            " activation_2 (Activation)      (None, 43)           0           ['dense_8[0][0]']                \n",
            "                                                                                                  \n",
            "==================================================================================================\n",
            "Total params: 4,549,588\n",
            "Trainable params: 4,549,204\n",
            "Non-trainable params: 384\n",
            "__________________________________________________________________________________________________\n"
          ]
        }
      ]
    },
    {
      "cell_type": "code",
      "source": [
        "history = m.fit(train_input,\n",
        "                    train_labels,\n",
        "                    epochs=3,\n",
        "                    batch_size=64,\n",
        "                    validation_data=(val_input, val_labels),\n",
        "                    verbose=1)"
      ],
      "metadata": {
        "colab": {
          "base_uri": "https://localhost:8080/"
        },
        "id": "Y-hQyGVh4CiX",
        "outputId": "daf26af2-7b48-4a3c-830b-53f05fadbe59"
      },
      "execution_count": 45,
      "outputs": [
        {
          "output_type": "stream",
          "name": "stdout",
          "text": [
            "Epoch 1/3\n",
            "2188/2188 [==============================] - 427s 190ms/step - loss: 1.4432 - accuracy: 0.6026 - val_loss: 1.2032 - val_accuracy: 0.6360\n",
            "Epoch 2/3\n",
            "2188/2188 [==============================] - 396s 181ms/step - loss: 1.1736 - accuracy: 0.6583 - val_loss: 1.0913 - val_accuracy: 0.6648\n",
            "Epoch 3/3\n",
            "2188/2188 [==============================] - 403s 184ms/step - loss: 1.0831 - accuracy: 0.6784 - val_loss: 1.0196 - val_accuracy: 0.6905\n"
          ]
        }
      ]
    }
  ],
  "metadata": {
    "colab": {
      "provenance": []
    },
    "kernelspec": {
      "display_name": "Python 3",
      "name": "python3"
    },
    "language_info": {
      "name": "python"
    }
  },
  "nbformat": 4,
  "nbformat_minor": 0
}